{
 "metadata": {
  "language_info": {
   "codemirror_mode": {
    "name": "ipython",
    "version": 3
   },
   "file_extension": ".py",
   "mimetype": "text/x-python",
   "name": "python",
   "nbconvert_exporter": "python",
   "pygments_lexer": "ipython3",
   "version": "3.8.3-final"
  },
  "orig_nbformat": 2,
  "kernelspec": {
   "name": "Python 3.8.3 64-bit (conda)",
   "display_name": "Python 3.8.3 64-bit (conda)",
   "metadata": {
    "interpreter": {
     "hash": "9bd3154169915c5abcf572b70399d58e505aefce794ee665727c29afaa6b2771"
    }
   }
  }
 },
 "nbformat": 4,
 "nbformat_minor": 2,
 "cells": [
  {
   "cell_type": "code",
   "execution_count": 18,
   "metadata": {},
   "outputs": [
    {
     "output_type": "stream",
     "name": "stdout",
     "text": [
      "0 1 2 3 4 5 6 7 8 9 10 11 12 13 14 15 16 17 18 19 20 21 22 23 24 25 26 27 28 29 30 31 32 33 34 35 36 37 38 39 40 41 42 43 44 45 46 47 48 49 50 51 52 53 54 55 56 57 58 59 60 61 62 63 64 65 66 67 68 69 70 71 72 73 74 75 76 77 78 79 80 81 82 83 84 85 86 87 88 89 90 91 92 93 94 95 96 97 98 99 100 "
     ]
    }
   ],
   "source": [
    "for i in range(0,101):\n",
    "    print(i, end=\" \")"
   ]
  },
  {
   "cell_type": "code",
   "execution_count": 25,
   "metadata": {},
   "outputs": [
    {
     "output_type": "stream",
     "name": "stdout",
     "text": [
      "1 2 3 4 Burr\n6 7 8 9 Burr\n11 12 13 14 Burr\n16 17 18 19 Burr\n21 22 23 24 Burr\n26 27 28 29 Burr\n31 32 33 34 Burr\n36 37 38 39 Burr\n41 42 43 44 Burr\n46 47 48 49 Burr\n51 52 53 54 Burr\n56 57 58 59 Burr\n61 62 63 64 Burr\n66 67 68 69 Burr\n71 72 73 74 Burr\n76 77 78 79 Burr\n81 82 83 84 Burr\n86 87 88 89 Burr\n91 92 93 94 Burr\n96 97 98 99 Burr\n"
     ]
    }
   ],
   "source": [
    "n = 0\n",
    "\n",
    "\n",
    "while n < 100:\n",
    "    n = n+1\n",
    "    if n % 5:\n",
    "        print(n, end = \" \")\n",
    "    else:\n",
    "        print(\"Burr\")"
   ]
  },
  {
   "cell_type": "code",
   "execution_count": 2,
   "metadata": {},
   "outputs": [
    {
     "output_type": "stream",
     "name": "stdout",
     "text": [
      "1 2 Burr\n4 5 Burr\n7 8 Burr\n10 11 Burr\n13 14 Burr\n16 17 Burr\n19 20 Burr\n22 23 Burr\n25 26 Burr\n28 29 Burr\n31 32 Burr\n34 35 Burr\n37 38 Burr\n40 41 Burr\n43 44 Burr\n46 47 Burr\n49 50 Burr\n52 53 Burr\n55 56 Burr\n58 59 Burr\n61 62 Burr\n64 65 Burr\n67 68 Burr\n70 71 Burr\n73 74 Burr\n76 77 Burr\n79 80 Burr\n82 83 Burr\n85 86 Burr\n88 89 Burr\n91 92 Burr\n94 95 Burr\n97 98 Burr\n100 "
     ]
    }
   ],
   "source": [
    "n = 0\n",
    "\n",
    "multibel = float(input(\"Ange ett tal\"))\n",
    "\n",
    "while n < 100:\n",
    "    n = n+1\n",
    "    if n % multibel:\n",
    "        print(n, end = \" \")\n",
    "    else:\n",
    "        print(\"Burr\")"
   ]
  },
  {
   "cell_type": "code",
   "execution_count": 35,
   "metadata": {
    "tags": []
   },
   "outputs": [
    {
     "output_type": "stream",
     "name": "stdout",
     "text": [
      "1 2 3 burr 5 6 7 burr 9 birr 11 burr 13 14 15 burr 17 18 19 Burr,birr 21 22 23 burr 25 26 27 burr 29 birr 31 burr 33 34 35 burr 37 38 39 Burr,birr 41 42 43 burr 45 46 47 burr 49 birr 51 burr 53 54 55 burr 57 58 59 Burr,birr 61 62 63 burr 65 66 67 burr 69 birr 71 burr 73 74 75 burr 77 78 79 Burr,birr 81 82 83 burr 85 86 87 burr 89 birr 91 burr 93 94 95 burr 97 98 99 Burr,birr "
     ]
    }
   ],
   "source": [
    "x = float(input(\"Ange ett tal\"))\n",
    "y = float(input(\"Ange ett till tal\"))\n",
    "\n",
    "for i in range(1,101):\n",
    "    if i % x == 0 and i % y == 0:\n",
    "        print(\"Burr,birr\", end=\" \")\n",
    "    elif i % x == 0:\n",
    "        print(\"burr\", end=\" \")\n",
    "    elif i % y == 0:\n",
    "        print(\"birr\", end=\" \")\n",
    "    else:\n",
    "        print(i, end=\" \")"
   ]
  },
  {
   "cell_type": "code",
   "execution_count": 38,
   "metadata": {},
   "outputs": [
    {
     "output_type": "error",
     "ename": "SyntaxError",
     "evalue": "invalid syntax (<ipython-input-38-c178bdd8b329>, line 6)",
     "traceback": [
      "\u001b[1;36m  File \u001b[1;32m\"<ipython-input-38-c178bdd8b329>\"\u001b[1;36m, line \u001b[1;32m6\u001b[0m\n\u001b[1;33m    for i in range(z,(n + 1):\u001b[0m\n\u001b[1;37m                            ^\u001b[0m\n\u001b[1;31mSyntaxError\u001b[0m\u001b[1;31m:\u001b[0m invalid syntax\n"
     ]
    }
   ],
   "source": [
    "x = float(input(\"Ange ett tal\"))\n",
    "y = float(input(\"Ange ett till tal\"))\n",
    "z = int(input(\"Ange ett startvärde\"))\n",
    "n = int(input(\"Ange ett slutvärde\"))\n",
    "\n",
    "for i in range(z,n):\n",
    "    if i % x == 0 and i % y == 0:\n",
    "        print(\"Burr,birr\", end=\" \")\n",
    "    elif i % x == 0:\n",
    "        print(\"burr\", end=\" \")\n",
    "    elif i % y == 0:\n",
    "        print(\"birr\", end=\" \")\n",
    "    else:\n",
    "        print(i, end=\" \")"
   ]
  },
  {
   "cell_type": "code",
   "execution_count": null,
   "metadata": {},
   "outputs": [],
   "source": []
  },
  {
   "cell_type": "code",
   "execution_count": null,
   "metadata": {},
   "outputs": [],
   "source": []
  },
  {
   "cell_type": "code",
   "execution_count": 37,
   "metadata": {},
   "outputs": [
    {
     "output_type": "stream",
     "name": "stdout",
     "text": [
      "Avståndet från origo till (0,5.0,5) är 0.7071067811865476 l.e\n"
     ]
    }
   ],
   "source": [
    "import math\n",
    "\n",
    "x = 0.5\n",
    "y = 0.5\n",
    "\n",
    "c = sqrt(x**2 + y**2)\n",
    "\n",
    "print(f\"Avståndet från origo till (0,5.0,5) är {c} l.e\")\n"
   ]
  },
  {
   "cell_type": "code",
   "execution_count": 38,
   "metadata": {},
   "outputs": [
    {
     "output_type": "stream",
     "name": "stdout",
     "text": [
      "Avståndet från origo till (1.1) är 1.4142135623730951 l.e\n"
     ]
    }
   ],
   "source": [
    "import math\n",
    "\n",
    "x = 1\n",
    "y = 1\n",
    "\n",
    "c = sqrt(x**2 + y**2)\n",
    "\n",
    "print(f\"Avståndet från origo till (1.1) är {c} l.e\")"
   ]
  },
  {
   "cell_type": "code",
   "execution_count": 41,
   "metadata": {},
   "outputs": [
    {
     "output_type": "stream",
     "name": "stdout",
     "text": [
      "Avståndet från origo till (0,5.-0,5) är 0.7071067811865476 l.e\n"
     ]
    }
   ],
   "source": [
    "import math\n",
    "\n",
    "x = 0.5\n",
    "y = -0.5\n",
    "\n",
    "c = sqrt(x**2 + y**2)\n",
    "\n",
    "print(f\"Avståndet från origo till (0,5.-0,5) är {c} l.e\")"
   ]
  },
  {
   "cell_type": "code",
   "execution_count": 16,
   "metadata": {},
   "outputs": [
    {
     "output_type": "stream",
     "name": "stdout",
     "text": [
      "(0.56, 0.59)\n(-0.02, -0.66)\n(-0.92, 0.21)\n(-0.16, -0.49)\n(-0.69, 0.67)\n(0.88, 0.27)\n(-0.57, 0.51)\n(0.34, -0.98)\n(-0.88, -0.31)\n(-0.95, 0.13)\n"
     ]
    }
   ],
   "source": [
    "import random\n",
    "\n",
    "\n",
    "for i in range(0,10):\n",
    "    x = round(random.uniform(-1,1),2)\n",
    "    y = round(random.uniform(-1,1),2)\n",
    "    print((x,y))\n",
    "\n",
    "\n",
    "\n"
   ]
  },
  {
   "cell_type": "code",
   "execution_count": 5,
   "metadata": {},
   "outputs": [
    {
     "output_type": "stream",
     "name": "stdout",
     "text": [
      "Antalet procent av punkterna som ligger inuti cirkeln är 75.0 % av 100 punkter\n"
     ]
    }
   ],
   "source": [
    "import random \n",
    "\n",
    "n = 0\n",
    "\n",
    "for i in range(0,100):\n",
    "    x = round(random.uniform(-1,1),2)\n",
    "    y = round(random.uniform(-1,1),2)\n",
    "    if x**2 + y**2 <= 1:\n",
    "        n += 1\n",
    "\n",
    "print(\"Antalet procent av punkterna som ligger inuti cirkeln är\", ((n / 100)*100), \"% av 100 punkter\")\n",
    "\n",
    "\n",
    "\n"
   ]
  },
  {
   "cell_type": "code",
   "execution_count": 156,
   "metadata": {},
   "outputs": [
    {
     "output_type": "stream",
     "name": "stdout",
     "text": [
      "Andelen punkter inutti cirkeln multiplicerat med 4 = 3.0\nSlutsatsen som man kan dra genom detta är att svaret alltid är väldigt nära pi. Detta svaret blir mer exakt desto mer punkter du simmulerar.\n"
     ]
    }
   ],
   "source": [
    "\n",
    "\n",
    "import random \n",
    "\n",
    "n = 0\n",
    "\n",
    "for i in range(0,100):\n",
    "    x = round(random.uniform(-1,1),2)\n",
    "    y = round(random.uniform(-1,1),2)\n",
    "    if x**2 + y**2 <= 1:\n",
    "        n += 1\n",
    "\n",
    "x = ((n / 100))\n",
    "\n",
    "\n",
    "print(\"Andelen punkter inutti cirkeln multiplicerat med 4 =\", (x*4))\n",
    "\n",
    "print(\"Slutsatsen som man kan dra genom detta är att svaret alltid är väldigt nära pi. Detta svaret blir mer exakt desto mer punkter du simmulerar.\")"
   ]
  },
  {
   "source": [
    "import random\n",
    "import matplotlib.pyplot as plt\n",
    "\n",
    "\n",
    "for i in range(0,100):\n",
    "    x = round(random.uniform(-1,1),2)\n",
    "    y = round(random.uniform(-1,1),2)\n",
    "    if x**2+y**2 <= 1:\n",
    "        plt.plot(x,y, '*b')\n",
    "    else:\n",
    "        plt.plot(x,y, '*r')\n",
    "    \n",
    "\n",
    "plt.grid()\n",
    "plt.show()\n"
   ],
   "cell_type": "code",
   "metadata": {},
   "execution_count": 15,
   "outputs": [
    {
     "output_type": "display_data",
     "data": {
      "text/plain": "<Figure size 432x288 with 1 Axes>",
      "image/svg+xml": "<?xml version=\"1.0\" encoding=\"utf-8\" standalone=\"no\"?>\r\n<!DOCTYPE svg PUBLIC \"-//W3C//DTD SVG 1.1//EN\"\r\n  \"http://www.w3.org/Graphics/SVG/1.1/DTD/svg11.dtd\">\r\n<!-- Created with matplotlib (https://matplotlib.org/) -->\r\n<svg height=\"248.518125pt\" version=\"1.1\" viewBox=\"0 0 386.845312 248.518125\" width=\"386.845312pt\" xmlns=\"http://www.w3.org/2000/svg\" xmlns:xlink=\"http://www.w3.org/1999/xlink\">\r\n <defs>\r\n  <style type=\"text/css\">\r\n*{stroke-linecap:butt;stroke-linejoin:round;}\r\n  </style>\r\n </defs>\r\n <g id=\"figure_1\">\r\n  <g id=\"patch_1\">\r\n   <path d=\"M 0 248.518125 \r\nL 386.845312 248.518125 \r\nL 386.845312 0 \r\nL 0 0 \r\nz\r\n\" style=\"fill:none;\"/>\r\n  </g>\r\n  <g id=\"axes_1\">\r\n   <g id=\"patch_2\">\r\n    <path d=\"M 44.845313 224.64 \r\nL 379.645313 224.64 \r\nL 379.645313 7.2 \r\nL 44.845313 7.2 \r\nz\r\n\" style=\"fill:#ffffff;\"/>\r\n   </g>\r\n   <g id=\"matplotlib.axis_1\">\r\n    <g id=\"xtick_1\">\r\n     <g id=\"line2d_1\">\r\n      <path clip-path=\"url(#p95202d47d3)\" d=\"M 58.534029 224.64 \r\nL 58.534029 7.2 \r\n\" style=\"fill:none;stroke:#b0b0b0;stroke-linecap:square;stroke-width:0.8;\"/>\r\n     </g>\r\n     <g id=\"line2d_2\">\r\n      <defs>\r\n       <path d=\"M 0 0 \r\nL 0 3.5 \r\n\" id=\"mb81f801c33\" style=\"stroke:#000000;stroke-width:0.8;\"/>\r\n      </defs>\r\n      <g>\r\n       <use style=\"stroke:#000000;stroke-width:0.8;\" x=\"58.534029\" xlink:href=\"#mb81f801c33\" y=\"224.64\"/>\r\n      </g>\r\n     </g>\r\n     <g id=\"text_1\">\r\n      <!-- −1.00 -->\r\n      <defs>\r\n       <path d=\"M 10.59375 35.5 \r\nL 73.1875 35.5 \r\nL 73.1875 27.203125 \r\nL 10.59375 27.203125 \r\nz\r\n\" id=\"DejaVuSans-8722\"/>\r\n       <path d=\"M 12.40625 8.296875 \r\nL 28.515625 8.296875 \r\nL 28.515625 63.921875 \r\nL 10.984375 60.40625 \r\nL 10.984375 69.390625 \r\nL 28.421875 72.90625 \r\nL 38.28125 72.90625 \r\nL 38.28125 8.296875 \r\nL 54.390625 8.296875 \r\nL 54.390625 0 \r\nL 12.40625 0 \r\nz\r\n\" id=\"DejaVuSans-49\"/>\r\n       <path d=\"M 10.6875 12.40625 \r\nL 21 12.40625 \r\nL 21 0 \r\nL 10.6875 0 \r\nz\r\n\" id=\"DejaVuSans-46\"/>\r\n       <path d=\"M 31.78125 66.40625 \r\nQ 24.171875 66.40625 20.328125 58.90625 \r\nQ 16.5 51.421875 16.5 36.375 \r\nQ 16.5 21.390625 20.328125 13.890625 \r\nQ 24.171875 6.390625 31.78125 6.390625 \r\nQ 39.453125 6.390625 43.28125 13.890625 \r\nQ 47.125 21.390625 47.125 36.375 \r\nQ 47.125 51.421875 43.28125 58.90625 \r\nQ 39.453125 66.40625 31.78125 66.40625 \r\nz\r\nM 31.78125 74.21875 \r\nQ 44.046875 74.21875 50.515625 64.515625 \r\nQ 56.984375 54.828125 56.984375 36.375 \r\nQ 56.984375 17.96875 50.515625 8.265625 \r\nQ 44.046875 -1.421875 31.78125 -1.421875 \r\nQ 19.53125 -1.421875 13.0625 8.265625 \r\nQ 6.59375 17.96875 6.59375 36.375 \r\nQ 6.59375 54.828125 13.0625 64.515625 \r\nQ 19.53125 74.21875 31.78125 74.21875 \r\nz\r\n\" id=\"DejaVuSans-48\"/>\r\n      </defs>\r\n      <g transform=\"translate(43.211373 239.238437)scale(0.1 -0.1)\">\r\n       <use xlink:href=\"#DejaVuSans-8722\"/>\r\n       <use x=\"83.789062\" xlink:href=\"#DejaVuSans-49\"/>\r\n       <use x=\"147.412109\" xlink:href=\"#DejaVuSans-46\"/>\r\n       <use x=\"179.199219\" xlink:href=\"#DejaVuSans-48\"/>\r\n       <use x=\"242.822266\" xlink:href=\"#DejaVuSans-48\"/>\r\n      </g>\r\n     </g>\r\n    </g>\r\n    <g id=\"xtick_2\">\r\n     <g id=\"line2d_3\">\r\n      <path clip-path=\"url(#p95202d47d3)\" d=\"M 96.770667 224.64 \r\nL 96.770667 7.2 \r\n\" style=\"fill:none;stroke:#b0b0b0;stroke-linecap:square;stroke-width:0.8;\"/>\r\n     </g>\r\n     <g id=\"line2d_4\">\r\n      <g>\r\n       <use style=\"stroke:#000000;stroke-width:0.8;\" x=\"96.770667\" xlink:href=\"#mb81f801c33\" y=\"224.64\"/>\r\n      </g>\r\n     </g>\r\n     <g id=\"text_2\">\r\n      <!-- −0.75 -->\r\n      <defs>\r\n       <path d=\"M 8.203125 72.90625 \r\nL 55.078125 72.90625 \r\nL 55.078125 68.703125 \r\nL 28.609375 0 \r\nL 18.3125 0 \r\nL 43.21875 64.59375 \r\nL 8.203125 64.59375 \r\nz\r\n\" id=\"DejaVuSans-55\"/>\r\n       <path d=\"M 10.796875 72.90625 \r\nL 49.515625 72.90625 \r\nL 49.515625 64.59375 \r\nL 19.828125 64.59375 \r\nL 19.828125 46.734375 \r\nQ 21.96875 47.46875 24.109375 47.828125 \r\nQ 26.265625 48.1875 28.421875 48.1875 \r\nQ 40.625 48.1875 47.75 41.5 \r\nQ 54.890625 34.8125 54.890625 23.390625 \r\nQ 54.890625 11.625 47.5625 5.09375 \r\nQ 40.234375 -1.421875 26.90625 -1.421875 \r\nQ 22.3125 -1.421875 17.546875 -0.640625 \r\nQ 12.796875 0.140625 7.71875 1.703125 \r\nL 7.71875 11.625 \r\nQ 12.109375 9.234375 16.796875 8.0625 \r\nQ 21.484375 6.890625 26.703125 6.890625 \r\nQ 35.15625 6.890625 40.078125 11.328125 \r\nQ 45.015625 15.765625 45.015625 23.390625 \r\nQ 45.015625 31 40.078125 35.4375 \r\nQ 35.15625 39.890625 26.703125 39.890625 \r\nQ 22.75 39.890625 18.8125 39.015625 \r\nQ 14.890625 38.140625 10.796875 36.28125 \r\nz\r\n\" id=\"DejaVuSans-53\"/>\r\n      </defs>\r\n      <g transform=\"translate(81.44801 239.238437)scale(0.1 -0.1)\">\r\n       <use xlink:href=\"#DejaVuSans-8722\"/>\r\n       <use x=\"83.789062\" xlink:href=\"#DejaVuSans-48\"/>\r\n       <use x=\"147.412109\" xlink:href=\"#DejaVuSans-46\"/>\r\n       <use x=\"179.199219\" xlink:href=\"#DejaVuSans-55\"/>\r\n       <use x=\"242.822266\" xlink:href=\"#DejaVuSans-53\"/>\r\n      </g>\r\n     </g>\r\n    </g>\r\n    <g id=\"xtick_3\">\r\n     <g id=\"line2d_5\">\r\n      <path clip-path=\"url(#p95202d47d3)\" d=\"M 135.007304 224.64 \r\nL 135.007304 7.2 \r\n\" style=\"fill:none;stroke:#b0b0b0;stroke-linecap:square;stroke-width:0.8;\"/>\r\n     </g>\r\n     <g id=\"line2d_6\">\r\n      <g>\r\n       <use style=\"stroke:#000000;stroke-width:0.8;\" x=\"135.007304\" xlink:href=\"#mb81f801c33\" y=\"224.64\"/>\r\n      </g>\r\n     </g>\r\n     <g id=\"text_3\">\r\n      <!-- −0.50 -->\r\n      <g transform=\"translate(119.684648 239.238437)scale(0.1 -0.1)\">\r\n       <use xlink:href=\"#DejaVuSans-8722\"/>\r\n       <use x=\"83.789062\" xlink:href=\"#DejaVuSans-48\"/>\r\n       <use x=\"147.412109\" xlink:href=\"#DejaVuSans-46\"/>\r\n       <use x=\"179.199219\" xlink:href=\"#DejaVuSans-53\"/>\r\n       <use x=\"242.822266\" xlink:href=\"#DejaVuSans-48\"/>\r\n      </g>\r\n     </g>\r\n    </g>\r\n    <g id=\"xtick_4\">\r\n     <g id=\"line2d_7\">\r\n      <path clip-path=\"url(#p95202d47d3)\" d=\"M 173.243942 224.64 \r\nL 173.243942 7.2 \r\n\" style=\"fill:none;stroke:#b0b0b0;stroke-linecap:square;stroke-width:0.8;\"/>\r\n     </g>\r\n     <g id=\"line2d_8\">\r\n      <g>\r\n       <use style=\"stroke:#000000;stroke-width:0.8;\" x=\"173.243942\" xlink:href=\"#mb81f801c33\" y=\"224.64\"/>\r\n      </g>\r\n     </g>\r\n     <g id=\"text_4\">\r\n      <!-- −0.25 -->\r\n      <defs>\r\n       <path d=\"M 19.1875 8.296875 \r\nL 53.609375 8.296875 \r\nL 53.609375 0 \r\nL 7.328125 0 \r\nL 7.328125 8.296875 \r\nQ 12.9375 14.109375 22.625 23.890625 \r\nQ 32.328125 33.6875 34.8125 36.53125 \r\nQ 39.546875 41.84375 41.421875 45.53125 \r\nQ 43.3125 49.21875 43.3125 52.78125 \r\nQ 43.3125 58.59375 39.234375 62.25 \r\nQ 35.15625 65.921875 28.609375 65.921875 \r\nQ 23.96875 65.921875 18.8125 64.3125 \r\nQ 13.671875 62.703125 7.8125 59.421875 \r\nL 7.8125 69.390625 \r\nQ 13.765625 71.78125 18.9375 73 \r\nQ 24.125 74.21875 28.421875 74.21875 \r\nQ 39.75 74.21875 46.484375 68.546875 \r\nQ 53.21875 62.890625 53.21875 53.421875 \r\nQ 53.21875 48.921875 51.53125 44.890625 \r\nQ 49.859375 40.875 45.40625 35.40625 \r\nQ 44.1875 33.984375 37.640625 27.21875 \r\nQ 31.109375 20.453125 19.1875 8.296875 \r\nz\r\n\" id=\"DejaVuSans-50\"/>\r\n      </defs>\r\n      <g transform=\"translate(157.921286 239.238437)scale(0.1 -0.1)\">\r\n       <use xlink:href=\"#DejaVuSans-8722\"/>\r\n       <use x=\"83.789062\" xlink:href=\"#DejaVuSans-48\"/>\r\n       <use x=\"147.412109\" xlink:href=\"#DejaVuSans-46\"/>\r\n       <use x=\"179.199219\" xlink:href=\"#DejaVuSans-50\"/>\r\n       <use x=\"242.822266\" xlink:href=\"#DejaVuSans-53\"/>\r\n      </g>\r\n     </g>\r\n    </g>\r\n    <g id=\"xtick_5\">\r\n     <g id=\"line2d_9\">\r\n      <path clip-path=\"url(#p95202d47d3)\" d=\"M 211.48058 224.64 \r\nL 211.48058 7.2 \r\n\" style=\"fill:none;stroke:#b0b0b0;stroke-linecap:square;stroke-width:0.8;\"/>\r\n     </g>\r\n     <g id=\"line2d_10\">\r\n      <g>\r\n       <use style=\"stroke:#000000;stroke-width:0.8;\" x=\"211.48058\" xlink:href=\"#mb81f801c33\" y=\"224.64\"/>\r\n      </g>\r\n     </g>\r\n     <g id=\"text_5\">\r\n      <!-- 0.00 -->\r\n      <g transform=\"translate(200.347767 239.238437)scale(0.1 -0.1)\">\r\n       <use xlink:href=\"#DejaVuSans-48\"/>\r\n       <use x=\"63.623047\" xlink:href=\"#DejaVuSans-46\"/>\r\n       <use x=\"95.410156\" xlink:href=\"#DejaVuSans-48\"/>\r\n       <use x=\"159.033203\" xlink:href=\"#DejaVuSans-48\"/>\r\n      </g>\r\n     </g>\r\n    </g>\r\n    <g id=\"xtick_6\">\r\n     <g id=\"line2d_11\">\r\n      <path clip-path=\"url(#p95202d47d3)\" d=\"M 249.717217 224.64 \r\nL 249.717217 7.2 \r\n\" style=\"fill:none;stroke:#b0b0b0;stroke-linecap:square;stroke-width:0.8;\"/>\r\n     </g>\r\n     <g id=\"line2d_12\">\r\n      <g>\r\n       <use style=\"stroke:#000000;stroke-width:0.8;\" x=\"249.717217\" xlink:href=\"#mb81f801c33\" y=\"224.64\"/>\r\n      </g>\r\n     </g>\r\n     <g id=\"text_6\">\r\n      <!-- 0.25 -->\r\n      <g transform=\"translate(238.584405 239.238437)scale(0.1 -0.1)\">\r\n       <use xlink:href=\"#DejaVuSans-48\"/>\r\n       <use x=\"63.623047\" xlink:href=\"#DejaVuSans-46\"/>\r\n       <use x=\"95.410156\" xlink:href=\"#DejaVuSans-50\"/>\r\n       <use x=\"159.033203\" xlink:href=\"#DejaVuSans-53\"/>\r\n      </g>\r\n     </g>\r\n    </g>\r\n    <g id=\"xtick_7\">\r\n     <g id=\"line2d_13\">\r\n      <path clip-path=\"url(#p95202d47d3)\" d=\"M 287.953855 224.64 \r\nL 287.953855 7.2 \r\n\" style=\"fill:none;stroke:#b0b0b0;stroke-linecap:square;stroke-width:0.8;\"/>\r\n     </g>\r\n     <g id=\"line2d_14\">\r\n      <g>\r\n       <use style=\"stroke:#000000;stroke-width:0.8;\" x=\"287.953855\" xlink:href=\"#mb81f801c33\" y=\"224.64\"/>\r\n      </g>\r\n     </g>\r\n     <g id=\"text_7\">\r\n      <!-- 0.50 -->\r\n      <g transform=\"translate(276.821043 239.238437)scale(0.1 -0.1)\">\r\n       <use xlink:href=\"#DejaVuSans-48\"/>\r\n       <use x=\"63.623047\" xlink:href=\"#DejaVuSans-46\"/>\r\n       <use x=\"95.410156\" xlink:href=\"#DejaVuSans-53\"/>\r\n       <use x=\"159.033203\" xlink:href=\"#DejaVuSans-48\"/>\r\n      </g>\r\n     </g>\r\n    </g>\r\n    <g id=\"xtick_8\">\r\n     <g id=\"line2d_15\">\r\n      <path clip-path=\"url(#p95202d47d3)\" d=\"M 326.190493 224.64 \r\nL 326.190493 7.2 \r\n\" style=\"fill:none;stroke:#b0b0b0;stroke-linecap:square;stroke-width:0.8;\"/>\r\n     </g>\r\n     <g id=\"line2d_16\">\r\n      <g>\r\n       <use style=\"stroke:#000000;stroke-width:0.8;\" x=\"326.190493\" xlink:href=\"#mb81f801c33\" y=\"224.64\"/>\r\n      </g>\r\n     </g>\r\n     <g id=\"text_8\">\r\n      <!-- 0.75 -->\r\n      <g transform=\"translate(315.05768 239.238437)scale(0.1 -0.1)\">\r\n       <use xlink:href=\"#DejaVuSans-48\"/>\r\n       <use x=\"63.623047\" xlink:href=\"#DejaVuSans-46\"/>\r\n       <use x=\"95.410156\" xlink:href=\"#DejaVuSans-55\"/>\r\n       <use x=\"159.033203\" xlink:href=\"#DejaVuSans-53\"/>\r\n      </g>\r\n     </g>\r\n    </g>\r\n    <g id=\"xtick_9\">\r\n     <g id=\"line2d_17\">\r\n      <path clip-path=\"url(#p95202d47d3)\" d=\"M 364.427131 224.64 \r\nL 364.427131 7.2 \r\n\" style=\"fill:none;stroke:#b0b0b0;stroke-linecap:square;stroke-width:0.8;\"/>\r\n     </g>\r\n     <g id=\"line2d_18\">\r\n      <g>\r\n       <use style=\"stroke:#000000;stroke-width:0.8;\" x=\"364.427131\" xlink:href=\"#mb81f801c33\" y=\"224.64\"/>\r\n      </g>\r\n     </g>\r\n     <g id=\"text_9\">\r\n      <!-- 1.00 -->\r\n      <g transform=\"translate(353.294318 239.238437)scale(0.1 -0.1)\">\r\n       <use xlink:href=\"#DejaVuSans-49\"/>\r\n       <use x=\"63.623047\" xlink:href=\"#DejaVuSans-46\"/>\r\n       <use x=\"95.410156\" xlink:href=\"#DejaVuSans-48\"/>\r\n       <use x=\"159.033203\" xlink:href=\"#DejaVuSans-48\"/>\r\n      </g>\r\n     </g>\r\n    </g>\r\n   </g>\r\n   <g id=\"matplotlib.axis_2\">\r\n    <g id=\"ytick_1\">\r\n     <g id=\"line2d_19\">\r\n      <path clip-path=\"url(#p95202d47d3)\" d=\"M 44.845313 221.925841 \r\nL 379.645313 221.925841 \r\n\" style=\"fill:none;stroke:#b0b0b0;stroke-linecap:square;stroke-width:0.8;\"/>\r\n     </g>\r\n     <g id=\"line2d_20\">\r\n      <defs>\r\n       <path d=\"M 0 0 \r\nL -3.5 0 \r\n\" id=\"mcdbacde177\" style=\"stroke:#000000;stroke-width:0.8;\"/>\r\n      </defs>\r\n      <g>\r\n       <use style=\"stroke:#000000;stroke-width:0.8;\" x=\"44.845313\" xlink:href=\"#mcdbacde177\" y=\"221.925841\"/>\r\n      </g>\r\n     </g>\r\n     <g id=\"text_10\">\r\n      <!-- −1.00 -->\r\n      <g transform=\"translate(7.2 225.72506)scale(0.1 -0.1)\">\r\n       <use xlink:href=\"#DejaVuSans-8722\"/>\r\n       <use x=\"83.789062\" xlink:href=\"#DejaVuSans-49\"/>\r\n       <use x=\"147.412109\" xlink:href=\"#DejaVuSans-46\"/>\r\n       <use x=\"179.199219\" xlink:href=\"#DejaVuSans-48\"/>\r\n       <use x=\"242.822266\" xlink:href=\"#DejaVuSans-48\"/>\r\n      </g>\r\n     </g>\r\n    </g>\r\n    <g id=\"ytick_2\">\r\n     <g id=\"line2d_21\">\r\n      <path clip-path=\"url(#p95202d47d3)\" d=\"M 44.845313 196.320565 \r\nL 379.645313 196.320565 \r\n\" style=\"fill:none;stroke:#b0b0b0;stroke-linecap:square;stroke-width:0.8;\"/>\r\n     </g>\r\n     <g id=\"line2d_22\">\r\n      <g>\r\n       <use style=\"stroke:#000000;stroke-width:0.8;\" x=\"44.845313\" xlink:href=\"#mcdbacde177\" y=\"196.320565\"/>\r\n      </g>\r\n     </g>\r\n     <g id=\"text_11\">\r\n      <!-- −0.75 -->\r\n      <g transform=\"translate(7.2 200.119784)scale(0.1 -0.1)\">\r\n       <use xlink:href=\"#DejaVuSans-8722\"/>\r\n       <use x=\"83.789062\" xlink:href=\"#DejaVuSans-48\"/>\r\n       <use x=\"147.412109\" xlink:href=\"#DejaVuSans-46\"/>\r\n       <use x=\"179.199219\" xlink:href=\"#DejaVuSans-55\"/>\r\n       <use x=\"242.822266\" xlink:href=\"#DejaVuSans-53\"/>\r\n      </g>\r\n     </g>\r\n    </g>\r\n    <g id=\"ytick_3\">\r\n     <g id=\"line2d_23\">\r\n      <path clip-path=\"url(#p95202d47d3)\" d=\"M 44.845313 170.71529 \r\nL 379.645313 170.71529 \r\n\" style=\"fill:none;stroke:#b0b0b0;stroke-linecap:square;stroke-width:0.8;\"/>\r\n     </g>\r\n     <g id=\"line2d_24\">\r\n      <g>\r\n       <use style=\"stroke:#000000;stroke-width:0.8;\" x=\"44.845313\" xlink:href=\"#mcdbacde177\" y=\"170.71529\"/>\r\n      </g>\r\n     </g>\r\n     <g id=\"text_12\">\r\n      <!-- −0.50 -->\r\n      <g transform=\"translate(7.2 174.514508)scale(0.1 -0.1)\">\r\n       <use xlink:href=\"#DejaVuSans-8722\"/>\r\n       <use x=\"83.789062\" xlink:href=\"#DejaVuSans-48\"/>\r\n       <use x=\"147.412109\" xlink:href=\"#DejaVuSans-46\"/>\r\n       <use x=\"179.199219\" xlink:href=\"#DejaVuSans-53\"/>\r\n       <use x=\"242.822266\" xlink:href=\"#DejaVuSans-48\"/>\r\n      </g>\r\n     </g>\r\n    </g>\r\n    <g id=\"ytick_4\">\r\n     <g id=\"line2d_25\">\r\n      <path clip-path=\"url(#p95202d47d3)\" d=\"M 44.845313 145.110014 \r\nL 379.645313 145.110014 \r\n\" style=\"fill:none;stroke:#b0b0b0;stroke-linecap:square;stroke-width:0.8;\"/>\r\n     </g>\r\n     <g id=\"line2d_26\">\r\n      <g>\r\n       <use style=\"stroke:#000000;stroke-width:0.8;\" x=\"44.845313\" xlink:href=\"#mcdbacde177\" y=\"145.110014\"/>\r\n      </g>\r\n     </g>\r\n     <g id=\"text_13\">\r\n      <!-- −0.25 -->\r\n      <g transform=\"translate(7.2 148.909233)scale(0.1 -0.1)\">\r\n       <use xlink:href=\"#DejaVuSans-8722\"/>\r\n       <use x=\"83.789062\" xlink:href=\"#DejaVuSans-48\"/>\r\n       <use x=\"147.412109\" xlink:href=\"#DejaVuSans-46\"/>\r\n       <use x=\"179.199219\" xlink:href=\"#DejaVuSans-50\"/>\r\n       <use x=\"242.822266\" xlink:href=\"#DejaVuSans-53\"/>\r\n      </g>\r\n     </g>\r\n    </g>\r\n    <g id=\"ytick_5\">\r\n     <g id=\"line2d_27\">\r\n      <path clip-path=\"url(#p95202d47d3)\" d=\"M 44.845313 119.504739 \r\nL 379.645313 119.504739 \r\n\" style=\"fill:none;stroke:#b0b0b0;stroke-linecap:square;stroke-width:0.8;\"/>\r\n     </g>\r\n     <g id=\"line2d_28\">\r\n      <g>\r\n       <use style=\"stroke:#000000;stroke-width:0.8;\" x=\"44.845313\" xlink:href=\"#mcdbacde177\" y=\"119.504739\"/>\r\n      </g>\r\n     </g>\r\n     <g id=\"text_14\">\r\n      <!-- 0.00 -->\r\n      <g transform=\"translate(15.579688 123.303957)scale(0.1 -0.1)\">\r\n       <use xlink:href=\"#DejaVuSans-48\"/>\r\n       <use x=\"63.623047\" xlink:href=\"#DejaVuSans-46\"/>\r\n       <use x=\"95.410156\" xlink:href=\"#DejaVuSans-48\"/>\r\n       <use x=\"159.033203\" xlink:href=\"#DejaVuSans-48\"/>\r\n      </g>\r\n     </g>\r\n    </g>\r\n    <g id=\"ytick_6\">\r\n     <g id=\"line2d_29\">\r\n      <path clip-path=\"url(#p95202d47d3)\" d=\"M 44.845313 93.899463 \r\nL 379.645313 93.899463 \r\n\" style=\"fill:none;stroke:#b0b0b0;stroke-linecap:square;stroke-width:0.8;\"/>\r\n     </g>\r\n     <g id=\"line2d_30\">\r\n      <g>\r\n       <use style=\"stroke:#000000;stroke-width:0.8;\" x=\"44.845313\" xlink:href=\"#mcdbacde177\" y=\"93.899463\"/>\r\n      </g>\r\n     </g>\r\n     <g id=\"text_15\">\r\n      <!-- 0.25 -->\r\n      <g transform=\"translate(15.579688 97.698682)scale(0.1 -0.1)\">\r\n       <use xlink:href=\"#DejaVuSans-48\"/>\r\n       <use x=\"63.623047\" xlink:href=\"#DejaVuSans-46\"/>\r\n       <use x=\"95.410156\" xlink:href=\"#DejaVuSans-50\"/>\r\n       <use x=\"159.033203\" xlink:href=\"#DejaVuSans-53\"/>\r\n      </g>\r\n     </g>\r\n    </g>\r\n    <g id=\"ytick_7\">\r\n     <g id=\"line2d_31\">\r\n      <path clip-path=\"url(#p95202d47d3)\" d=\"M 44.845313 68.294187 \r\nL 379.645313 68.294187 \r\n\" style=\"fill:none;stroke:#b0b0b0;stroke-linecap:square;stroke-width:0.8;\"/>\r\n     </g>\r\n     <g id=\"line2d_32\">\r\n      <g>\r\n       <use style=\"stroke:#000000;stroke-width:0.8;\" x=\"44.845313\" xlink:href=\"#mcdbacde177\" y=\"68.294187\"/>\r\n      </g>\r\n     </g>\r\n     <g id=\"text_16\">\r\n      <!-- 0.50 -->\r\n      <g transform=\"translate(15.579688 72.093406)scale(0.1 -0.1)\">\r\n       <use xlink:href=\"#DejaVuSans-48\"/>\r\n       <use x=\"63.623047\" xlink:href=\"#DejaVuSans-46\"/>\r\n       <use x=\"95.410156\" xlink:href=\"#DejaVuSans-53\"/>\r\n       <use x=\"159.033203\" xlink:href=\"#DejaVuSans-48\"/>\r\n      </g>\r\n     </g>\r\n    </g>\r\n    <g id=\"ytick_8\">\r\n     <g id=\"line2d_33\">\r\n      <path clip-path=\"url(#p95202d47d3)\" d=\"M 44.845313 42.688912 \r\nL 379.645313 42.688912 \r\n\" style=\"fill:none;stroke:#b0b0b0;stroke-linecap:square;stroke-width:0.8;\"/>\r\n     </g>\r\n     <g id=\"line2d_34\">\r\n      <g>\r\n       <use style=\"stroke:#000000;stroke-width:0.8;\" x=\"44.845313\" xlink:href=\"#mcdbacde177\" y=\"42.688912\"/>\r\n      </g>\r\n     </g>\r\n     <g id=\"text_17\">\r\n      <!-- 0.75 -->\r\n      <g transform=\"translate(15.579688 46.488131)scale(0.1 -0.1)\">\r\n       <use xlink:href=\"#DejaVuSans-48\"/>\r\n       <use x=\"63.623047\" xlink:href=\"#DejaVuSans-46\"/>\r\n       <use x=\"95.410156\" xlink:href=\"#DejaVuSans-55\"/>\r\n       <use x=\"159.033203\" xlink:href=\"#DejaVuSans-53\"/>\r\n      </g>\r\n     </g>\r\n    </g>\r\n    <g id=\"ytick_9\">\r\n     <g id=\"line2d_35\">\r\n      <path clip-path=\"url(#p95202d47d3)\" d=\"M 44.845313 17.083636 \r\nL 379.645313 17.083636 \r\n\" style=\"fill:none;stroke:#b0b0b0;stroke-linecap:square;stroke-width:0.8;\"/>\r\n     </g>\r\n     <g id=\"line2d_36\">\r\n      <g>\r\n       <use style=\"stroke:#000000;stroke-width:0.8;\" x=\"44.845313\" xlink:href=\"#mcdbacde177\" y=\"17.083636\"/>\r\n      </g>\r\n     </g>\r\n     <g id=\"text_18\">\r\n      <!-- 1.00 -->\r\n      <g transform=\"translate(15.579688 20.882855)scale(0.1 -0.1)\">\r\n       <use xlink:href=\"#DejaVuSans-49\"/>\r\n       <use x=\"63.623047\" xlink:href=\"#DejaVuSans-46\"/>\r\n       <use x=\"95.410156\" xlink:href=\"#DejaVuSans-48\"/>\r\n       <use x=\"159.033203\" xlink:href=\"#DejaVuSans-48\"/>\r\n      </g>\r\n     </g>\r\n    </g>\r\n   </g>\r\n   <g id=\"line2d_37\">\r\n    <defs>\r\n     <path d=\"M 0 -3 \r\nL -0.673542 -0.927051 \r\nL -2.85317 -0.927051 \r\nL -1.089814 0.354102 \r\nL -1.763356 2.427051 \r\nL -0 1.145898 \r\nL 1.763356 2.427051 \r\nL 1.089814 0.354102 \r\nL 2.85317 -0.927051 \r\nL 0.673542 -0.927051 \r\nz\r\n\" id=\"m9368823293\" style=\"stroke:#0000ff;stroke-linejoin:bevel;\"/>\r\n    </defs>\r\n    <g clip-path=\"url(#p95202d47d3)\">\r\n     <use style=\"fill:#0000ff;stroke:#0000ff;stroke-linejoin:bevel;\" x=\"144.184097\" xlink:href=\"#m9368823293\" y=\"33.471013\"/>\r\n    </g>\r\n   </g>\r\n   <g id=\"line2d_38\">\r\n    <g clip-path=\"url(#p95202d47d3)\">\r\n     <use style=\"fill:#0000ff;stroke:#0000ff;stroke-linejoin:bevel;\" x=\"220.657373\" xlink:href=\"#m9368823293\" y=\"57.027866\"/>\r\n    </g>\r\n   </g>\r\n   <g id=\"line2d_39\">\r\n    <g clip-path=\"url(#p95202d47d3)\">\r\n     <use style=\"fill:#0000ff;stroke:#0000ff;stroke-linejoin:bevel;\" x=\"151.831425\" xlink:href=\"#m9368823293\" y=\"171.739501\"/>\r\n    </g>\r\n   </g>\r\n   <g id=\"line2d_40\">\r\n    <g clip-path=\"url(#p95202d47d3)\">\r\n     <use style=\"fill:#0000ff;stroke:#0000ff;stroke-linejoin:bevel;\" x=\"292.542252\" xlink:href=\"#m9368823293\" y=\"125.650005\"/>\r\n    </g>\r\n   </g>\r\n   <g id=\"line2d_41\">\r\n    <g clip-path=\"url(#p95202d47d3)\">\r\n     <use style=\"fill:#0000ff;stroke:#0000ff;stroke-linejoin:bevel;\" x=\"199.244856\" xlink:href=\"#m9368823293\" y=\"180.9574\"/>\r\n    </g>\r\n   </g>\r\n   <g id=\"line2d_42\">\r\n    <g clip-path=\"url(#p95202d47d3)\">\r\n     <use style=\"fill:#0000ff;stroke:#0000ff;stroke-linejoin:bevel;\" x=\"205.362718\" xlink:href=\"#m9368823293\" y=\"154.327913\"/>\r\n    </g>\r\n   </g>\r\n   <g id=\"line2d_43\">\r\n    <g clip-path=\"url(#p95202d47d3)\">\r\n     <use style=\"fill:#0000ff;stroke:#0000ff;stroke-linejoin:bevel;\" x=\"249.717217\" xlink:href=\"#m9368823293\" y=\"59.076288\"/>\r\n    </g>\r\n   </g>\r\n   <g id=\"line2d_44\">\r\n    <g clip-path=\"url(#p95202d47d3)\">\r\n     <use style=\"fill:#0000ff;stroke:#0000ff;stroke-linejoin:bevel;\" x=\"197.71539\" xlink:href=\"#m9368823293\" y=\"169.691079\"/>\r\n    </g>\r\n   </g>\r\n   <g id=\"line2d_45\">\r\n    <g clip-path=\"url(#p95202d47d3)\">\r\n     <use style=\"fill:#0000ff;stroke:#0000ff;stroke-linejoin:bevel;\" x=\"277.247597\" xlink:href=\"#m9368823293\" y=\"77.512087\"/>\r\n    </g>\r\n   </g>\r\n   <g id=\"line2d_46\">\r\n    <g clip-path=\"url(#p95202d47d3)\">\r\n     <use style=\"fill:#0000ff;stroke:#0000ff;stroke-linejoin:bevel;\" x=\"254.305614\" xlink:href=\"#m9368823293\" y=\"170.71529\"/>\r\n    </g>\r\n   </g>\r\n   <g id=\"line2d_47\">\r\n    <g clip-path=\"url(#p95202d47d3)\">\r\n     <use style=\"fill:#0000ff;stroke:#0000ff;stroke-linejoin:bevel;\" x=\"182.420735\" xlink:href=\"#m9368823293\" y=\"83.657353\"/>\r\n    </g>\r\n   </g>\r\n   <g id=\"line2d_48\">\r\n    <g clip-path=\"url(#p95202d47d3)\">\r\n     <use style=\"fill:#0000ff;stroke:#0000ff;stroke-linejoin:bevel;\" x=\"286.42439\" xlink:href=\"#m9368823293\" y=\"136.916326\"/>\r\n    </g>\r\n   </g>\r\n   <g id=\"line2d_49\">\r\n    <g clip-path=\"url(#p95202d47d3)\">\r\n     <use style=\"fill:#0000ff;stroke:#0000ff;stroke-linejoin:bevel;\" x=\"69.240287\" xlink:href=\"#m9368823293\" y=\"116.432106\"/>\r\n    </g>\r\n   </g>\r\n   <g id=\"line2d_50\">\r\n    <g clip-path=\"url(#p95202d47d3)\">\r\n     <use style=\"fill:#0000ff;stroke:#0000ff;stroke-linejoin:bevel;\" x=\"269.600269\" xlink:href=\"#m9368823293\" y=\"26.301536\"/>\r\n    </g>\r\n   </g>\r\n   <g id=\"line2d_51\">\r\n    <g clip-path=\"url(#p95202d47d3)\">\r\n     <use style=\"fill:#0000ff;stroke:#0000ff;stroke-linejoin:bevel;\" x=\"211.48058\" xlink:href=\"#m9368823293\" y=\"126.674216\"/>\r\n    </g>\r\n   </g>\r\n   <g id=\"line2d_52\">\r\n    <g clip-path=\"url(#p95202d47d3)\">\r\n     <use style=\"fill:#0000ff;stroke:#0000ff;stroke-linejoin:bevel;\" x=\"118.183184\" xlink:href=\"#m9368823293\" y=\"90.82683\"/>\r\n    </g>\r\n   </g>\r\n   <g id=\"line2d_53\">\r\n    <g clip-path=\"url(#p95202d47d3)\">\r\n     <use style=\"fill:#0000ff;stroke:#0000ff;stroke-linejoin:bevel;\" x=\"225.245769\" xlink:href=\"#m9368823293\" y=\"191.19951\"/>\r\n    </g>\r\n   </g>\r\n   <g id=\"line2d_54\">\r\n    <g clip-path=\"url(#p95202d47d3)\">\r\n     <use style=\"fill:#0000ff;stroke:#0000ff;stroke-linejoin:bevel;\" x=\"202.303787\" xlink:href=\"#m9368823293\" y=\"34.495224\"/>\r\n    </g>\r\n   </g>\r\n   <g id=\"line2d_55\">\r\n    <g clip-path=\"url(#p95202d47d3)\">\r\n     <use style=\"fill:#0000ff;stroke:#0000ff;stroke-linejoin:bevel;\" x=\"147.243028\" xlink:href=\"#m9368823293\" y=\"110.286839\"/>\r\n    </g>\r\n   </g>\r\n   <g id=\"line2d_56\">\r\n    <g clip-path=\"url(#p95202d47d3)\">\r\n     <use style=\"fill:#0000ff;stroke:#0000ff;stroke-linejoin:bevel;\" x=\"69.240287\" xlink:href=\"#m9368823293\" y=\"156.376335\"/>\r\n    </g>\r\n   </g>\r\n   <g id=\"line2d_57\">\r\n    <g clip-path=\"url(#p95202d47d3)\">\r\n     <use style=\"fill:#0000ff;stroke:#0000ff;stroke-linejoin:bevel;\" x=\"125.830511\" xlink:href=\"#m9368823293\" y=\"81.608931\"/>\r\n    </g>\r\n   </g>\r\n   <g id=\"line2d_58\">\r\n    <g clip-path=\"url(#p95202d47d3)\">\r\n     <use style=\"fill:#0000ff;stroke:#0000ff;stroke-linejoin:bevel;\" x=\"320.072631\" xlink:href=\"#m9368823293\" y=\"74.439454\"/>\r\n    </g>\r\n   </g>\r\n   <g id=\"line2d_59\">\r\n    <g clip-path=\"url(#p95202d47d3)\">\r\n     <use style=\"fill:#0000ff;stroke:#0000ff;stroke-linejoin:bevel;\" x=\"281.835993\" xlink:href=\"#m9368823293\" y=\"168.666868\"/>\r\n    </g>\r\n   </g>\r\n   <g id=\"line2d_60\">\r\n    <g clip-path=\"url(#p95202d47d3)\">\r\n     <use style=\"fill:#0000ff;stroke:#0000ff;stroke-linejoin:bevel;\" x=\"72.299218\" xlink:href=\"#m9368823293\" y=\"158.424757\"/>\r\n    </g>\r\n   </g>\r\n   <g id=\"line2d_61\">\r\n    <g clip-path=\"url(#p95202d47d3)\">\r\n     <use style=\"fill:#0000ff;stroke:#0000ff;stroke-linejoin:bevel;\" x=\"278.777062\" xlink:href=\"#m9368823293\" y=\"132.819482\"/>\r\n    </g>\r\n   </g>\r\n   <g id=\"line2d_62\">\r\n    <defs>\r\n     <path d=\"M 0 -3 \r\nL -0.673542 -0.927051 \r\nL -2.85317 -0.927051 \r\nL -1.089814 0.354102 \r\nL -1.763356 2.427051 \r\nL -0 1.145898 \r\nL 1.763356 2.427051 \r\nL 1.089814 0.354102 \r\nL 2.85317 -0.927051 \r\nL 0.673542 -0.927051 \r\nz\r\n\" id=\"mbfd47b4303\" style=\"stroke:#ff0000;stroke-linejoin:bevel;\"/>\r\n    </defs>\r\n    <g clip-path=\"url(#p95202d47d3)\">\r\n     <use style=\"fill:#ff0000;stroke:#ff0000;stroke-linejoin:bevel;\" x=\"321.602096\" xlink:href=\"#mbfd47b4303\" y=\"199.393198\"/>\r\n    </g>\r\n   </g>\r\n   <g id=\"line2d_63\">\r\n    <g clip-path=\"url(#p95202d47d3)\">\r\n     <use style=\"fill:#0000ff;stroke:#0000ff;stroke-linejoin:bevel;\" x=\"161.008218\" xlink:href=\"#m9368823293\" y=\"198.368987\"/>\r\n    </g>\r\n   </g>\r\n   <g id=\"line2d_64\">\r\n    <g clip-path=\"url(#p95202d47d3)\">\r\n     <use style=\"fill:#0000ff;stroke:#0000ff;stroke-linejoin:bevel;\" x=\"307.836907\" xlink:href=\"#m9368823293\" y=\"160.473179\"/>\r\n    </g>\r\n   </g>\r\n   <g id=\"line2d_65\">\r\n    <g clip-path=\"url(#p95202d47d3)\">\r\n     <use style=\"fill:#0000ff;stroke:#0000ff;stroke-linejoin:bevel;\" x=\"161.008218\" xlink:href=\"#m9368823293\" y=\"207.586886\"/>\r\n    </g>\r\n   </g>\r\n   <g id=\"line2d_66\">\r\n    <g clip-path=\"url(#p95202d47d3)\">\r\n     <use style=\"fill:#0000ff;stroke:#0000ff;stroke-linejoin:bevel;\" x=\"329.249424\" xlink:href=\"#m9368823293\" y=\"72.391032\"/>\r\n    </g>\r\n   </g>\r\n   <g id=\"line2d_67\">\r\n    <g clip-path=\"url(#p95202d47d3)\">\r\n     <use style=\"fill:#ff0000;stroke:#ff0000;stroke-linejoin:bevel;\" x=\"141.125166\" xlink:href=\"#mbfd47b4303\" y=\"17.083636\"/>\r\n    </g>\r\n   </g>\r\n   <g id=\"line2d_68\">\r\n    <g clip-path=\"url(#p95202d47d3)\">\r\n     <use style=\"fill:#0000ff;stroke:#0000ff;stroke-linejoin:bevel;\" x=\"335.367286\" xlink:href=\"#m9368823293\" y=\"154.327913\"/>\r\n    </g>\r\n   </g>\r\n   <g id=\"line2d_69\">\r\n    <g clip-path=\"url(#p95202d47d3)\">\r\n     <use style=\"fill:#0000ff;stroke:#0000ff;stroke-linejoin:bevel;\" x=\"277.247597\" xlink:href=\"#m9368823293\" y=\"169.691079\"/>\r\n    </g>\r\n   </g>\r\n   <g id=\"line2d_70\">\r\n    <g clip-path=\"url(#p95202d47d3)\">\r\n     <use style=\"fill:#0000ff;stroke:#0000ff;stroke-linejoin:bevel;\" x=\"266.541338\" xlink:href=\"#m9368823293\" y=\"194.272143\"/>\r\n    </g>\r\n   </g>\r\n   <g id=\"line2d_71\">\r\n    <g clip-path=\"url(#p95202d47d3)\">\r\n     <use style=\"fill:#0000ff;stroke:#0000ff;stroke-linejoin:bevel;\" x=\"125.830511\" xlink:href=\"#m9368823293\" y=\"39.616279\"/>\r\n    </g>\r\n   </g>\r\n   <g id=\"line2d_72\">\r\n    <g clip-path=\"url(#p95202d47d3)\">\r\n     <use style=\"fill:#ff0000;stroke:#ff0000;stroke-linejoin:bevel;\" x=\"99.829598\" xlink:href=\"#mbfd47b4303\" y=\"42.688912\"/>\r\n    </g>\r\n   </g>\r\n   <g id=\"line2d_73\">\r\n    <g clip-path=\"url(#p95202d47d3)\">\r\n     <use style=\"fill:#0000ff;stroke:#0000ff;stroke-linejoin:bevel;\" x=\"165.596614\" xlink:href=\"#m9368823293\" y=\"212.707942\"/>\r\n    </g>\r\n   </g>\r\n   <g id=\"line2d_74\">\r\n    <g clip-path=\"url(#p95202d47d3)\">\r\n     <use style=\"fill:#0000ff;stroke:#0000ff;stroke-linejoin:bevel;\" x=\"138.066235\" xlink:href=\"#m9368823293\" y=\"85.705775\"/>\r\n    </g>\r\n   </g>\r\n   <g id=\"line2d_75\">\r\n    <g clip-path=\"url(#p95202d47d3)\">\r\n     <use style=\"fill:#ff0000;stroke:#ff0000;stroke-linejoin:bevel;\" x=\"89.123339\" xlink:href=\"#mbfd47b4303\" y=\"56.003655\"/>\r\n    </g>\r\n   </g>\r\n   <g id=\"line2d_76\">\r\n    <g clip-path=\"url(#p95202d47d3)\">\r\n     <use style=\"fill:#0000ff;stroke:#0000ff;stroke-linejoin:bevel;\" x=\"286.42439\" xlink:href=\"#m9368823293\" y=\"142.037381\"/>\r\n    </g>\r\n   </g>\r\n   <g id=\"line2d_77\">\r\n    <g clip-path=\"url(#p95202d47d3)\">\r\n     <use style=\"fill:#ff0000;stroke:#ff0000;stroke-linejoin:bevel;\" x=\"60.063494\" xlink:href=\"#mbfd47b4303\" y=\"89.802619\"/>\r\n    </g>\r\n   </g>\r\n   <g id=\"line2d_78\">\r\n    <g clip-path=\"url(#p95202d47d3)\">\r\n     <use style=\"fill:#ff0000;stroke:#ff0000;stroke-linejoin:bevel;\" x=\"307.836907\" xlink:href=\"#mbfd47b4303\" y=\"33.471013\"/>\r\n    </g>\r\n   </g>\r\n   <g id=\"line2d_79\">\r\n    <g clip-path=\"url(#p95202d47d3)\">\r\n     <use style=\"fill:#0000ff;stroke:#0000ff;stroke-linejoin:bevel;\" x=\"144.184097\" xlink:href=\"#m9368823293\" y=\"114.383683\"/>\r\n    </g>\r\n   </g>\r\n   <g id=\"line2d_80\">\r\n    <g clip-path=\"url(#p95202d47d3)\">\r\n     <use style=\"fill:#ff0000;stroke:#ff0000;stroke-linejoin:bevel;\" x=\"289.483321\" xlink:href=\"#mbfd47b4303\" y=\"22.204691\"/>\r\n    </g>\r\n   </g>\r\n   <g id=\"line2d_81\">\r\n    <g clip-path=\"url(#p95202d47d3)\">\r\n     <use style=\"fill:#0000ff;stroke:#0000ff;stroke-linejoin:bevel;\" x=\"174.773408\" xlink:href=\"#m9368823293\" y=\"111.31105\"/>\r\n    </g>\r\n   </g>\r\n   <g id=\"line2d_82\">\r\n    <g clip-path=\"url(#p95202d47d3)\">\r\n     <use style=\"fill:#0000ff;stroke:#0000ff;stroke-linejoin:bevel;\" x=\"231.363631\" xlink:href=\"#m9368823293\" y=\"122.577372\"/>\r\n    </g>\r\n   </g>\r\n   <g id=\"line2d_83\">\r\n    <g clip-path=\"url(#p95202d47d3)\">\r\n     <use style=\"fill:#0000ff;stroke:#0000ff;stroke-linejoin:bevel;\" x=\"202.303787\" xlink:href=\"#m9368823293\" y=\"128.722638\"/>\r\n    </g>\r\n   </g>\r\n   <g id=\"line2d_84\">\r\n    <g clip-path=\"url(#p95202d47d3)\">\r\n     <use style=\"fill:#0000ff;stroke:#0000ff;stroke-linejoin:bevel;\" x=\"92.18227\" xlink:href=\"#m9368823293\" y=\"122.577372\"/>\r\n    </g>\r\n   </g>\r\n   <g id=\"line2d_85\">\r\n    <g clip-path=\"url(#p95202d47d3)\">\r\n     <use style=\"fill:#ff0000;stroke:#ff0000;stroke-linejoin:bevel;\" x=\"280.306528\" xlink:href=\"#mbfd47b4303\" y=\"24.253114\"/>\r\n    </g>\r\n   </g>\r\n   <g id=\"line2d_86\">\r\n    <g clip-path=\"url(#p95202d47d3)\">\r\n     <use style=\"fill:#ff0000;stroke:#ff0000;stroke-linejoin:bevel;\" x=\"98.300132\" xlink:href=\"#mbfd47b4303\" y=\"24.253114\"/>\r\n    </g>\r\n   </g>\r\n   <g id=\"line2d_87\">\r\n    <g clip-path=\"url(#p95202d47d3)\">\r\n     <use style=\"fill:#0000ff;stroke:#0000ff;stroke-linejoin:bevel;\" x=\"226.775235\" xlink:href=\"#m9368823293\" y=\"50.8826\"/>\r\n    </g>\r\n   </g>\r\n   <g id=\"line2d_88\">\r\n    <g clip-path=\"url(#p95202d47d3)\">\r\n     <use style=\"fill:#0000ff;stroke:#0000ff;stroke-linejoin:bevel;\" x=\"90.652805\" xlink:href=\"#m9368823293\" y=\"104.141573\"/>\r\n    </g>\r\n   </g>\r\n   <g id=\"line2d_89\">\r\n    <g clip-path=\"url(#p95202d47d3)\">\r\n     <use style=\"fill:#0000ff;stroke:#0000ff;stroke-linejoin:bevel;\" x=\"171.714477\" xlink:href=\"#m9368823293\" y=\"82.633142\"/>\r\n    </g>\r\n   </g>\r\n   <g id=\"line2d_90\">\r\n    <g clip-path=\"url(#p95202d47d3)\">\r\n     <use style=\"fill:#ff0000;stroke:#ff0000;stroke-linejoin:bevel;\" x=\"90.652805\" xlink:href=\"#mbfd47b4303\" y=\"211.683731\"/>\r\n    </g>\r\n   </g>\r\n   <g id=\"line2d_91\">\r\n    <g clip-path=\"url(#p95202d47d3)\">\r\n     <use style=\"fill:#0000ff;stroke:#0000ff;stroke-linejoin:bevel;\" x=\"136.53677\" xlink:href=\"#m9368823293\" y=\"107.214206\"/>\r\n    </g>\r\n   </g>\r\n   <g id=\"line2d_92\">\r\n    <g clip-path=\"url(#p95202d47d3)\">\r\n     <use style=\"fill:#0000ff;stroke:#0000ff;stroke-linejoin:bevel;\" x=\"153.36089\" xlink:href=\"#m9368823293\" y=\"96.972096\"/>\r\n    </g>\r\n   </g>\r\n   <g id=\"line2d_93\">\r\n    <g clip-path=\"url(#p95202d47d3)\">\r\n     <use style=\"fill:#ff0000;stroke:#ff0000;stroke-linejoin:bevel;\" x=\"122.77158\" xlink:href=\"#mbfd47b4303\" y=\"208.611098\"/>\r\n    </g>\r\n   </g>\r\n   <g id=\"line2d_94\">\r\n    <g clip-path=\"url(#p95202d47d3)\">\r\n     <use style=\"fill:#0000ff;stroke:#0000ff;stroke-linejoin:bevel;\" x=\"301.719045\" xlink:href=\"#m9368823293\" y=\"149.206858\"/>\r\n    </g>\r\n   </g>\r\n   <g id=\"line2d_95\">\r\n    <g clip-path=\"url(#p95202d47d3)\">\r\n     <use style=\"fill:#0000ff;stroke:#0000ff;stroke-linejoin:bevel;\" x=\"130.418908\" xlink:href=\"#m9368823293\" y=\"33.471013\"/>\r\n    </g>\r\n   </g>\r\n   <g id=\"line2d_96\">\r\n    <g clip-path=\"url(#p95202d47d3)\">\r\n     <use style=\"fill:#0000ff;stroke:#0000ff;stroke-linejoin:bevel;\" x=\"209.951114\" xlink:href=\"#m9368823293\" y=\"20.156269\"/>\r\n    </g>\r\n   </g>\r\n   <g id=\"line2d_97\">\r\n    <g clip-path=\"url(#p95202d47d3)\">\r\n     <use style=\"fill:#0000ff;stroke:#0000ff;stroke-linejoin:bevel;\" x=\"64.651891\" xlink:href=\"#m9368823293\" y=\"126.674216\"/>\r\n    </g>\r\n   </g>\r\n   <g id=\"line2d_98\">\r\n    <g clip-path=\"url(#p95202d47d3)\">\r\n     <use style=\"fill:#0000ff;stroke:#0000ff;stroke-linejoin:bevel;\" x=\"291.012786\" xlink:href=\"#m9368823293\" y=\"111.31105\"/>\r\n    </g>\r\n   </g>\r\n   <g id=\"line2d_99\">\r\n    <g clip-path=\"url(#p95202d47d3)\">\r\n     <use style=\"fill:#0000ff;stroke:#0000ff;stroke-linejoin:bevel;\" x=\"234.422562\" xlink:href=\"#m9368823293\" y=\"141.01317\"/>\r\n    </g>\r\n   </g>\r\n   <g id=\"line2d_100\">\r\n    <g clip-path=\"url(#p95202d47d3)\">\r\n     <use style=\"fill:#0000ff;stroke:#0000ff;stroke-linejoin:bevel;\" x=\"142.654632\" xlink:href=\"#m9368823293\" y=\"61.12471\"/>\r\n    </g>\r\n   </g>\r\n   <g id=\"line2d_101\">\r\n    <g clip-path=\"url(#p95202d47d3)\">\r\n     <use style=\"fill:#0000ff;stroke:#0000ff;stroke-linejoin:bevel;\" x=\"295.601183\" xlink:href=\"#m9368823293\" y=\"60.100499\"/>\r\n    </g>\r\n   </g>\r\n   <g id=\"line2d_102\">\r\n    <g clip-path=\"url(#p95202d47d3)\">\r\n     <use style=\"fill:#0000ff;stroke:#0000ff;stroke-linejoin:bevel;\" x=\"194.656459\" xlink:href=\"#m9368823293\" y=\"193.247932\"/>\r\n    </g>\r\n   </g>\r\n   <g id=\"line2d_103\">\r\n    <g clip-path=\"url(#p95202d47d3)\">\r\n     <use style=\"fill:#0000ff;stroke:#0000ff;stroke-linejoin:bevel;\" x=\"139.595701\" xlink:href=\"#m9368823293\" y=\"83.657353\"/>\r\n    </g>\r\n   </g>\r\n   <g id=\"line2d_104\">\r\n    <g clip-path=\"url(#p95202d47d3)\">\r\n     <use style=\"fill:#ff0000;stroke:#ff0000;stroke-linejoin:bevel;\" x=\"287.953855\" xlink:href=\"#mbfd47b4303\" y=\"24.253114\"/>\r\n    </g>\r\n   </g>\r\n   <g id=\"line2d_105\">\r\n    <g clip-path=\"url(#p95202d47d3)\">\r\n     <use style=\"fill:#0000ff;stroke:#0000ff;stroke-linejoin:bevel;\" x=\"202.303787\" xlink:href=\"#m9368823293\" y=\"138.964748\"/>\r\n    </g>\r\n   </g>\r\n   <g id=\"line2d_106\">\r\n    <g clip-path=\"url(#p95202d47d3)\">\r\n     <use style=\"fill:#0000ff;stroke:#0000ff;stroke-linejoin:bevel;\" x=\"165.596614\" xlink:href=\"#m9368823293\" y=\"46.785756\"/>\r\n    </g>\r\n   </g>\r\n   <g id=\"line2d_107\">\r\n    <g clip-path=\"url(#p95202d47d3)\">\r\n     <use style=\"fill:#0000ff;stroke:#0000ff;stroke-linejoin:bevel;\" x=\"99.829598\" xlink:href=\"#m9368823293\" y=\"112.335261\"/>\r\n    </g>\r\n   </g>\r\n   <g id=\"line2d_108\">\r\n    <g clip-path=\"url(#p95202d47d3)\">\r\n     <use style=\"fill:#0000ff;stroke:#0000ff;stroke-linejoin:bevel;\" x=\"318.543165\" xlink:href=\"#m9368823293\" y=\"103.117362\"/>\r\n    </g>\r\n   </g>\r\n   <g id=\"line2d_109\">\r\n    <g clip-path=\"url(#p95202d47d3)\">\r\n     <use style=\"fill:#0000ff;stroke:#0000ff;stroke-linejoin:bevel;\" x=\"242.06989\" xlink:href=\"#m9368823293\" y=\"129.746849\"/>\r\n    </g>\r\n   </g>\r\n   <g id=\"line2d_110\">\r\n    <g clip-path=\"url(#p95202d47d3)\">\r\n     <use style=\"fill:#0000ff;stroke:#0000ff;stroke-linejoin:bevel;\" x=\"188.538597\" xlink:href=\"#m9368823293\" y=\"134.867904\"/>\r\n    </g>\r\n   </g>\r\n   <g id=\"line2d_111\">\r\n    <g clip-path=\"url(#p95202d47d3)\">\r\n     <use style=\"fill:#0000ff;stroke:#0000ff;stroke-linejoin:bevel;\" x=\"63.122425\" xlink:href=\"#m9368823293\" y=\"130.77106\"/>\r\n    </g>\r\n   </g>\r\n   <g id=\"line2d_112\">\r\n    <g clip-path=\"url(#p95202d47d3)\">\r\n     <use style=\"fill:#0000ff;stroke:#0000ff;stroke-linejoin:bevel;\" x=\"206.892183\" xlink:href=\"#m9368823293\" y=\"70.34261\"/>\r\n    </g>\r\n   </g>\r\n   <g id=\"line2d_113\">\r\n    <g clip-path=\"url(#p95202d47d3)\">\r\n     <use style=\"fill:#0000ff;stroke:#0000ff;stroke-linejoin:bevel;\" x=\"67.710822\" xlink:href=\"#m9368823293\" y=\"139.988959\"/>\r\n    </g>\r\n   </g>\r\n   <g id=\"line2d_114\">\r\n    <g clip-path=\"url(#p95202d47d3)\">\r\n     <use style=\"fill:#0000ff;stroke:#0000ff;stroke-linejoin:bevel;\" x=\"131.948373\" xlink:href=\"#m9368823293\" y=\"121.553161\"/>\r\n    </g>\r\n   </g>\r\n   <g id=\"line2d_115\">\r\n    <g clip-path=\"url(#p95202d47d3)\">\r\n     <use style=\"fill:#0000ff;stroke:#0000ff;stroke-linejoin:bevel;\" x=\"234.422562\" xlink:href=\"#m9368823293\" y=\"118.480528\"/>\r\n    </g>\r\n   </g>\r\n   <g id=\"line2d_116\">\r\n    <g clip-path=\"url(#p95202d47d3)\">\r\n     <use style=\"fill:#0000ff;stroke:#0000ff;stroke-linejoin:bevel;\" x=\"239.010959\" xlink:href=\"#m9368823293\" y=\"116.432106\"/>\r\n    </g>\r\n   </g>\r\n   <g id=\"line2d_117\">\r\n    <g clip-path=\"url(#p95202d47d3)\">\r\n     <use style=\"fill:#ff0000;stroke:#ff0000;stroke-linejoin:bevel;\" x=\"321.602096\" xlink:href=\"#mbfd47b4303\" y=\"214.756364\"/>\r\n    </g>\r\n   </g>\r\n   <g id=\"line2d_118\">\r\n    <g clip-path=\"url(#p95202d47d3)\">\r\n     <use style=\"fill:#ff0000;stroke:#ff0000;stroke-linejoin:bevel;\" x=\"87.593873\" xlink:href=\"#mbfd47b4303\" y=\"26.301536\"/>\r\n    </g>\r\n   </g>\r\n   <g id=\"line2d_119\">\r\n    <g clip-path=\"url(#p95202d47d3)\">\r\n     <use style=\"fill:#0000ff;stroke:#0000ff;stroke-linejoin:bevel;\" x=\"206.892183\" xlink:href=\"#m9368823293\" y=\"87.754197\"/>\r\n    </g>\r\n   </g>\r\n   <g id=\"line2d_120\">\r\n    <g clip-path=\"url(#p95202d47d3)\">\r\n     <use style=\"fill:#ff0000;stroke:#ff0000;stroke-linejoin:bevel;\" x=\"364.427131\" xlink:href=\"#mbfd47b4303\" y=\"147.158436\"/>\r\n    </g>\r\n   </g>\r\n   <g id=\"line2d_121\">\r\n    <g clip-path=\"url(#p95202d47d3)\">\r\n     <use style=\"fill:#0000ff;stroke:#0000ff;stroke-linejoin:bevel;\" x=\"217.598442\" xlink:href=\"#m9368823293\" y=\"96.972096\"/>\r\n    </g>\r\n   </g>\r\n   <g id=\"line2d_122\">\r\n    <g clip-path=\"url(#p95202d47d3)\">\r\n     <use style=\"fill:#0000ff;stroke:#0000ff;stroke-linejoin:bevel;\" x=\"310.895838\" xlink:href=\"#m9368823293\" y=\"49.858389\"/>\r\n    </g>\r\n   </g>\r\n   <g id=\"line2d_123\">\r\n    <g clip-path=\"url(#p95202d47d3)\">\r\n     <use style=\"fill:#0000ff;stroke:#0000ff;stroke-linejoin:bevel;\" x=\"294.071717\" xlink:href=\"#m9368823293\" y=\"172.763712\"/>\r\n    </g>\r\n   </g>\r\n   <g id=\"line2d_124\">\r\n    <g clip-path=\"url(#p95202d47d3)\">\r\n     <use style=\"fill:#0000ff;stroke:#0000ff;stroke-linejoin:bevel;\" x=\"234.422562\" xlink:href=\"#m9368823293\" y=\"146.134225\"/>\r\n    </g>\r\n   </g>\r\n   <g id=\"line2d_125\">\r\n    <g clip-path=\"url(#p95202d47d3)\">\r\n     <use style=\"fill:#0000ff;stroke:#0000ff;stroke-linejoin:bevel;\" x=\"265.011873\" xlink:href=\"#m9368823293\" y=\"67.269976\"/>\r\n    </g>\r\n   </g>\r\n   <g id=\"line2d_126\">\r\n    <g clip-path=\"url(#p95202d47d3)\">\r\n     <use style=\"fill:#0000ff;stroke:#0000ff;stroke-linejoin:bevel;\" x=\"252.776148\" xlink:href=\"#m9368823293\" y=\"200.417409\"/>\r\n    </g>\r\n   </g>\r\n   <g id=\"line2d_127\">\r\n    <g clip-path=\"url(#p95202d47d3)\">\r\n     <use style=\"fill:#0000ff;stroke:#0000ff;stroke-linejoin:bevel;\" x=\"321.602096\" xlink:href=\"#m9368823293\" y=\"183.005822\"/>\r\n    </g>\r\n   </g>\r\n   <g id=\"line2d_128\">\r\n    <g clip-path=\"url(#p95202d47d3)\">\r\n     <use style=\"fill:#0000ff;stroke:#0000ff;stroke-linejoin:bevel;\" x=\"131.948373\" xlink:href=\"#m9368823293\" y=\"118.480528\"/>\r\n    </g>\r\n   </g>\r\n   <g id=\"line2d_129\">\r\n    <g clip-path=\"url(#p95202d47d3)\">\r\n     <use style=\"fill:#ff0000;stroke:#ff0000;stroke-linejoin:bevel;\" x=\"346.073545\" xlink:href=\"#mbfd47b4303\" y=\"195.296354\"/>\r\n    </g>\r\n   </g>\r\n   <g id=\"line2d_130\">\r\n    <g clip-path=\"url(#p95202d47d3)\">\r\n     <use style=\"fill:#0000ff;stroke:#0000ff;stroke-linejoin:bevel;\" x=\"124.301046\" xlink:href=\"#m9368823293\" y=\"62.148921\"/>\r\n    </g>\r\n   </g>\r\n   <g id=\"line2d_131\">\r\n    <g clip-path=\"url(#p95202d47d3)\">\r\n     <use style=\"fill:#ff0000;stroke:#ff0000;stroke-linejoin:bevel;\" x=\"81.476011\" xlink:href=\"#mbfd47b4303\" y=\"186.078455\"/>\r\n    </g>\r\n   </g>\r\n   <g id=\"line2d_132\">\r\n    <g clip-path=\"url(#p95202d47d3)\">\r\n     <use style=\"fill:#0000ff;stroke:#0000ff;stroke-linejoin:bevel;\" x=\"229.834166\" xlink:href=\"#m9368823293\" y=\"189.151088\"/>\r\n    </g>\r\n   </g>\r\n   <g id=\"line2d_133\">\r\n    <g clip-path=\"url(#p95202d47d3)\">\r\n     <use style=\"fill:#ff0000;stroke:#ff0000;stroke-linejoin:bevel;\" x=\"339.955683\" xlink:href=\"#mbfd47b4303\" y=\"181.981611\"/>\r\n    </g>\r\n   </g>\r\n   <g id=\"line2d_134\">\r\n    <g clip-path=\"url(#p95202d47d3)\">\r\n     <use style=\"fill:#0000ff;stroke:#0000ff;stroke-linejoin:bevel;\" x=\"187.009132\" xlink:href=\"#m9368823293\" y=\"118.480528\"/>\r\n    </g>\r\n   </g>\r\n   <g id=\"line2d_135\">\r\n    <g clip-path=\"url(#p95202d47d3)\">\r\n     <use style=\"fill:#0000ff;stroke:#0000ff;stroke-linejoin:bevel;\" x=\"277.247597\" xlink:href=\"#m9368823293\" y=\"185.054244\"/>\r\n    </g>\r\n   </g>\r\n   <g id=\"line2d_136\">\r\n    <g clip-path=\"url(#p95202d47d3)\">\r\n     <use style=\"fill:#0000ff;stroke:#0000ff;stroke-linejoin:bevel;\" x=\"165.596614\" xlink:href=\"#m9368823293\" y=\"30.39838\"/>\r\n    </g>\r\n   </g>\r\n   <g id=\"patch_3\">\r\n    <path d=\"M 44.845313 224.64 \r\nL 44.845313 7.2 \r\n\" style=\"fill:none;stroke:#000000;stroke-linecap:square;stroke-linejoin:miter;stroke-width:0.8;\"/>\r\n   </g>\r\n   <g id=\"patch_4\">\r\n    <path d=\"M 379.645313 224.64 \r\nL 379.645313 7.2 \r\n\" style=\"fill:none;stroke:#000000;stroke-linecap:square;stroke-linejoin:miter;stroke-width:0.8;\"/>\r\n   </g>\r\n   <g id=\"patch_5\">\r\n    <path d=\"M 44.845313 224.64 \r\nL 379.645313 224.64 \r\n\" style=\"fill:none;stroke:#000000;stroke-linecap:square;stroke-linejoin:miter;stroke-width:0.8;\"/>\r\n   </g>\r\n   <g id=\"patch_6\">\r\n    <path d=\"M 44.845313 7.2 \r\nL 379.645313 7.2 \r\n\" style=\"fill:none;stroke:#000000;stroke-linecap:square;stroke-linejoin:miter;stroke-width:0.8;\"/>\r\n   </g>\r\n  </g>\r\n </g>\r\n <defs>\r\n  <clipPath id=\"p95202d47d3\">\r\n   <rect height=\"217.44\" width=\"334.8\" x=\"44.845313\" y=\"7.2\"/>\r\n  </clipPath>\r\n </defs>\r\n</svg>\r\n",
      "image/png": "[encoded data removed]"
     },
     "metadata": {
      "needs_background": "light"
     }
    }
   ]
  },
  {
   "cell_type": "code",
   "execution_count": null,
   "metadata": {},
   "outputs": [],
   "source": []
  }
 ]
}