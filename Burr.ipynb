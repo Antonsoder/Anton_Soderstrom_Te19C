{
 "metadata": {
  "language_info": {
   "codemirror_mode": {
    "name": "ipython",
    "version": 3
   },
   "file_extension": ".py",
   "mimetype": "text/x-python",
   "name": "python",
   "nbconvert_exporter": "python",
   "pygments_lexer": "ipython3",
   "version": "3.8.3-final"
  },
  "orig_nbformat": 2,
  "kernelspec": {
   "name": "Python 3.8.3 64-bit (conda)",
   "display_name": "Python 3.8.3 64-bit (conda)",
   "metadata": {
    "interpreter": {
     "hash": "9bd3154169915c5abcf572b70399d58e505aefce794ee665727c29afaa6b2771"
    }
   }
  }
 },
 "nbformat": 4,
 "nbformat_minor": 2,
 "cells": [
  {
   "cell_type": "code",
   "execution_count": 18,
   "metadata": {},
   "outputs": [
    {
     "output_type": "stream",
     "name": "stdout",
     "text": [
      "0 1 2 3 4 5 6 7 8 9 10 11 12 13 14 15 16 17 18 19 20 21 22 23 24 25 26 27 28 29 30 31 32 33 34 35 36 37 38 39 40 41 42 43 44 45 46 47 48 49 50 51 52 53 54 55 56 57 58 59 60 61 62 63 64 65 66 67 68 69 70 71 72 73 74 75 76 77 78 79 80 81 82 83 84 85 86 87 88 89 90 91 92 93 94 95 96 97 98 99 100 "
     ]
    }
   ],
   "source": [
    "for i in range(0,101):\n",
    "    print(i, end=\" \")"
   ]
  },
  {
   "cell_type": "code",
   "execution_count": 25,
   "metadata": {},
   "outputs": [
    {
     "output_type": "stream",
     "name": "stdout",
     "text": [
      "1 2 3 4 Burr\n6 7 8 9 Burr\n11 12 13 14 Burr\n16 17 18 19 Burr\n21 22 23 24 Burr\n26 27 28 29 Burr\n31 32 33 34 Burr\n36 37 38 39 Burr\n41 42 43 44 Burr\n46 47 48 49 Burr\n51 52 53 54 Burr\n56 57 58 59 Burr\n61 62 63 64 Burr\n66 67 68 69 Burr\n71 72 73 74 Burr\n76 77 78 79 Burr\n81 82 83 84 Burr\n86 87 88 89 Burr\n91 92 93 94 Burr\n96 97 98 99 Burr\n"
     ]
    }
   ],
   "source": [
    "n = 0\n",
    "\n",
    "\n",
    "while n < 100:\n",
    "    n = n+1\n",
    "    if n % 5:\n",
    "        print(n, end = \" \")\n",
    "    else:\n",
    "        print(\"Burr\")"
   ]
  },
  {
   "cell_type": "code",
   "execution_count": 3,
   "metadata": {},
   "outputs": [
    {
     "output_type": "stream",
     "name": "stdout",
     "text": [
      "1 2 Burr\n4 5 Burr\n7 8 Burr\n10 11 Burr\n13 14 Burr\n16 17 Burr\n19 20 Burr\n22 23 Burr\n25 26 Burr\n28 29 Burr\n31 32 Burr\n34 35 Burr\n37 38 Burr\n40 41 Burr\n43 44 Burr\n46 47 Burr\n49 50 Burr\n52 53 Burr\n55 56 Burr\n58 59 Burr\n61 62 Burr\n64 65 Burr\n67 68 Burr\n70 71 Burr\n73 74 Burr\n76 77 Burr\n79 80 Burr\n82 83 Burr\n85 86 Burr\n88 89 Burr\n91 92 Burr\n94 95 Burr\n97 98 Burr\n100 "
     ]
    }
   ],
   "source": [
    "n = 0\n",
    "\n",
    "multibel = float(input(\"Ange ett tal\"))\n",
    "\n",
    "while n < 100:\n",
    "    n = n+1\n",
    "    if n % multibel:\n",
    "        print(n, end = \" \")\n",
    "    else:\n",
    "        print(\"Burr\")"
   ]
  },
  {
   "cell_type": "code",
   "execution_count": 22,
   "metadata": {
    "tags": []
   },
   "outputs": [
    {
     "output_type": "stream",
     "name": "stdout",
     "text": [
      "1\n2\nburr\n4\n5\nburr\n7\n8\nburr\nbirr\n11\nburr\n13\n14\nburr\n16\n17\nburr\n19\nbirr\nburr\n22\n23\nburr\n25\n26\nburr\n28\n29\nburr\n31\n32\nburr\n34\n35\nburr\n37\n38\nburr\nbirr\n41\nburr\n43\n44\nburr\n46\n47\nburr\n49\nbirr\nburr\n52\n53\nburr\n55\n56\nburr\n58\n59\nburr\n61\n62\nburr\n64\n65\nburr\n67\n68\nburr\nbirr\n71\nburr\n73\n74\nburr\n76\n77\nburr\n79\nbirr\nburr\n82\n83\nburr\n85\n86\nburr\n88\n89\nburr\n91\n92\nburr\n94\n95\nburr\n97\n98\nburr\nbirr\n"
     ]
    }
   ],
   "source": [
    "n = 0\n",
    "\n",
    "multibel = float(input(\"Ange ett tal\"))\n",
    "x = float(input(\"Ange ett till tal\"))\n",
    "\n",
    "while n < 100:\n",
    "    n=n+1\n",
    "    if n % multibel == 0:\n",
    "        print(\"burr\")\n",
    "    elif n % x == 0:\n",
    "        print(\"birr\")\n",
    "    else:\n",
    "        print(n)"
   ]
  },
  {
   "cell_type": "code",
   "execution_count": null,
   "metadata": {},
   "outputs": [],
   "source": []
  }
 ]
}