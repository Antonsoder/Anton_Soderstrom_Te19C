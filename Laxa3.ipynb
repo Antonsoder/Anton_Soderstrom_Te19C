{
 "metadata": {
  "language_info": {
   "codemirror_mode": {
    "name": "ipython",
    "version": 3
   },
   "file_extension": ".py",
   "mimetype": "text/x-python",
   "name": "python",
   "nbconvert_exporter": "python",
   "pygments_lexer": "ipython3",
   "version": "3.8.3-final"
  },
  "orig_nbformat": 2,
  "kernelspec": {
   "name": "Python 3.8.3 64-bit ('base': conda)",
   "display_name": "Python 3.8.3 64-bit ('base': conda)",
   "metadata": {
    "interpreter": {
     "hash": "9bd3154169915c5abcf572b70399d58e505aefce794ee665727c29afaa6b2771"
    }
   }
  }
 },
 "nbformat": 4,
 "nbformat_minor": 2,
 "cells": [
  {
   "cell_type": "code",
   "execution_count": 5,
   "metadata": {
    "tags": []
   },
   "outputs": [
    {
     "output_type": "stream",
     "name": "stdout",
     "text": "1 2 3 4 5 6 7 8 9 10"
    }
   ],
   "source": [
    "#Uppgift 1a\n",
    "for i in range(1,11):\n",
    "    print(i, end =\" \")"
   ]
  },
  {
   "cell_type": "code",
   "execution_count": 7,
   "metadata": {
    "tags": []
   },
   "outputs": [
    {
     "output_type": "stream",
     "name": "stdout",
     "text": "-10 -9 -8 -7 -6 -5 -4 -3 -2 -1 0 1 2 3 4 5 6 7 8 9 10"
    }
   ],
   "source": [
    "#Uppgift 1b\n",
    "for i in range(-10,11,):\n",
    "    print(i, end =\" \")"
   ]
  },
  {
   "cell_type": "code",
   "execution_count": 9,
   "metadata": {
    "tags": []
   },
   "outputs": [
    {
     "output_type": "stream",
     "name": "stdout",
     "text": "10 9 8 7 6 5 4 3 2 1"
    }
   ],
   "source": [
    "#Uppgift 1c\n",
    "for i in range(10,0,-1):\n",
    "    print(i, end =\" \")"
   ]
  },
  {
   "cell_type": "code",
   "execution_count": 10,
   "metadata": {
    "tags": []
   },
   "outputs": [
    {
     "output_type": "stream",
     "name": "stdout",
     "text": "1 2 3 4 5 6 7 8 9"
    }
   ],
   "source": [
    "#Uppgift 2\n",
    "for i in range(1,10):\n",
    "    print(i, end =\" \")"
   ]
  },
  {
   "cell_type": "code",
   "execution_count": 13,
   "metadata": {
    "tags": []
   },
   "outputs": [
    {
     "output_type": "stream",
     "name": "stdout",
     "text": "1+2+3+...+99+100 = 5050\n"
    }
   ],
   "source": [
    "#Uppgift 3\n",
    "s = 0\n",
    "\n",
    "for i in range(101):\n",
    "    s += i\n",
    "print(f\"1+2+3+...+99+100 = {s}\")"
   ]
  },
  {
   "cell_type": "code",
   "execution_count": 15,
   "metadata": {
    "tags": []
   },
   "outputs": [
    {
     "output_type": "stream",
     "name": "stdout",
     "text": "1+2+3+...+98+99 = 4950\n"
    }
   ],
   "source": [
    "#Uppgift 4\n",
    "s = 0\n",
    "\n",
    "for i in range(100):\n",
    "    s += i\n",
    "print(f\"1+2+3+...+98+99 = {s}\")"
   ]
  },
  {
   "cell_type": "code",
   "execution_count": 20,
   "metadata": {
    "tags": []
   },
   "outputs": [
    {
     "output_type": "stream",
     "name": "stdout",
     "text": "0 5 10 15 20 25 30 35 40 45 50"
    }
   ],
   "source": [
    "#Uppgift 5a\n",
    "\n",
    "for i in range(0,51,5):\n",
    "    print(i, end=\" \")\n",
    "    \n"
   ]
  },
  {
   "cell_type": "code",
   "execution_count": 2,
   "metadata": {
    "tags": []
   },
   "outputs": [
    {
     "output_type": "stream",
     "name": "stdout",
     "text": "5 10 15 20 25 30 35 40 45 50 55 60 65 70 75 80 85 90 95 100 105 110 115 120 125 130 135 140 145 150 155 160 165 170 175 180 185 190 195 200 205 210 215 220 225 230 235 240 245 250 255 260 265 270 275 280 285 290 295 300 305 310 315 320 325 330 335 340 345 350 355 360 365 370 375 380 385 390 395 400 405 410 415 420 425 430 435 440 445 450 455 460 465 470 475 480 485 490 495 "
    }
   ],
   "source": [
    "#Uppgft 5b\n",
    "x = int(input(\"Ange någon mattematiktabell, 1-10\"))\n",
    "\n",
    "start = int(input(\"Ange startvärde\"))\n",
    "\n",
    "slut = int(input(\"Ange ett slutvärde\"))\n",
    "\n",
    "for i in range(start,slut):\n",
    "    print(f\"{5*i}\", end=\" \")\n",
    "\n",
    "\n",
    "\n",
    "\n",
    "\n"
   ]
  },
  {
   "cell_type": "code",
   "execution_count": null,
   "metadata": {},
   "outputs": [],
   "source": [
    "#Uppgift 6 \n",
    "\n",
    "\n",
    "\n"
   ]
  }
 ]
}