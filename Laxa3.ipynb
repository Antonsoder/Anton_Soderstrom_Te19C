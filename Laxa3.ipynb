{
 "metadata": {
  "language_info": {
   "codemirror_mode": {
    "name": "ipython",
    "version": 3
   },
   "file_extension": ".py",
   "mimetype": "text/x-python",
   "name": "python",
   "nbconvert_exporter": "python",
   "pygments_lexer": "ipython3",
   "version": "3.8.3-final"
  },
  "orig_nbformat": 2,
  "kernelspec": {
   "name": "Python 3.8.3 64-bit ('base': conda)",
   "display_name": "Python 3.8.3 64-bit ('base': conda)",
   "metadata": {
    "interpreter": {
     "hash": "9bd3154169915c5abcf572b70399d58e505aefce794ee665727c29afaa6b2771"
    }
   }
  }
 },
 "nbformat": 4,
 "nbformat_minor": 2,
 "cells": [
  {
   "cell_type": "code",
   "execution_count": 5,
   "metadata": {
    "tags": []
   },
   "outputs": [
    {
     "output_type": "stream",
     "name": "stdout",
     "text": "1 2 3 4 5 6 7 8 9 10"
    }
   ],
   "source": [
    "#Uppgift 1a\n",
    "for i in range(1,11):\n",
    "    print(i, end =\" \")"
   ]
  },
  {
   "cell_type": "code",
   "execution_count": 7,
   "metadata": {
    "tags": []
   },
   "outputs": [
    {
     "output_type": "stream",
     "name": "stdout",
     "text": "-10 -9 -8 -7 -6 -5 -4 -3 -2 -1 0 1 2 3 4 5 6 7 8 9 10"
    }
   ],
   "source": [
    "#Uppgift 1b\n",
    "for i in range(-10,11,):\n",
    "    print(i, end =\" \")"
   ]
  },
  {
   "cell_type": "code",
   "execution_count": 9,
   "metadata": {
    "tags": []
   },
   "outputs": [
    {
     "output_type": "stream",
     "name": "stdout",
     "text": "10 9 8 7 6 5 4 3 2 1"
    }
   ],
   "source": [
    "#Uppgift 1c\n",
    "for i in range(10,0,-1):\n",
    "    print(i, end =\" \")"
   ]
  },
  {
   "cell_type": "code",
   "execution_count": 10,
   "metadata": {
    "tags": []
   },
   "outputs": [
    {
     "output_type": "stream",
     "name": "stdout",
     "text": "1 2 3 4 5 6 7 8 9"
    }
   ],
   "source": [
    "#Uppgift 2\n",
    "for i in range(1,10):\n",
    "    print(i, end =\" \")"
   ]
  },
  {
   "cell_type": "code",
   "execution_count": 13,
   "metadata": {
    "tags": []
   },
   "outputs": [
    {
     "output_type": "stream",
     "name": "stdout",
     "text": "1+2+3+...+99+100 = 5050\n"
    }
   ],
   "source": [
    "#Uppgift 3\n",
    "s = 0\n",
    "\n",
    "for i in range(101):\n",
    "    s += i\n",
    "print(f\"1+2+3+...+99+100 = {s}\")"
   ]
  },
  {
   "cell_type": "code",
   "execution_count": 15,
   "metadata": {
    "tags": []
   },
   "outputs": [
    {
     "output_type": "stream",
     "name": "stdout",
     "text": "1+2+3+...+98+99 = 4950\n"
    }
   ],
   "source": [
    "#Uppgift 4\n",
    "s = 0\n",
    "\n",
    "for i in range(100):\n",
    "    s += i\n",
    "print(f\"1+2+3+...+98+99 = {s}\")"
   ]
  },
  {
   "cell_type": "code",
   "execution_count": 20,
   "metadata": {
    "tags": []
   },
   "outputs": [
    {
     "output_type": "stream",
     "name": "stdout",
     "text": "0 5 10 15 20 25 30 35 40 45 50"
    }
   ],
   "source": [
    "#Uppgift 5a\n",
    "\n",
    "for i in range(0,51,5):\n",
    "    print(i, end=\" \")\n",
    "    \n"
   ]
  },
  {
   "cell_type": "code",
   "execution_count": 1,
   "metadata": {
    "tags": []
   },
   "outputs": [
    {
     "output_type": "stream",
     "name": "stdout",
     "text": "6 12 18 24 30 36 42 48 54 60 66 72 78 84 90 96 102 108 114 120 126 132 138 144 150 156 162 168 174 180 186 192 198 204 210 216 222 228 234 240 246 252 258 264 270 276 282 288 294 300 306 312 318 324 330 336 342 348 354 "
    }
   ],
   "source": [
    "#Uppgft 5b\n",
    "x = int(input(\"Ange någon mattematiktabell, 1-10\"))\n",
    "\n",
    "start = int(input(\"Ange startvärde\"))\n",
    "\n",
    "slut = int(input(\"Ange ett slutvärde\"))\n",
    "\n",
    "for i in range(start,slut,):\n",
    "    print(f\"{x*i}\", end=\" \")\n",
    "\n",
    "\n",
    "\n",
    "\n",
    "\n"
   ]
  },
  {
   "cell_type": "code",
   "execution_count": null,
   "metadata": {},
   "outputs": [],
   "source": [
    "#Uppgift 6 \n",
    "\n",
    "\n",
    "\n"
   ]
  }
 ]
}