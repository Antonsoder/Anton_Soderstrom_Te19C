{
 "metadata": {
  "language_info": {
   "codemirror_mode": {
    "name": "ipython",
    "version": 3
   },
   "file_extension": ".py",
   "mimetype": "text/x-python",
   "name": "python",
   "nbconvert_exporter": "python",
   "pygments_lexer": "ipython3",
   "version": "3.8.3-final"
  },
  "orig_nbformat": 2,
  "kernelspec": {
   "name": "python_defaultSpec_1600859412352",
   "display_name": "Python 3.8.3 64-bit ('base': conda)"
  }
 },
 "nbformat": 4,
 "nbformat_minor": 2,
 "cells": [
  {
   "cell_type": "code",
   "execution_count": 2,
   "metadata": {
    "tags": []
   },
   "outputs": [
    {
     "output_type": "stream",
     "name": "stdout",
     "text": "Bom\nBom\nBom\nBom\nBom\nBom\nBom\nBom\nBom\nBom\nBom\nBom\nBom\nBom\nBom\nBom\nBom\nBom\nBom\nBom\n"
    }
   ],
   "source": [
    "for i in range(20):\n",
    "    print(\"Bom\")"
   ]
  },
  {
   "cell_type": "code",
   "execution_count": 19,
   "metadata": {
    "tags": []
   },
   "outputs": [
    {
     "output_type": "stream",
     "name": "stdout",
     "text": "45\n"
    }
   ],
   "source": [
    "# s = 0\n",
    "# s = 0 0 + 1\n",
    "# s = 0+1+2\n",
    "# s = 0+1+2+3\n",
    "#...\n",
    "# s = 0+1+2+3+4+5+6+7+8+9\n",
    "# i = variabel\n",
    "# 1 = start\n",
    "# om man slutar på en tia så får man 10 st tal totalt. alltså 0123456789. 10 är inte med.\n",
    "s = 0 \n",
    "\n",
    "for i in range (1,10):\n",
    "    s += i\n",
    "print(s)"
   ]
  },
  {
   "cell_type": "code",
   "execution_count": null,
   "metadata": {},
   "outputs": [],
   "source": []
  }
 ]
}