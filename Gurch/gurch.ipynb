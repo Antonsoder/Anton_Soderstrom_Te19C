{
 "metadata": {
  "language_info": {
   "codemirror_mode": {
    "name": "ipython",
    "version": 3
   },
   "file_extension": ".py",
   "mimetype": "text/x-python",
   "name": "python",
   "nbconvert_exporter": "python",
   "pygments_lexer": "ipython3",
   "version": "3.8.3-final"
  },
  "orig_nbformat": 2,
  "kernelspec": {
   "name": "python3",
   "display_name": "Python 3"
  }
 },
 "nbformat": 4,
 "nbformat_minor": 2,
 "cells": [
  {
   "cell_type": "code",
   "execution_count": 3,
   "metadata": {},
   "outputs": [
    {
     "output_type": "error",
     "ename": "AttributeError",
     "evalue": "'list' object has no attribute 'split'",
     "traceback": [
      "\u001b[1;31m---------------------------------------------------------------------------\u001b[0m",
      "\u001b[1;31mAttributeError\u001b[0m                            Traceback (most recent call last)",
      "\u001b[1;32m<ipython-input-3-f33d939b74b8>\u001b[0m in \u001b[0;36m<module>\u001b[1;34m\u001b[0m\n\u001b[0;32m     13\u001b[0m \u001b[0mspelare4\u001b[0m \u001b[1;33m=\u001b[0m \u001b[1;36m0\u001b[0m\u001b[1;33m\u001b[0m\u001b[1;33m\u001b[0m\u001b[0m\n\u001b[0;32m     14\u001b[0m \u001b[1;33m\u001b[0m\u001b[0m\n\u001b[1;32m---> 15\u001b[1;33m \u001b[0mkort\u001b[0m \u001b[1;33m=\u001b[0m \u001b[0mkort\u001b[0m\u001b[1;33m.\u001b[0m\u001b[0msplit\u001b[0m\u001b[1;33m(\u001b[0m\u001b[1;33m)\u001b[0m\u001b[1;33m\u001b[0m\u001b[1;33m\u001b[0m\u001b[0m\n\u001b[0m\u001b[0;32m     16\u001b[0m \u001b[1;33m\u001b[0m\u001b[0m\n\u001b[0;32m     17\u001b[0m \u001b[1;32mfor\u001b[0m \u001b[0mkort\u001b[0m \u001b[1;32min\u001b[0m \u001b[0mrange\u001b[0m\u001b[1;33m(\u001b[0m\u001b[1;36m4\u001b[0m\u001b[1;33m)\u001b[0m\u001b[1;33m:\u001b[0m\u001b[1;33m\u001b[0m\u001b[1;33m\u001b[0m\u001b[0m\n",
      "\u001b[1;31mAttributeError\u001b[0m: 'list' object has no attribute 'split'"
     ]
    }
   ],
   "source": [
    "#Gurch\n",
    "import random as random\n",
    "\n",
    "kort = [\"Spader 2\", \"Spader 3\", \"Spader 4\", \"Spader 5\", \"Spader 6\", \"Spader 7\", \"Spader 8\", \"Spader 9\",\n",
    "\"Spader 10\", \"Spader J\", \"Spader Q\", \"Spader K\", \"Spader E\", \"Hjärter 2\", \"Hjärter 3\", \"Hjärter 4\", \"Hjärter 5\", \"Hjärter 6\", \"Hjärter 7\",\n",
    "\"Hjärter 8\", \"Hjärter 9\", \"Hjärter 10\", \"Hjärter J\", \"Hjärter Q\", \"Hjärter K\", \"Hjärter E\",]\n",
    "\n",
    "random.choice(kort)\n",
    "\n",
    "spelare1 = 0\n",
    "spelare2 = 0\n",
    "spelare3 = 0\n",
    "spelare4 = 0\n",
    "\n",
    "kort = kort.split()\n",
    "\n",
    "for kort in range(4):\n",
    "    spelare1 = spelare1+1\n",
    "    spelare2 = spelare2+1\n",
    "    spelare3 = spelare3+1\n",
    "    spelare4 = spelare4+1\n",
    "\n",
    "print(spelare1)"
   ]
  },
  {
   "cell_type": "code",
   "execution_count": null,
   "metadata": {},
   "outputs": [],
   "source": []
  }
 ]
}