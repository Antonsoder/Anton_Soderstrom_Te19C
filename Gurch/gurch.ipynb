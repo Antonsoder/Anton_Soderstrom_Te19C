{
 "metadata": {
  "language_info": {
   "codemirror_mode": {
    "name": "ipython",
    "version": 3
   },
   "file_extension": ".py",
   "mimetype": "text/x-python",
   "name": "python",
   "nbconvert_exporter": "python",
   "pygments_lexer": "ipython3",
   "version": "3.8.3-final"
  },
  "orig_nbformat": 2,
  "kernelspec": {
   "name": "python3",
   "display_name": "Python 3"
  }
 },
 "nbformat": 4,
 "nbformat_minor": 2,
 "cells": [
  {
   "cell_type": "code",
   "execution_count": 6,
   "metadata": {},
   "outputs": [
    {
     "output_type": "stream",
     "name": "stdout",
     "text": [
      "4\n"
     ]
    }
   ],
   "source": [
    "#Gurch\n",
    "import random as rnd\n",
    "\n",
    "kort = \"hej hej1 hej2 hej3 hej4 hej5 hej6 hej7 hej8 hej9\"\n",
    "\n",
    "spelare1 = 0\n",
    "spelare2 = 0\n",
    "spelare3 = 0\n",
    "spelare4 = 0\n",
    "\n",
    "kort = kort.split()\n",
    "\n",
    "for kort in range(4):\n",
    "    spelare1 = spelare1+1\n",
    "    spelare2 = spelare2+1\n",
    "    spelare3 = spelare3+1\n",
    "    spelare4 = spelare4+1\n",
    "\n",
    "print(spelare1)\n",
    "\n",
    "\n"
   ]
  },
  {
   "cell_type": "code",
   "execution_count": null,
   "metadata": {},
   "outputs": [],
   "source": []
  }
 ]
}