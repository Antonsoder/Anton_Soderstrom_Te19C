{
 "metadata": {
  "language_info": {
   "codemirror_mode": {
    "name": "ipython",
    "version": 3
   },
   "file_extension": ".py",
   "mimetype": "text/x-python",
   "name": "python",
   "nbconvert_exporter": "python",
   "pygments_lexer": "ipython3",
   "version": "3.8.3-final"
  },
  "orig_nbformat": 2,
  "kernelspec": {
   "name": "python3",
   "display_name": "Python 3",
   "language": "python"
  }
 },
 "nbformat": 4,
 "nbformat_minor": 2,
 "cells": [
  {
   "cell_type": "code",
   "execution_count": 1,
   "metadata": {},
   "outputs": [
    {
     "output_type": "stream",
     "name": "stdout",
     "text": [
      "Spelare 1 har korten: \n['Qc', '5h', '2c', 'Ks', 'Jd']\n<---------------------------->\nSpelare 2 har korten: \n['Ac', '5c', 'Tc', 'Th', 'Ad']\n<---------------------------->\nSpelare 3 har korten: \n['8h', 'Qs', '2c', '7c', 'Ah']\n<---------------------------->\n2\n2\n2\n2\n3\n3\n3\n3\n4\n4\n4\n4\n5\n5\n5\n5\n6\n6\n6\n6\n7\n7\n7\n7\n8\n8\n8\n8\n9\n9\n9\n9\n10\n10\n10\n10\n11\n11\n11\n11\n12\n12\n12\n12\n12\n13\n13\n13\n14\n14\n14\n14\n"
     ]
    }
   ],
   "source": [
    "import random as rnd\n",
    "\n",
    "kort = ['2s', '2h', '2d', '2c', '3s', '3h', '3d', '3c', '4s', '4h', '4d', '4c', '5s', '5h', '5d', '5c', '6s', '6h', '6d', '6c', '7s', '7h', '7d', '7c', '8s', '8h', '8d', '8c', '9s', '9h', '9d', '9c', 'Ts', 'Th', 'Td', 'Tc', 'Js', 'Jh', 'Jd', 'Jc', 'Qs', 'Qh', 'Qd', 'Qc', 'Ks', 'Kh', 'Kd', 'Kc', 'As', 'Ah', 'Ad', 'Ac']\n",
    "\n",
    "värden = ['2', '2', '2', '2', '3', '3', '3', '3', '4', '4', '4', '4', '5', '5', '5', '5', '6', '6', '6', '6', '7', '7', '7', '7', '8', '8', '8', '8', '9', '9', '9', '9', '10', '10', '10', '10', '11', '11', '11', '11', '12', '12', '12', '12', '12', '13', '13', '13', '14', '14', '14', '14']\n",
    "\n",
    "\n",
    "\n",
    "hand = []\n",
    "\n",
    "spelare = int(input(\"Ange antal spelare\"))\n",
    "ggr = int(input(\"Vilken gånger vill ni köra?\"))\n",
    "\n",
    "omvandlare = spelare + 1\n",
    "\n",
    "\n",
    "\n",
    "\n",
    "def Gurch():\n",
    " Gurchhand()\n",
    "\n",
    "def Gurchhand():\n",
    "    for x in range(1,omvandlare):\n",
    "         print(f\"Spelare {x} har korten: \")\n",
    "         print(rnd.sample(kort, 5))\n",
    "         print(\"<---------------------------->\")\n",
    "\n",
    "Gurch()\n",
    "\n",
    "for (x,y) in zip(kort, värden):\n",
    "    print(y)\n"
   ]
  },
  {
   "cell_type": "code",
   "execution_count": null,
   "metadata": {},
   "outputs": [],
   "source": []
  }
 ]
}