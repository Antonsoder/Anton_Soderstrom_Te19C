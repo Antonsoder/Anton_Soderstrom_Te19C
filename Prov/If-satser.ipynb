{
 "metadata": {
  "language_info": {
   "codemirror_mode": {
    "name": "ipython",
    "version": 3
   },
   "file_extension": ".py",
   "mimetype": "text/x-python",
   "name": "python",
   "nbconvert_exporter": "python",
   "pygments_lexer": "ipython3",
   "version": "3.8.3-final"
  },
  "orig_nbformat": 2,
  "kernelspec": {
   "name": "python3",
   "display_name": "Python 3",
   "language": "python"
  }
 },
 "nbformat": 4,
 "nbformat_minor": 2,
 "cells": [
  {
   "cell_type": "code",
   "execution_count": 6,
   "metadata": {},
   "outputs": [
    {
     "output_type": "stream",
     "name": "stdout",
     "text": [
      "Ditt värde är noll\n"
     ]
    }
   ],
   "source": [
    "x = float(input(\"Mata in ett värde\"))\n",
    "\n",
    "if x  > 0:\n",
    "   print(\"Ditt tal är positivt\")\n",
    "elif x < 0:\n",
    "    print(\"Ditt värde är negativt\")\n",
    "else:\n",
    "    print(\"Ditt värde är noll\")\n",
    "   "
   ]
  },
  {
   "cell_type": "code",
   "execution_count": 3,
   "metadata": {},
   "outputs": [
    {
     "output_type": "stream",
     "name": "stdout",
     "text": [
      "Ditt tal är delbart med 2\nDitt tal är delbart med 5\n"
     ]
    }
   ],
   "source": [
    "x = float(input(\"Mata in ett värde\"))\n",
    "\n",
    "if x%5 == 0:\n",
    "    if x%2 == 0:\n",
    "        print(\"Ditt tal är jämnt\")\n",
    "    print(\"Ditt tal är delbart med 5\")\n",
    "elif x%2 == 0:\n",
    "    print(\"Ditt tal är jämnt\")"
   ]
  },
  {
   "cell_type": "code",
   "execution_count": 6,
   "metadata": {},
   "outputs": [
    {
     "output_type": "stream",
     "name": "stdout",
     "text": [
      "Dina tal är lika\n"
     ]
    }
   ],
   "source": [
    "x = float(input(\"Mata in ett tal\"))\n",
    "y = float(input(\"Mata in ett till tal\"))\n",
    "\n",
    "if x > y:\n",
    "    print(f\"Det största talet är {x}\")\n",
    "elif y > x:\n",
    "    print(\"Det största talet är {y}\")\n",
    "else:\n",
    "    print(\"Dina tal är lika\")"
   ]
  },
  {
   "cell_type": "code",
   "execution_count": 9,
   "metadata": {},
   "outputs": [
    {
     "output_type": "stream",
     "name": "stdout",
     "text": [
      "Ditt bagage går inte igenom\n"
     ]
    }
   ],
   "source": [
    "vikt = float(input(\"Mata in din vikt\"))\n",
    "höjd = float(input(\"Mata in din höjd\"))\n",
    "längd = float(input(\"Mata in din längd\"))\n",
    "bredd = float(input(\"Mata in din bredd\"))\n",
    "\n",
    "if vikt <= 8 and höjd <= 23 and längd <= 55 and bredd <= 40:\n",
    "    print(\"Ditt bagage går igenom.\")\n",
    "else:\n",
    "    print(\"Ditt bagage går inte igenom\")\n"
   ]
  },
  {
   "cell_type": "code",
   "execution_count": 20,
   "metadata": {},
   "outputs": [
    {
     "output_type": "stream",
     "name": "stdout",
     "text": [
      "absolutbeloppet -5.0 är 5.0\n"
     ]
    }
   ],
   "source": [
    "x = float(input(\"Mata in ett tal\"))\n",
    "\n",
    "\n",
    "if x > 0:\n",
    "    print(f\"absolutbeloppet av {x} är {x}\")\n",
    "elif x < 0:\n",
    "    print(f\"absolutbeloppet {x} är {-x}\")\n",
    "else:\n",
    "    print(\"absolutbeloppet är 0\")\n"
   ]
  },
  {
   "cell_type": "code",
   "execution_count": 23,
   "metadata": {},
   "outputs": [
    {
     "output_type": "stream",
     "name": "stdout",
     "text": [
      "28.0\n"
     ]
    }
   ],
   "source": [
    "import math\n",
    "\n",
    "a = 1\n",
    "b = -1\n",
    "c = -2\n",
    "\n",
    "y = (a*x**2)+b*x+c\n",
    "\n",
    "print(y)"
   ]
  },
  {
   "cell_type": "code",
   "execution_count": 28,
   "metadata": {},
   "outputs": [
    {
     "output_type": "stream",
     "name": "stdout",
     "text": [
      "Dina tal ligger på linjen\n"
     ]
    }
   ],
   "source": [
    "x = float(input(\"Mata in ett x-värde\"))\n",
    "y = float(input(\"Mata in ett y-värde\"))\n",
    "\n",
    "z = (3*x)+5\n",
    "\n",
    "if y == z:\n",
    "    print(\"Dina tal ligger på linjen\")\n",
    "else:\n",
    "    print(\"Dina tall ligger inte på linjen\")"
   ]
  },
  {
   "cell_type": "code",
   "execution_count": null,
   "metadata": {},
   "outputs": [],
   "source": []
  }
 ]
}