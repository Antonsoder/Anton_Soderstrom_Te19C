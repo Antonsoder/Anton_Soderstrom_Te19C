{
 "metadata": {
  "language_info": {
   "codemirror_mode": {
    "name": "ipython",
    "version": 3
   },
   "file_extension": ".py",
   "mimetype": "text/x-python",
   "name": "python",
   "nbconvert_exporter": "python",
   "pygments_lexer": "ipython3",
   "version": "3.8.3-final"
  },
  "orig_nbformat": 2,
  "kernelspec": {
   "name": "python3",
   "display_name": "Python 3",
   "language": "python"
  }
 },
 "nbformat": 4,
 "nbformat_minor": 2,
 "cells": [
  {
   "cell_type": "code",
   "execution_count": 6,
   "metadata": {},
   "outputs": [
    {
     "output_type": "stream",
     "name": "stdout",
     "text": [
      "4.0\n"
     ]
    }
   ],
   "source": [
    "import math\n",
    "\n",
    "x = 3\n",
    "c = 5\n",
    "\n",
    "y = math.sqrt(c**2 - x**2) \n",
    "\n",
    "\n",
    "\n",
    "print(y)"
   ]
  },
  {
   "cell_type": "code",
   "execution_count": 8,
   "metadata": {},
   "outputs": [
    {
     "output_type": "stream",
     "name": "stdout",
     "text": [
      "10.0\n"
     ]
    }
   ],
   "source": [
    "x = float(input(\"Mata in triangelns bas\"))\n",
    "y = float(input(\"Mata in triangelns höjd\"))\n",
    "\n",
    "area = (x*y)/2\n",
    "\n",
    "print(area)\n",
    "\n"
   ]
  },
  {
   "cell_type": "code",
   "execution_count": 9,
   "metadata": {},
   "outputs": [
    {
     "output_type": "stream",
     "name": "stdout",
     "text": [
      "4.123105625617661\n"
     ]
    }
   ],
   "source": [
    "import math\n",
    "\n",
    "y1 = 2\n",
    "y2 = 3\n",
    "x1 = -2\n",
    "x2 = 2\n",
    "\n",
    "avstand = math.sqrt(((x2-x1)**2)+ ((y2-y1)**2))\n",
    "\n",
    "print(avstand)"
   ]
  },
  {
   "cell_type": "code",
   "execution_count": null,
   "metadata": {},
   "outputs": [],
   "source": []
  }
 ]
}