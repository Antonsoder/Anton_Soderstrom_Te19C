{
 "metadata": {
  "language_info": {
   "codemirror_mode": {
    "name": "ipython",
    "version": 3
   },
   "file_extension": ".py",
   "mimetype": "text/x-python",
   "name": "python",
   "nbconvert_exporter": "python",
   "pygments_lexer": "ipython3",
   "version": "3.8.3-final"
  },
  "orig_nbformat": 2,
  "kernelspec": {
   "name": "python3",
   "display_name": "Python 3",
   "language": "python"
  }
 },
 "nbformat": 4,
 "nbformat_minor": 2,
 "cells": [
  {
   "cell_type": "code",
   "execution_count": 3,
   "metadata": {},
   "outputs": [
    {
     "output_type": "stream",
     "name": "stdout",
     "text": [
      "5050\n"
     ]
    }
   ],
   "source": [
    "summa, n = 0, 0\n",
    "\n",
    "while n < 101:\n",
    "    summa += n \n",
    "    n += 1  \n",
    "\n",
    "print(summa)"
   ]
  },
  {
   "cell_type": "code",
   "execution_count": 12,
   "metadata": {},
   "outputs": [],
   "source": [
    "\n",
    "\n",
    "while x >= -2 and x <= 2:\n",
    "    x += 0.1\n",
    "    y = ((x**2)-3*x)\n",
    "    print(y)"
   ]
  },
  {
   "cell_type": "code",
   "execution_count": null,
   "metadata": {
    "tags": []
   },
   "outputs": [],
   "source": [
    "\n",
    "\n",
    "import random as rnd\n",
    "\n",
    "y=rnd.randint(0, 100)\n",
    "\n",
    "h = 0\n",
    "\n",
    "while h !=y:\n",
    "    h = int(input(\"Gissa på ett tal (heltal) mellan 0 och 100\"))\n",
    "   \n",
    "    if h < y:\n",
    "        print(\"Gissa högre\")\n",
    "\n",
    "    elif h > y:\n",
    "        print(\"Gissa lägre\")\n",
    "    else:\n",
    "        print(\"rätt svar\")\n"
   ]
  },
  {
   "cell_type": "code",
   "execution_count": null,
   "metadata": {},
   "outputs": [],
   "source": []
  }
 ]
}