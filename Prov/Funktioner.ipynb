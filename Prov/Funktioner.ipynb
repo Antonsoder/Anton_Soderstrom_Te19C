{
 "metadata": {
  "language_info": {
   "codemirror_mode": {
    "name": "ipython",
    "version": 3
   },
   "file_extension": ".py",
   "mimetype": "text/x-python",
   "name": "python",
   "nbconvert_exporter": "python",
   "pygments_lexer": "ipython3",
   "version": "3.8.3-final"
  },
  "orig_nbformat": 2,
  "kernelspec": {
   "name": "python3",
   "display_name": "Python 3",
   "language": "python"
  }
 },
 "nbformat": 4,
 "nbformat_minor": 2,
 "cells": [
  {
   "cell_type": "code",
   "execution_count": 13,
   "metadata": {},
   "outputs": [
    {
     "output_type": "stream",
     "name": "stdout",
     "text": [
      "15.0\n"
     ]
    }
   ],
   "source": [
    "def aritmetisk_summa(n,a1,an):\n",
    "    y = ((n*a1)+(n*an))/2\n",
    "    return y\n",
    "print(aritmetisk_summa(5,1,5))"
   ]
  },
  {
   "cell_type": "code",
   "execution_count": 21,
   "metadata": {},
   "outputs": [
    {
     "output_type": "stream",
     "name": "stdout",
     "text": [
      "180.0\n"
     ]
    }
   ],
   "source": [
    "n = float(input(\"Mata in ett n-värde\"))\n",
    "a = float(input(\"Mata in ett a-värde\"))\n",
    "\n",
    "def f(n,a):\n",
    "    y = (2*n)+a\n",
    "    return y\n",
    "\n",
    "print(f(n,a))"
   ]
  },
  {
   "cell_type": "code",
   "execution_count": 24,
   "metadata": {},
   "outputs": [
    {
     "output_type": "stream",
     "name": "stdout",
     "text": [
      "5.385164807134504\n"
     ]
    }
   ],
   "source": [
    "import math\n",
    "\n",
    "def f(x1,x2,y1,y2):\n",
    "    y = math.sqrt(((x2-x1)**2)+((y2-y1)**2))\n",
    "    return y\n",
    "print(f(3,-2,3,1))"
   ]
  },
  {
   "cell_type": "code",
   "execution_count": 2,
   "metadata": {},
   "outputs": [
    {
     "output_type": "stream",
     "name": "stdout",
     "text": [
      "4 tusenlappar, 0 femhundralappar, 0 tvåhundralappar, 0 hundralappar, 0 femtiolappar, 0 tjugolappar, 0 tiokronor, 0 femkronor, 0 enkronor, "
     ]
    }
   ],
   "source": [
    "def växla(summa):\n",
    "    kontanter = [1000, 500, 200, 100, 50, 20, 10, 5, 1] \n",
    "    sedlar = [\"tusenlappar\", \"femhundralappar\", \"tvåhundralappar\", \"hundralappar\", \"femtiolappar\", \"tjugolappar\", \"tiokronor\", \"femkronor\", \"enkronor\"] \n",
    "\n",
    "    for i in range(len(kontanter)): \n",
    "        antal = summa//kontanter[i] \n",
    "        summa %= kontanter[i] \n",
    "        print(f\"{antal} {sedlar[i]}\", end=\", \") \n",
    "\n",
    "växla(4000)"
   ]
  },
  {
   "cell_type": "code",
   "execution_count": null,
   "metadata": {},
   "outputs": [],
   "source": []
  }
 ]
}