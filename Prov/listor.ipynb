{
 "metadata": {
  "language_info": {
   "codemirror_mode": {
    "name": "ipython",
    "version": 3
   },
   "file_extension": ".py",
   "mimetype": "text/x-python",
   "name": "python",
   "nbconvert_exporter": "python",
   "pygments_lexer": "ipython3",
   "version": "3.8.3-final"
  },
  "orig_nbformat": 2,
  "kernelspec": {
   "name": "python3",
   "display_name": "Python 3",
   "language": "python"
  }
 },
 "nbformat": 4,
 "nbformat_minor": 2,
 "cells": [
  {
   "cell_type": "code",
   "execution_count": 22,
   "metadata": {},
   "outputs": [
    {
     "output_type": "stream",
     "name": "stdout",
     "text": [
      "[6, 6, 5, 4, 4, 4, 4, 4, 2, 2]\n"
     ]
    }
   ],
   "source": [
    "import random as rnd\n",
    "\n",
    "tärningskast = []\n",
    "\n",
    "for i in range(10):\n",
    "    kast = rnd.randint(1,6)\n",
    "    tärningskast.append(kast)\n",
    "    tärningskast.sort\n",
    "print(tärningskast)\n",
    "\n"
   ]
  },
  {
   "cell_type": "code",
   "execution_count": 23,
   "metadata": {},
   "outputs": [
    {
     "output_type": "stream",
     "name": "stdout",
     "text": [
      "[6, 6, 5, 5, 3, 3, 2, 2, 1, 1]\n"
     ]
    }
   ],
   "source": [
    "import random as rnd\n",
    "\n",
    "tärningskast = []\n",
    "\n",
    "for i in range(10):\n",
    "    kast = rnd.randint(1,6)\n",
    "    tärningskast.append(kast)\n",
    "    tärningskast.sort(reverse=True)\n",
    "print(tärningskast)"
   ]
  },
  {
   "cell_type": "code",
   "execution_count": 29,
   "metadata": {},
   "outputs": [
    {
     "output_type": "stream",
     "name": "stdout",
     "text": [
      "a 1\ta 2\ta 3\ta 4\ta 5\ta 6\ta 7\ta 8\t\n\nb 1\tb 2\tb 3\tb 4\tb 5\tb 6\tb 7\tb 8\t\n\nc 1\tc 2\tc 3\tc 4\tc 5\tc 6\tc 7\tc 8\t\n\nd 1\td 2\td 3\td 4\td 5\td 6\td 7\td 8\t\n\ne 1\te 2\te 3\te 4\te 5\te 6\te 7\te 8\t\n\nf 1\tf 2\tf 3\tf 4\tf 5\tf 6\tf 7\tf 8\t\n\ng 1\tg 2\tg 3\tg 4\tg 5\tg 6\tg 7\tg 8\t\n\nh 1\th 2\th 3\th 4\th 5\th 6\th 7\th 8\t\n\n"
     ]
    }
   ],
   "source": [
    "bokstäver = [\"a\", \"b\", \"c\", \"d\", \"e\", \"f\", \"g\", \"h\"]\n",
    "\n",
    "siffror = [1, 2, 3, 4, 5, 6, 7, 8]\n",
    "\n",
    "for a in bokstäver:\n",
    "    for b in siffror:\n",
    "        print(a, b, end =\"\\t\")\n",
    "    print('\\n')\n",
    "\n",
    "    "
   ]
  },
  {
   "cell_type": "code",
   "execution_count": null,
   "metadata": {},
   "outputs": [],
   "source": []
  }
 ]
}