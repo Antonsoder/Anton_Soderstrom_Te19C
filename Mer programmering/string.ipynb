{
 "metadata": {
  "language_info": {
   "codemirror_mode": {
    "name": "ipython",
    "version": 3
   },
   "file_extension": ".py",
   "mimetype": "text/x-python",
   "name": "python",
   "nbconvert_exporter": "python",
   "pygments_lexer": "ipython3",
   "version": "3.8.3-final"
  },
  "orig_nbformat": 2,
  "kernelspec": {
   "name": "python3",
   "display_name": "Python 3"
  }
 },
 "nbformat": 4,
 "nbformat_minor": 2,
 "cells": [
  {
   "source": [
    "#Konkatenering\n",
    "\n",
    "förnamn = \"Anton\"\n",
    "efternamn = \"Söderström\"\n",
    "\n",
    "#Konkatenering = lägga ihop strängarna\n",
    "\n",
    "namn = förnamn + \" \"+ efternamn\n",
    "\n",
    "Ålder = \"17\"\n",
    "Addres = \"Tulebovägen 32\"\n",
    "Telefonnummer =112\n",
    "\n",
    "personuppgifter = \"Namn: \" + namn + \"\\n\"+ \"ålder: \" + Ålder + \"\\n\" +\"Telefon: \"+ str(Telefonnummer)\n",
    "\n",
    "print(personuppgifter)"
   ],
   "cell_type": "code",
   "metadata": {},
   "execution_count": 13,
   "outputs": [
    {
     "output_type": "stream",
     "name": "stdout",
     "text": [
      "namn: Anton Söderström\nålder: 17\nTelefon: 112\n"
     ]
    }
   ]
  },
  {
   "cell_type": "code",
   "execution_count": 20,
   "metadata": {},
   "outputs": [
    {
     "output_type": "stream",
     "name": "stdout",
     "text": [
      "Alfabetet innehåller 29 bokstäver\nBokstav på index 0: a\nBokstav på index -2: ä\nBokstav på index 6: g\nAlfabetet baklänges: öäåzyxwvutsrqponmlkjihgfedcba\n"
     ]
    }
   ],
   "source": [
    "#Indexering\n",
    "\n",
    "alfabet = \"abcdefghijklmnopqrstuvwxyzåäö\"\n",
    "\n",
    "\n",
    "#Len funktionen ger längden på en lista.\n",
    "print(f\"Alfabetet innehåller {len(alfabet)} bokstäver\")\n",
    "\n",
    "#Indexera\n",
    "print(f\"Bokstav på index 0: {alfabet[0]}\")\n",
    "print(f\"Bokstav på index -2: {alfabet[-2]}\")\n",
    "print(f\"Bokstav på index 6: {alfabet[6]}\")\n",
    "print(f\"Alfabetet baklänges: {alfabet[::-1]}\")"
   ]
  },
  {
   "cell_type": "code",
   "execution_count": 28,
   "metadata": {},
   "outputs": [
    {
     "output_type": "stream",
     "name": "stdout",
     "text": [
      "['matte', 'prog', 'webb']\n['kött', 'pasta', 'potatis']\n"
     ]
    }
   ],
   "source": [
    "# en string funktion sepparerar en sträng\n",
    "\n",
    "favoritämnen = \"matte prog webb\"\n",
    "favoritmat = \"kött pasta potatis\"\n",
    "\n",
    "favoritämnen = favoritämnen.split()\n",
    "favoritmat = favoritmat.split()\n",
    "\n",
    "print(favoritämnen)\n",
    "print(favoritmat)\n",
    "\n"
   ]
  },
  {
   "cell_type": "code",
   "execution_count": 31,
   "metadata": {},
   "outputs": [
    {
     "output_type": "stream",
     "name": "stdout",
     "text": [
      "['matte', 'prog', 'webb']\n['kött', 'pasta', 'potatis']\nJag älskar att äta kött\nJag älskar att äta pasta\nJag älskar att äta potatis\n"
     ]
    }
   ],
   "source": [
    "# en string funktoon sepparerar en sträng\n",
    "\n",
    "favoritämnen = \"matte prog webb\"\n",
    "favoritmat = \"kött pasta potatis\"\n",
    "\n",
    "favoritämnen = favoritämnen.split()\n",
    "favoritmat = favoritmat.split()\n",
    "\n",
    "print(favoritämnen)\n",
    "print(favoritmat)\n",
    "\n",
    "for mat in favoritmat:\n",
    "    print(f\"Jag älskar att äta {mat}\")"
   ]
  },
  {
   "cell_type": "code",
   "execution_count": null,
   "metadata": {},
   "outputs": [],
   "source": []
  }
 ]
}