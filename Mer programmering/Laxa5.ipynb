{
 "metadata": {
  "language_info": {
   "codemirror_mode": {
    "name": "ipython",
    "version": 3
   },
   "file_extension": ".py",
   "mimetype": "text/x-python",
   "name": "python",
   "nbconvert_exporter": "python",
   "pygments_lexer": "ipython3",
   "version": "3.8.3-final"
  },
  "orig_nbformat": 2,
  "kernelspec": {
   "name": "python3",
   "display_name": "Python 3"
  }
 },
 "nbformat": 4,
 "nbformat_minor": 2,
 "cells": [
  {
   "cell_type": "code",
   "execution_count": 5,
   "metadata": {},
   "outputs": [
    {
     "output_type": "stream",
     "name": "stdout",
     "text": [
      "Ditt namn innehåller 5 bokstäver\n"
     ]
    }
   ],
   "source": [
    "#Uppgift 1\n",
    "namn = input(\"Ange ditt förnman\")\n",
    "\n",
    "print(f\"Ditt namn innehåller {len(namn)} bokstäver\")"
   ]
  },
  {
   "cell_type": "code",
   "execution_count": 9,
   "metadata": {},
   "outputs": [
    {
     "output_type": "stream",
     "name": "stdout",
     "text": [
      "Antalet ord i denna meningen är: 15\n"
     ]
    }
   ],
   "source": [
    "#Uppgift 2\n",
    "mening = \"En bild säger mer än tusen ord, en matematisk formel säger mer än tusen bilder.\"\n",
    "\n",
    "antalord = len(mening.split())\n",
    "\n",
    "print(f\"Antalet ord i denna meningen är: \" + str(antalord))"
   ]
  },
  {
   "cell_type": "code",
   "execution_count": 12,
   "metadata": {},
   "outputs": [
    {
     "output_type": "stream",
     "name": "stdout",
     "text": [
      "Do not worry about your difficulties in Mathematics, I can assure you mine are still greater.\nAntalet vokaler i denna meningen är: 33\n"
     ]
    }
   ],
   "source": [
    "#Uppgift 4\n",
    "string_mening = \"Do not worry about your difficulties in Mathematics, I can assure you mine are still greater.\"\n",
    "\n",
    "vokaler = 0\n",
    "\n",
    "for i in string_mening:\n",
    "    if(i == 'a' or i == 'i' or i == 'e' or i == 'o' or i == 'u' or i == 'A' or i == 'I' or i == 'E' or i == 'O' or i == 'U'):\n",
    "        vokaler = vokaler + 1\n",
    "\n",
    "print(\"Do not worry about your difficulties in Mathematics, I can assure you mine are still greater.\")\n",
    "print(f\"Antalet vokaler i denna meningen är: {vokaler}\")\n"
   ]
  },
  {
   "cell_type": "code",
   "execution_count": null,
   "metadata": {},
   "outputs": [],
   "source": []
  }
 ]
}