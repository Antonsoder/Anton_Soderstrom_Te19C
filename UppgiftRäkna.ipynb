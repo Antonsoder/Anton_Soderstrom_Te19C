{
 "metadata": {
  "language_info": {
   "codemirror_mode": {
    "name": "ipython",
    "version": 3
   },
   "file_extension": ".py",
   "mimetype": "text/x-python",
   "name": "python",
   "nbconvert_exporter": "python",
   "pygments_lexer": "ipython3",
   "version": "3.8.3-final"
  },
  "orig_nbformat": 2,
  "kernelspec": {
   "name": "python_defaultSpec_1599651499356",
   "display_name": "Python 3.8.3 64-bit ('anton.soderstrom': virtualenv)"
  }
 },
 "nbformat": 4,
 "nbformat_minor": 2,
 "cells": [
  {
   "cell_type": "code",
   "execution_count": 2,
   "metadata": {
    "tags": []
   },
   "outputs": [
    {
     "output_type": "stream",
     "name": "stdout",
     "text": "500.0 Kelvin är lika med 226.85000000000002Celsius\n"
    }
   ],
   "source": [
    "k = float(input(\"Skriv ett kelvin värde\"))\n",
    "c = k - 273.15\n",
    "# kommentar\n",
    "print(f\" {k} Kelvin är lika med {c}Celsius\")\n",
    "\n"
   ]
  },
  {
   "cell_type": "code",
   "execution_count": 3,
   "metadata": {
    "tags": []
   },
   "outputs": [
    {
     "output_type": "stream",
     "name": "stdout",
     "text": "500.0 Celsius är lika med 773.15Kelvin\n"
    }
   ],
   "source": [
    "c = float(input(\"Skriv ett kelvin värde\"))\n",
    "k = c + 273.15\n",
    "\n",
    "print(f\" {c} Celsius är lika med {k}Kelvin\")"
   ]
  },
  {
   "cell_type": "code",
   "execution_count": 16,
   "metadata": {
    "tags": []
   },
   "outputs": [
    {
     "output_type": "stream",
     "name": "stdout",
     "text": "Du betalar 900.0Kr i månaden\nköp månadskort\n"
    }
   ],
   "source": [
    "x = float(input(\"Hur många gånger åker du med västtraffik per månad?\"))\n",
    "\n",
    "Kostnad = x * 30\n",
    "\n",
    "print(f\"Du betalar {Kostnad}Kr i månaden\")\n",
    "\n",
    "if x < 25:\n",
    "    print(f\"köp biljett\")\n",
    "else:\n",
    "    print(\"köp månadskort\")\n"
   ]
  },
  {
   "cell_type": "code",
   "execution_count": null,
   "metadata": {},
   "outputs": [],
   "source": []
  }
 ]
}