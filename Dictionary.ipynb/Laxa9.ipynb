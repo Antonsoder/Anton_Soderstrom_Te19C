{
 "metadata": {
  "language_info": {
   "codemirror_mode": {
    "name": "ipython",
    "version": 3
   },
   "file_extension": ".py",
   "mimetype": "text/x-python",
   "name": "python",
   "nbconvert_exporter": "python",
   "pygments_lexer": "ipython3",
   "version": "3.8.3-final"
  },
  "orig_nbformat": 2,
  "kernelspec": {
   "name": "python3",
   "display_name": "Python 3.8.3 64-bit ('anton.soderstrom': virtualenv)",
   "metadata": {
    "interpreter": {
     "hash": "9bd3154169915c5abcf572b70399d58e505aefce794ee665727c29afaa6b2771"
    }
   }
  }
 },
 "nbformat": 4,
 "nbformat_minor": 2,
 "cells": [
  {
   "cell_type": "code",
   "execution_count": 1,
   "metadata": {},
   "outputs": [
    {
     "output_type": "stream",
     "name": "stdout",
     "text": [
      "{'namn': 'Kokchun', 'ålder': 29, 'yrke': 'lärare', 'arbetsplats': 'NTI'}\nPersonens namn är Kokchun\nHan är 29 år gammal\nKokchun jobbar som lärare på skolan NTI\n"
     ]
    }
   ],
   "source": [
    "\n",
    "# syntax med dict()\n",
    "person = dict(\n",
    "    namn = \"Kokchun\",\n",
    "    ålder = 29,\n",
    "    yrke = \"lärare\",\n",
    "    arbetsplats = \"NTI\"\n",
    ")\n",
    "\n",
    "print(person)\n",
    "\n",
    "# kommer åt värdena genom att använda sig av person['key']\n",
    "print(f\"Personens namn är {person['namn']}\")\n",
    "print(f\"Han är {person['ålder']} år gammal\")\n",
    "print(f\"{person['namn']} jobbar som {person['yrke']} på skolan {person['arbetsplats']}\")"
   ]
  },
  {
   "cell_type": "code",
   "execution_count": 2,
   "metadata": {},
   "outputs": [
    {
     "output_type": "stream",
     "name": "stdout",
     "text": [
      "Orden vi ska lära oss är: \ntilldela, datastruktur, sträng, dictionary, \n\nGlosa \t\t Betydelse\ntilldela  \t ge ett värde till en variabel\ndatastruktur  \t struktuering av data\nsträng  \t sekvens av tecken\ndictionary  \t datastruktur för att spara data i key:value par\n"
     ]
    }
   ],
   "source": [
    "# syntax med måsvingar {}\n",
    "glosor = {\n",
    "    \"tilldela\":\"ge ett värde till en variabel\",\n",
    "    \"datastruktur\":\"struktuering av data\",\n",
    "    \"sträng\": \"sekvens av tecken\"\n",
    "}\n",
    "# lägga till element i dictionary\n",
    "glosor[\"dictionary\"] = \"datastruktur för att spara data i key:value par\"\n",
    "\n",
    "\n",
    "print(\"Orden vi ska lära oss är: \")\n",
    "# itererar över nycklarna i dictionary\n",
    "for key in glosor:\n",
    "    print(key, end =\", \")\n",
    "\n",
    "print(\"\\n\\nGlosa \\t\\t Betydelse\")\n",
    "# itererar över nyckel, värde i dictionary\n",
    "for key, value in glosor.items():\n",
    "    print(f\"{key}  \\t {value}\")"
   ]
  },
  {
   "cell_type": "code",
   "execution_count": null,
   "metadata": {},
   "outputs": [],
   "source": []
  }
 ]
}