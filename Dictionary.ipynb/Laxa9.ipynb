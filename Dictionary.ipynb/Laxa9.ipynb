{
 "metadata": {
  "language_info": {
   "codemirror_mode": {
    "name": "ipython",
    "version": 3
   },
   "file_extension": ".py",
   "mimetype": "text/x-python",
   "name": "python",
   "nbconvert_exporter": "python",
   "pygments_lexer": "ipython3",
   "version": "3.8.3-final"
  },
  "orig_nbformat": 2,
  "kernelspec": {
   "name": "python3",
   "display_name": "Python 3.8.3 64-bit ('anton.soderstrom': virtualenv)",
   "metadata": {
    "interpreter": {
     "hash": "9bd3154169915c5abcf572b70399d58e505aefce794ee665727c29afaa6b2771"
    }
   }
  }
 },
 "nbformat": 4,
 "nbformat_minor": 2,
 "cells": [
  {
   "cell_type": "code",
   "execution_count": 4,
   "metadata": {},
   "outputs": [
    {
     "output_type": "stream",
     "name": "stdout",
     "text": [
      "{'matte': 100, 'engelska': 100, 'Idrott': 100, 'programmering': 100, 'daodac': 100, 'fysik': 150, 'webbutveckling': 100, 'svenska': 100}\nDen totala poängen är: 850\n"
     ]
    }
   ],
   "source": [
    "kurser = dict(\n",
    "    matte = 100,\n",
    "    engelska = 100,\n",
    "    Idrott = 100,\n",
    "    programmering = 100,\n",
    "    daodac = 100,\n",
    "    fysik = 150,\n",
    "    webbutveckling = 100,\n",
    "    svenska = 100,\n",
    ")\n",
    "\n",
    "print(kurser)\n",
    "\n",
    "values = kurser.values()\n",
    "poäng = sum(values)\n",
    "\n",
    "print(f\"Den totala poängen är: {poäng}\")"
   ]
  },
  {
   "cell_type": "code",
   "execution_count": null,
   "metadata": {},
   "outputs": [],
   "source": []
  }
 ]
}