{
 "metadata": {
  "language_info": {
   "codemirror_mode": {
    "name": "ipython",
    "version": 3
   },
   "file_extension": ".py",
   "mimetype": "text/x-python",
   "name": "python",
   "nbconvert_exporter": "python",
   "pygments_lexer": "ipython3",
   "version": "3.8.3-final"
  },
  "orig_nbformat": 2,
  "kernelspec": {
   "name": "python3",
   "display_name": "Python 3.8.3 64-bit (conda)",
   "metadata": {
    "interpreter": {
     "hash": "9bd3154169915c5abcf572b70399d58e505aefce794ee665727c29afaa6b2771"
    }
   }
  }
 },
 "nbformat": 4,
 "nbformat_minor": 2,
 "cells": [
  {
   "cell_type": "code",
   "execution_count": 4,
   "metadata": {},
   "outputs": [
    {
     "output_type": "stream",
     "name": "stdout",
     "text": [
      "{'matte': 100, 'engelska': 100, 'Idrott': 100, 'programmering': 100, 'daodac': 100, 'fysik': 150, 'webbutveckling': 100, 'svenska': 100}\nDen totala poängen är: 850\n"
     ]
    }
   ],
   "source": [
    "kurser = dict(\n",
    "    matte = 100,\n",
    "    engelska = 100,\n",
    "    Idrott = 100,\n",
    "    programmering = 100,\n",
    "    daodac = 100,\n",
    "    fysik = 150,\n",
    "    webbutveckling = 100,\n",
    "    svenska = 100,\n",
    ")\n",
    "\n",
    "print(kurser)\n",
    "\n",
    "values = kurser.values()\n",
    "poäng = sum(values)\n",
    "\n",
    "print(f\"Den totala poängen är: {poäng}\")"
   ]
  },
  {
   "cell_type": "code",
   "execution_count": 9,
   "metadata": {},
   "outputs": [
    {
     "output_type": "stream",
     "name": "stdout",
     "text": [
      "Antalet ettor var: 1648st\nAntalet tvåor var: 1646st\nAntalet treor var: 1743st\nAntalet fyror var: 1619st\nAntalet femmor var: 1703st\nAntalet sexor var: 1641st\nTotala antal kast: 10000st\n"
     ]
    }
   ],
   "source": [
    "import random as rnd\n",
    "\n",
    "ettor = 0\n",
    "tvåor = 0\n",
    "treor = 0\n",
    "fyror = 0\n",
    "femmor = 0\n",
    "sexor = 0\n",
    "\n",
    "for i in range(0,10000):\n",
    "    kast = rnd.randint(1,6)\n",
    "    if kast == 1:\n",
    "        ettor += 1\n",
    "    elif kast == 2:\n",
    "        tvåor += 1\n",
    "    elif kast == 3:\n",
    "        treor += 1\n",
    "    elif kast == 4:\n",
    "        fyror += 1\n",
    "    elif kast == 5:\n",
    "        femmor += 1\n",
    "    elif kast == 6:\n",
    "        sexor += 1\n",
    "\n",
    "totalt = ettor + tvåor + treor + fyror + femmor + sexor\n",
    "\n",
    "print(f\"Antalet ettor var: {ettor}st\")\n",
    "print(f\"Antalet tvåor var: {tvåor}st\")\n",
    "print(f\"Antalet treor var: {treor}st\")\n",
    "print(f\"Antalet fyror var: {fyror}st\")\n",
    "print(f\"Antalet femmor var: {femmor}st\")\n",
    "print(f\"Antalet sexor var: {sexor}st\")\n",
    "print(f\"Totala antal kast: {totalt}st\")"
   ]
  },
  {
   "cell_type": "code",
   "execution_count": 7,
   "metadata": {},
   "outputs": [
    {
     "output_type": "error",
     "ename": "NameError",
     "evalue": "name 'code' is not defined",
     "traceback": [
      "\u001b[1;31m---------------------------------------------------------------------------\u001b[0m",
      "\u001b[1;31mNameError\u001b[0m                                 Traceback (most recent call last)",
      "\u001b[1;32m<ipython-input-7-eab772618145>\u001b[0m in \u001b[0;36m<module>\u001b[1;34m\u001b[0m\n\u001b[0;32m      1\u001b[0m \u001b[1;31m# reverse the previous dict as it's easier to access the keys\u001b[0m\u001b[1;33m\u001b[0m\u001b[1;33m\u001b[0m\u001b[1;33m\u001b[0m\u001b[0m\n\u001b[1;32m----> 2\u001b[1;33m \u001b[0mzipped_code_char\u001b[0m \u001b[1;33m=\u001b[0m \u001b[0mzip\u001b[0m\u001b[1;33m(\u001b[0m\u001b[0mcode\u001b[0m\u001b[1;33m,\u001b[0m\u001b[0mcharacter\u001b[0m\u001b[1;33m)\u001b[0m\u001b[1;33m\u001b[0m\u001b[1;33m\u001b[0m\u001b[0m\n\u001b[0m\u001b[0;32m      3\u001b[0m \u001b[0mrev_morse_dict\u001b[0m \u001b[1;33m=\u001b[0m \u001b[0mdict\u001b[0m\u001b[1;33m(\u001b[0m\u001b[0mlist\u001b[0m\u001b[1;33m(\u001b[0m\u001b[0mzipped_code_char\u001b[0m\u001b[1;33m)\u001b[0m\u001b[1;33m)\u001b[0m\u001b[1;33m\u001b[0m\u001b[1;33m\u001b[0m\u001b[0m\n\u001b[0;32m      4\u001b[0m \u001b[1;31m# initiating a while loop\u001b[0m\u001b[1;33m\u001b[0m\u001b[1;33m\u001b[0m\u001b[1;33m\u001b[0m\u001b[0m\n\u001b[0;32m      5\u001b[0m \u001b[1;32mwhile\u001b[0m \u001b[1;32mTrue\u001b[0m\u001b[1;33m:\u001b[0m\u001b[1;33m\u001b[0m\u001b[1;33m\u001b[0m\u001b[0m\n",
      "\u001b[1;31mNameError\u001b[0m: name 'code' is not defined"
     ]
    }
   ],
   "source": []
  },
  {
   "cell_type": "code",
   "execution_count": null,
   "metadata": {},
   "outputs": [],
   "source": []
  }
 ]
}