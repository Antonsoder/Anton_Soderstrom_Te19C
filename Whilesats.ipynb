{
 "metadata": {
  "language_info": {
   "codemirror_mode": {
    "name": "ipython",
    "version": 3
   },
   "file_extension": ".py",
   "mimetype": "text/x-python",
   "name": "python",
   "nbconvert_exporter": "python",
   "pygments_lexer": "ipython3",
   "version": "3.8.3-final"
  },
  "orig_nbformat": 2,
  "kernelspec": {
   "name": "Python 3.8.3 64-bit ('base': conda)",
   "display_name": "Python 3.8.3 64-bit ('base': conda)",
   "metadata": {
    "interpreter": {
     "hash": "9bd3154169915c5abcf572b70399d58e505aefce794ee665727c29afaa6b2771"
    }
   }
  }
 },
 "nbformat": 4,
 "nbformat_minor": 2,
 "cells": [
  {
   "cell_type": "code",
   "execution_count": 1,
   "metadata": {
    "tags": []
   },
   "outputs": [
    {
     "output_type": "stream",
     "name": "stdout",
     "text": "45\n"
    }
   ],
   "source": [
    "summa, n = 0, 0\n",
    "#När n är mindre än 10 så kommer dessa satser att köra.\n",
    "while n < 10: #vilkor\n",
    "    summa += n #indentering\n",
    "    n += 1  #utökad tilldelning\n",
    "\n",
    "print(summa)"
   ]
  },
  {
   "cell_type": "code",
   "execution_count": 8,
   "metadata": {
    "tags": []
   },
   "outputs": [
    {
     "output_type": "stream",
     "name": "stdout",
     "text": "Jämna tal från 0-10\n0 2 4 6 8 10 "
    }
   ],
   "source": [
    "# While sats = Kod upprepas så länge vilkoret gäller\n",
    "# For sats = Kod upprepas ett bestämt antal gånger\n",
    "\n",
    "print(\"Jämna tal från 0-10\")\n",
    "n = 0\n",
    "while n <= 10:\n",
    "    print(n, end = \" \")\n",
    "    n += 2"
   ]
  },
  {
   "source": [
    "'''\n",
    "Miljlutsläpp fråga!\n",
    "Ett miljöutsläpp halverar fågelpopulationen i en ö varje år Föågelpopulationen började på 8000 st.\n",
    "'''\n",
    "\n",
    "fåglar = 8000\n",
    "år = 0\n",
    "\n",
    "print(f\"år {år}: Antal fåglar: {fåglar}st\")\n",
    "\n",
    "while fåglar >= 800:\n",
    "    fåglar /= 2\n",
    "    år += 1\n",
    "    print(f\"år {år}: Antal fåglar: {fåglar}st\")\n",
    "\n",
    "print(f\"Det tar {år} år tills fågelpopulationen understiger en tiondel\")\n",
    "\n"
   ],
   "cell_type": "code",
   "metadata": {
    "tags": []
   },
   "execution_count": 18,
   "outputs": [
    {
     "output_type": "stream",
     "name": "stdout",
     "text": "år 0: Antal fåglar: 8000st\når 1: Antal fåglar: 4000.0st\når 2: Antal fåglar: 2000.0st\når 3: Antal fåglar: 1000.0st\når 4: Antal fåglar: 500.0st\nDet tar 4 år tills fågelpopulationen understiger en tiondel\n"
    }
   ]
  },
  {
   "cell_type": "code",
   "execution_count": null,
   "metadata": {},
   "outputs": [],
   "source": []
  }
 ]
}