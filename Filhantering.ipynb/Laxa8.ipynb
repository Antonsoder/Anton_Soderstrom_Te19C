{
 "metadata": {
  "language_info": {
   "codemirror_mode": {
    "name": "ipython",
    "version": 3
   },
   "file_extension": ".py",
   "mimetype": "text/x-python",
   "name": "python",
   "nbconvert_exporter": "python",
   "pygments_lexer": "ipython3",
   "version": "3.8.3-final"
  },
  "orig_nbformat": 2,
  "kernelspec": {
   "name": "python3",
   "display_name": "Python 3.8.3 64-bit (conda)",
   "metadata": {
    "interpreter": {
     "hash": "9bd3154169915c5abcf572b70399d58e505aefce794ee665727c29afaa6b2771"
    }
   }
  }
 },
 "nbformat": 4,
 "nbformat_minor": 2,
 "cells": [
  {
   "cell_type": "code",
   "execution_count": 30,
   "metadata": {},
   "outputs": [],
   "source": [
    "import random as rnd\n",
    "\n",
    "\n",
    "\n",
    "\n",
    "sorteradetärningar = []\n",
    "tärningar = []\n",
    "antalfemmor = 0\n",
    "\n",
    "\n",
    "with open(\"diceRoll.txt\", \"w\") as file1:\n",
    "    for i in range(10):\n",
    "        tärningskast = rnd.randint(1,6)\n",
    "        tärningar.append(tärningskast)\n",
    "        sorteradetärningar.append(tärningskast)\n",
    "        sorteradetärningar.sort()\n",
    "        if tärningskast == 5:\n",
    "            antalfemmor += 1\n",
    "\n",
    "    file1.write(f\"10 simmulerade tärningskast: {tärningar}\")\n",
    "    file1.write(f\"\\n 10 simmulerade täningskast sorterade: {sorteradetärningar}\")\n",
    "    file1.write(f\"\\n Antal femmor: {antalfemmor}\")\n",
    "\n"
   ]
  },
  {
   "cell_type": "code",
   "execution_count": 28,
   "metadata": {},
   "outputs": [],
   "source": [
    "\n"
   ]
  },
  {
   "cell_type": "code",
   "execution_count": 39,
   "metadata": {},
   "outputs": [],
   "source": [
    "namn = []\n",
    "\n",
    "\n",
    "\n",
    "with open(\"Provresultat.txt\", \"r\") as f:\n",
    "    for rad in f:\n",
    "        namn.append(rad.strip())\n",
    "\n",
    "namn.sort()\n",
    "\n",
    "\n",
    "with open(\"Provresultat.txt\", \"w\") as f:\n",
    "    for nyanamn in namn:\n",
    "        f.write(f\"\\n{nyanamn}\")\n",
    "\n",
    "\n",
    "\n"
   ]
  },
  {
   "cell_type": "code",
   "execution_count": null,
   "metadata": {},
   "outputs": [],
   "source": [
    "#Uppgift 4\n",
    "\n",
    "open(\"simulering.txt\", \"w\") as f1:\n",
    "    for rad\n"
   ]
  }
 ]
}