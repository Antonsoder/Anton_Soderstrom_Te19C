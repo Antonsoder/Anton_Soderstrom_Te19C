{
 "metadata": {
  "language_info": {
   "codemirror_mode": {
    "name": "ipython",
    "version": 3
   },
   "file_extension": ".py",
   "mimetype": "text/x-python",
   "name": "python",
   "nbconvert_exporter": "python",
   "pygments_lexer": "ipython3",
   "version": "3.8.3-final"
  },
  "orig_nbformat": 2,
  "kernelspec": {
   "name": "python3",
   "display_name": "Python 3",
   "language": "python"
  }
 },
 "nbformat": 4,
 "nbformat_minor": 2,
 "cells": [
  {
   "cell_type": "code",
   "execution_count": 7,
   "metadata": {},
   "outputs": [
    {
     "output_type": "stream",
     "name": "stdout",
     "text": [
      "1.0\n"
     ]
    }
   ],
   "source": [
    "#Uppgift 1\n",
    "import numpy as np\n",
    "\n",
    "def distance(p1, p2):\n",
    "    return np.sqrt(((p2-p1)**2)+(()))\n",
    "\n",
    "print(distance(0.5,0.5))"
   ]
  },
  {
   "cell_type": "code",
   "execution_count": 4,
   "metadata": {},
   "outputs": [
    {
     "output_type": "stream",
     "name": "stdout",
     "text": [
      "100är inte fyrsiffrigt\n231är inte fyrsiffrigt\n10000är inte fyrsiffrigt\n10001är inte fyrsiffrigt\n-1000 är fyrsiffrigt\n102313är inte fyrsiffrigt\n"
     ]
    }
   ],
   "source": [
    "#Uppgift 2\n",
    "def ar_fyrsirigt(t):\n",
    "    if t//1000 >= 1 and t//1000 < 10 or t /1000 < 0:\n",
    "        return True\n",
    "    else:\n",
    "        return False\n",
    "\n",
    "# Testprogramm\n",
    "testtal = [100, 231, 10000, 10001, -1000, 102313]\n",
    "\n",
    "for t in testtal:\n",
    "    if ar_fyrsirigt(t):\n",
    "        print(f\"{t} är fyrsiffrigt\")\n",
    "    else:\n",
    "        print(f\"{t}är inte fyrsiffrigt\")"
   ]
  },
  {
   "cell_type": "code",
   "execution_count": 15,
   "metadata": {},
   "outputs": [
    {
     "output_type": "stream",
     "name": "stdout",
     "text": [
      "Antal gånger måste vara mellan 0 och 100\n",
      "Antal gånger ska stå i siffror.\n",
      "Du borde köpa månadskort\n"
     ]
    }
   ],
   "source": [
    "#Uppgift 3\n",
    "\n",
    "månadskostnad = 1500\n",
    "engångskostnad = 50\n",
    "\n",
    "while True:\n",
    "    try:\n",
    "        antalgånger = float(input(\"Hur många gånger i månaden ska du åka?\"))\n",
    "        assert antalgånger > 0 and antalgånger < 100, \"Antal gånger måste vara mellan 0 och 100\"\n",
    "        break\n",
    "    except AssertionError as msg:\n",
    "        print(msg)\n",
    "    except:\n",
    "        print(\"Antal gånger ska stå i siffror.\")\n",
    "\n",
    "totalpris = antalgånger * engångskostnad\n",
    "\n",
    "if totalpris == månadskostnad:\n",
    "    print(\"Det kostar lika mycket, du kan ha vad som helst.\")\n",
    "elif totalpris > månadskostnad:\n",
    "    print(\"Du borde köpa månadskort\")\n",
    "else:\n",
    "    print(\"Du borde hålla dig till att köpa en biljett varje gång.\")\n"
   ]
  },
  {
   "cell_type": "code",
   "execution_count": null,
   "metadata": {},
   "outputs": [],
   "source": []
  }
 ]
}