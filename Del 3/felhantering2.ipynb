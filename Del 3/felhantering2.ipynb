{
 "metadata": {
  "language_info": {
   "codemirror_mode": {
    "name": "ipython",
    "version": 3
   },
   "file_extension": ".py",
   "mimetype": "text/x-python",
   "name": "python",
   "nbconvert_exporter": "python",
   "pygments_lexer": "ipython3",
   "version": "3.8.3-final"
  },
  "orig_nbformat": 2,
  "kernelspec": {
   "name": "python3",
   "display_name": "Python 3",
   "language": "python"
  }
 },
 "nbformat": 4,
 "nbformat_minor": 2,
 "cells": [
  {
   "cell_type": "code",
   "execution_count": 1,
   "metadata": {},
   "outputs": [
    {
     "output_type": "error",
     "ename": "IndentationError",
     "evalue": "unexpected indent (<ipython-input-1-79b5c7cb04d0>, line 7)",
     "traceback": [
      "\u001b[1;36m  File \u001b[1;32m\"<ipython-input-1-79b5c7cb04d0>\"\u001b[1;36m, line \u001b[1;32m7\u001b[0m\n\u001b[1;33m    try:\u001b[0m\n\u001b[1;37m    ^\u001b[0m\n\u001b[1;31mIndentationError\u001b[0m\u001b[1;31m:\u001b[0m unexpected indent\n"
     ]
    }
   ],
   "source": [
    "#Låt användaren mata in ett tal. Skriv ut största talet. Skriv ut minsta talet\n",
    "\n",
    "tal_str = input(\"skriv in ett antal tal med mellanrum emellan.\")\n",
    "\n",
    "lista_str = tal_str.split() #Split ger oss en lista, splitter där vi har mellanslag.\n",
    "\n",
    "    try:    \n",
    "        tal_lista = [float(x)for x in lista_str] #För varje element i denna listan kommer de talen att omvanclas till float.\n",
    "        störst = max(tal_lista)\n",
    "        minst = min(tal_lista)\n",
    "        print(f\"Största talet är {störst}, minsta talet är {minst}\")\n",
    "    except:\n",
    "        print(\"Felaktika tal\")\n",
    "\n",
    "print(tal_lista)"
   ]
  },
  {
   "cell_type": "code",
   "execution_count": null,
   "metadata": {},
   "outputs": [],
   "source": []
  }
 ]
}