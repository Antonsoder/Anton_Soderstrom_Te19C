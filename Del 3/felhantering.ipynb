{
 "metadata": {
  "language_info": {
   "codemirror_mode": {
    "name": "ipython",
    "version": 3
   },
   "file_extension": ".py",
   "mimetype": "text/x-python",
   "name": "python",
   "nbconvert_exporter": "python",
   "pygments_lexer": "ipython3",
   "version": "3.8.3-final"
  },
  "orig_nbformat": 2,
  "kernelspec": {
   "name": "python3",
   "display_name": "Python 3",
   "language": "python"
  }
 },
 "nbformat": 4,
 "nbformat_minor": 2,
 "cells": [
  {
   "cell_type": "code",
   "execution_count": 4,
   "metadata": {},
   "outputs": [
    {
     "output_type": "stream",
     "name": "stdout",
     "text": [
      "Du är barn\n"
     ]
    }
   ],
   "source": [
    "ålder = int(input(\"Hur gammal är du?\"))\n",
    "\n",
    "if ålder >= 18:\n",
    "    print(\"Du är vuxen\")\n",
    "\n",
    "else:\n",
    "    print(\"Du är barn\")\n",
    "# Syntax fel = När språkrelger inte följs, hittas när man kör programmet eller under exekvering fel.\n",
    "# exekveringsfel - felet upptäcks under körningen, vilket kan krascha programmet.\n",
    "# Sätt att krasha detta programmet: Skriva in bokstäver, decimaltal \n",
    "# Logiskt fel = \"Felaktik lösning på problemet\". Tex, -55 = barn. Detta ger felaktiga resultat.\n"
   ]
  },
  {
   "cell_type": "code",
   "execution_count": 7,
   "metadata": {},
   "outputs": [
    {
     "output_type": "stream",
     "name": "stdout",
     "text": [
      "Du är barn\n"
     ]
    }
   ],
   "source": [
    "#Lösning på \"Logiskt fel\"\n",
    "\n",
    "ålder = int(input(\"Hur gammal är du?\"))\n",
    "assert ålder >= 0 and ålder < 125, \"Din ålder ska vara mellan 0 och 125\"\n",
    "\n",
    "#Assert \"assert ålder >= 0 and ålder < 125\". Om detta är falskt ska programmet krascha\n",
    "#Assert används för att skapa ett eget felmeddelande ifall assert-statementet inte stämmer.\n",
    "\n",
    "if ålder >= 18:\n",
    "    print(\"Du är vuxen\")\n",
    "\n",
    "else:\n",
    "    print(\"Du är barn\")"
   ]
  },
  {
   "cell_type": "code",
   "execution_count": 11,
   "metadata": {},
   "outputs": [
    {
     "output_type": "stream",
     "name": "stdout",
     "text": [
      "Din ålder ska vara mellan 0 och 125\nDu är barn\n"
     ]
    }
   ],
   "source": [
    "#Try betyder att man kollar vart man har farlig kod.\n",
    "#Assert komemr kasta en Assertion error och except kommer att fånga Addertion erroren och kasta ut message.\n",
    "\n",
    "try:\n",
    "    ålder = int(input(\"Hur gammal är du?\"))\n",
    "    assert ålder >= 0 and ålder < 125, \"Din ålder ska vara mellan 0 och 125\"\n",
    "except AssertionError as msg:\n",
    "    print(msg)\n",
    "\n",
    "#Except fångar in meddelandet.\n",
    "\n",
    "if ålder >= 18:\n",
    "    print(\"Du är vuxen\")\n",
    "\n",
    "else:\n",
    "    print(\"Du är barn\")"
   ]
  },
  {
   "cell_type": "code",
   "execution_count": 14,
   "metadata": {},
   "outputs": [
    {
     "output_type": "stream",
     "name": "stdout",
     "text": [
      "Din ålder ska vara mellan 0 och 125\n",
      "Du är barn\n"
     ]
    }
   ],
   "source": [
    "while True:\n",
    "    try:\n",
    "        ålder = int(input(\"Hur gammal är du?\"))\n",
    "        assert ålder >= 0 and ålder < 125, \"Din ålder ska vara mellan 0 och 125\" #OM detta är okej så ska den hoppa ut ur while-satsen, annars ska den krasha via assertion error och komma tillbaka\n",
    "        break #Hoppar ut från while-satsen\n",
    "    except AssertionError as msg:\n",
    "        print(msg)\n",
    "\n",
    "\n",
    "if ålder >= 18:\n",
    "    print(\"Du är vuxen\")\n",
    "\n",
    "else:\n",
    "    print(\"Du är barn\")"
   ]
  },
  {
   "cell_type": "code",
   "execution_count": 4,
   "metadata": {},
   "outputs": [
    {
     "output_type": "stream",
     "name": "stdout",
     "text": [
      "Din ålder ska vara mellan 0 och 125\n",
      "Din ålder ska vara mellan 0 och 125\n",
      "Du är barn\n"
     ]
    }
   ],
   "source": [
    "while True:\n",
    "    try:\n",
    "        ålder = int(input(\"Hur gammal är du?\"))\n",
    "        assert ålder >= 0 and ålder < 125, \"Din ålder ska vara mellan 0 och 125\" \n",
    "        break\n",
    "    except AssertionError as msg: #Denna koden fångar bara Assertienerror, inte andra fel.\n",
    "        print(msg)\n",
    "    except: #Denna koden fångar även fel med bokstäver.\n",
    "        print(\"Din ålder ska vara ett tal\")\n",
    "\n",
    "\n",
    "if ålder >= 18:\n",
    "    print(\"Du är vuxen\")\n",
    "\n",
    "else:\n",
    "    print(\"Du är barn\")"
   ]
  },
  {
   "cell_type": "code",
   "execution_count": null,
   "metadata": {},
   "outputs": [],
   "source": []
  }
 ]
}