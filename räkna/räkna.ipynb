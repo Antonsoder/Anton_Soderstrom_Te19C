{
 "metadata": {
  "language_info": {
   "codemirror_mode": {
    "name": "ipython",
    "version": 3
   },
   "file_extension": ".py",
   "mimetype": "text/x-python",
   "name": "python",
   "nbconvert_exporter": "python",
   "pygments_lexer": "ipython3",
   "version": "3.8.3-final"
  },
  "orig_nbformat": 2,
  "kernelspec": {
   "name": "python_defaultSpec_1599806563343",
   "display_name": "Python 3.8.3 64-bit ('base': conda)"
  }
 },
 "nbformat": 4,
 "nbformat_minor": 2,
 "cells": [
  {
   "cell_type": "code",
   "execution_count": 3,
   "metadata": {
    "tags": []
   },
   "outputs": [
    {
     "output_type": "stream",
     "name": "stdout",
     "text": "Din tyngdkraft är 716.86N\n"
    }
   ],
   "source": [
    "# skapar en variabel g och tilldelar det värdet 9.82\n",
    "# Min massa är 73 kg. \n",
    "\n",
    "g = 9.82\n",
    "m = 73\n",
    "\n",
    "F = m*g\n",
    "\n",
    "print(f\"Din tyngdkraft är {F}N\")\n"
   ]
  },
  {
   "cell_type": "code",
   "execution_count": 6,
   "metadata": {
    "tags": []
   },
   "outputs": [
    {
     "output_type": "stream",
     "name": "stdout",
     "text": "Din tyngdkraft är 716.86N\n"
    }
   ],
   "source": [
    "# input ger oss en sträng. Float framför typomvandlar den till flyttal = decimaltal. \n",
    "\n",
    "g = 9.82\n",
    "m = float(input(\"Hur mycket väger du\"))\n",
    "\n",
    "F = m*g\n",
    "\n",
    "print(f\"Din tyngdkraft är {F}N\")"
   ]
  },
  {
   "cell_type": "code",
   "execution_count": 7,
   "metadata": {
    "tags": []
   },
   "outputs": [
    {
     "output_type": "stream",
     "name": "stdout",
     "text": "0.58 = 57.99999999999999%\n"
    }
   ],
   "source": [
    "decimaltal = float(input(\"Ange ett decimaltal\"))\n",
    "\n",
    "procent = decimaltal*100\n",
    "\n",
    "print(f\"{decimaltal} = {procent}%\")"
   ]
  },
  {
   "cell_type": "code",
   "execution_count": 10,
   "metadata": {
    "tags": []
   },
   "outputs": [
    {
     "output_type": "stream",
     "name": "stdout",
     "text": "0.58 = 58%\n0.58 = 58 %\n"
    }
   ],
   "source": [
    "# Ska avrunda så att den blir korrekt heltal istället\n",
    "\n",
    "decimaltal = float(input(\"Ange ett decimaltal\"))\n",
    "\n",
    "procent = decimaltal*100\n",
    "\n",
    "print(f\"{decimaltal} = {procent:.0f}%\")\n",
    "\n",
    "\n",
    "# Annat sätt använder alltså inte f\n",
    "print(decimaltal, \"=\",round(procent),\"%\")"
   ]
  },
  {
   "cell_type": "code",
   "execution_count": 20,
   "metadata": {
    "tags": []
   },
   "outputs": [
    {
     "output_type": "stream",
     "name": "stdout",
     "text": "400K är samma sak som 126.85000000000002C\n"
    }
   ],
   "source": [
    "K = 400\n",
    "C = K -273.15\n",
    "print(f\"{K}K är samma sak som {C}C\")\n"
   ]
  },
  {
   "cell_type": "code",
   "execution_count": null,
   "metadata": {},
   "outputs": [],
   "source": [
    "Kelvin = float(input(\"\"))"
   ]
  },
  {
   "cell_type": "code",
   "execution_count": 1,
   "metadata": {
    "tags": []
   },
   "outputs": [
    {
     "output_type": "stream",
     "name": "stdout",
     "text": "talet är udda\n"
    }
   ],
   "source": [
    "tal = int(input(\"Ange ett heltal: \")) #typomvandlar till int(heltal)\n",
    "\n",
    "if tal%2 == 0:\n",
    "    print(\"Talet är jämnt\")\n",
    "else:\n",
    "    print(\"talet är udda\")"
   ]
  },
  {
   "cell_type": "code",
   "execution_count": null,
   "metadata": {},
   "outputs": [],
   "source": []
  }
 ]
}