{
 "metadata": {
  "language_info": {
   "codemirror_mode": {
    "name": "ipython",
    "version": 3
   },
   "file_extension": ".py",
   "mimetype": "text/x-python",
   "name": "python",
   "nbconvert_exporter": "python",
   "pygments_lexer": "ipython3",
   "version": "3.8.3-final"
  },
  "orig_nbformat": 2,
  "kernelspec": {
   "name": "python3",
   "display_name": "Python 3.8.3 64-bit (conda)",
   "metadata": {
    "interpreter": {
     "hash": "9bd3154169915c5abcf572b70399d58e505aefce794ee665727c29afaa6b2771"
    }
   }
  }
 },
 "nbformat": 4,
 "nbformat_minor": 2,
 "cells": [
  {
   "cell_type": "code",
   "execution_count": 17,
   "metadata": {
    "tags": []
   },
   "outputs": [
    {
     "output_type": "stream",
     "name": "stdout",
     "text": [
      "5050\n"
     ]
    }
   ],
   "source": [
    "#Uppgift 1\n",
    "\n",
    "summa, n = 0, 0\n",
    "\n",
    "\n",
    "while n < 101:\n",
    "    summa += n\n",
    "    n += 1\n",
    "\n",
    "print(summa)\n",
    "\n"
   ]
  },
  {
   "cell_type": "code",
   "execution_count": 4,
   "metadata": {},
   "outputs": [
    {
     "output_type": "stream",
     "name": "stdout",
     "text": [
      "2500\n"
     ]
    }
   ],
   "source": [
    "#Uppgift 2\n",
    "\n",
    "\n",
    "summa, n = 0, 1\n",
    "\n",
    "while n < 100:\n",
    "    summa += n\n",
    "    n += 2\n",
    "\n",
    "print(summa)\n",
    "\n"
   ]
  },
  {
   "cell_type": "code",
   "execution_count": 18,
   "metadata": {},
   "outputs": [
    {
     "output_type": "stream",
     "name": "stdout",
     "text": [
      "2.0\n"
     ]
    }
   ],
   "source": [
    "#Uppgift 3\n",
    "summa = 0\n",
    "x = 0\n",
    "\n",
    "while x < 100: #Desto högre värde desto mer exakt värde\n",
    "    summa = summa + 2**(-x)\n",
    "    x = x +1\n",
    "\n",
    "print(f\"{summa}\")\n"
   ]
  },
  {
   "cell_type": "code",
   "execution_count": 3,
   "metadata": {},
   "outputs": [
    {
     "output_type": "stream",
     "name": "stdout",
     "text": [
      "Gissa högre\n",
      "Gissa lägre\n",
      "Gissa lägre\n",
      "Gissa lägre\n",
      "Gissa högre\n",
      "Gissa högre\n",
      "Gissa högre\n",
      "Gissa högre\n",
      "Gissa högre\n",
      "rätt svar\n"
     ]
    }
   ],
   "source": [
    "#Uppgift 5\n",
    "\n",
    "import random as rnd\n",
    "\n",
    "y=rnd.randint(0, 100)\n",
    "\n",
    "h = 0\n",
    "\n",
    "while h !=y:\n",
    "    h = int(input(\"Gissa på ett tal (heltal) mellan 0 och 100\"))\n",
    "   \n",
    "    if h < y:\n",
    "        print(\"Gissa högre\")\n",
    "\n",
    "    elif h > y:\n",
    "        print(\"Gissa lägre\")\n",
    "    else:\n",
    "        print(\"rätt svar\")\n",
    "\n",
    "\n",
    "\n",
    "\n"
   ]
  },
  {
   "cell_type": "code",
   "execution_count": null,
   "metadata": {},
   "outputs": [],
   "source": []
  }
 ]
}