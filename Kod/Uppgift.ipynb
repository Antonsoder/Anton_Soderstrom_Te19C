{
 "metadata": {
  "language_info": {
   "codemirror_mode": {
    "name": "ipython",
    "version": 3
   },
   "file_extension": ".py",
   "mimetype": "text/x-python",
   "name": "python",
   "nbconvert_exporter": "python",
   "pygments_lexer": "ipython3",
   "version": "3.8.3-final"
  },
  "orig_nbformat": 2,
  "kernelspec": {
   "name": "python3",
   "display_name": "Python 3.8.3 64-bit (conda)",
   "metadata": {
    "interpreter": {
     "hash": "9bd3154169915c5abcf572b70399d58e505aefce794ee665727c29afaa6b2771"
    }
   }
  }
 },
 "nbformat": 4,
 "nbformat_minor": 2,
 "cells": [
  {
   "source": [
    "#Uppgift 2a\n",
    "#I denna uppgiften så behöver vi ha ett bestämmt intervall hur många gånger som satsen sak upprepas, därför använder man for-sats.\n",
    "for i in range(0,101): # Vi bestämmer hur många gånger som vilkoret ska upprepas.\n",
    "    print(i, end=\" \") # Vi printar i och ger alla siffor ett mellanrum."
   ],
   "cell_type": "code",
   "metadata": {},
   "execution_count": 30,
   "outputs": [
    {
     "output_type": "stream",
     "name": "stdout",
     "text": [
      "0 1 2 3 4 5 6 7 8 9 10 11 12 13 14 15 16 17 18 19 20 21 22 23 24 25 26 27 28 29 30 31 32 33 34 35 36 37 38 39 40 41 42 43 44 45 46 47 48 49 50 51 52 53 54 55 56 57 58 59 60 61 62 63 64 65 66 67 68 69 70 71 72 73 74 75 76 77 78 79 80 81 82 83 84 85 86 87 88 89 90 91 92 93 94 95 96 97 98 99 100 "
     ]
    }
   ]
  },
  {
   "cell_type": "code",
   "execution_count": 38,
   "metadata": {},
   "outputs": [
    {
     "output_type": "stream",
     "name": "stdout",
     "text": [
      "1 2 3 4 burr\n6 7 8 9 burr\n11 12 13 14 burr\n16 17 18 19 burr\n21 22 23 24 burr\n26 27 28 29 burr\n31 32 33 34 burr\n36 37 38 39 burr\n41 42 43 44 burr\n46 47 48 49 burr\n51 52 53 54 burr\n56 57 58 59 burr\n61 62 63 64 burr\n66 67 68 69 burr\n71 72 73 74 burr\n76 77 78 79 burr\n81 82 83 84 burr\n86 87 88 89 burr\n91 92 93 94 burr\n96 97 98 99 burr\n"
     ]
    }
   ],
   "source": [
    "#Uppgift 2b\n",
    "#I denna uppgiften så behöver vi ha ett bestämmt intervall hur många gånger som satsen sak upprepas, därför använder man for-sats. Men skillnaden i denna uppgiten mot förra är att för varje multibel av 5 så ska inte siffran skrivas ut. Därför måste vi i denna uppgiften använda oss utav en if-sats inutti for-satsen.\n",
    "\n",
    "x = 5 #Ger variablen x värdet 5 eftersom för varje multibel av 5 så ska burr skrivas ut.\n",
    "\n",
    "for i in range(1,101): #100 gånger ska vilkoren upprepas\n",
    "    if i % x == 0: #Vilkoret är så att om resten av i / x = o så ska detta vilkoret gälla.\n",
    "        print(\"burr\")#Vi printar burr om den förra if satsen uppfyller kraven.\n",
    "    else: #Om inte förra vilkoret uppfylls så ska detta vilkoret gälla.\n",
    "        print(i, end=\" \") #Om inte burr skrivs så ska en siffra skrivas oh därför printas i."
   ]
  },
  {
   "cell_type": "code",
   "execution_count": 39,
   "metadata": {},
   "outputs": [
    {
     "output_type": "stream",
     "name": "stdout",
     "text": [
      "1 2 3 4 Burr\n6 7 8 9 Burr\n11 12 13 14 Burr\n16 17 18 19 Burr\n21 22 23 24 Burr\n26 27 28 29 Burr\n31 32 33 34 Burr\n36 37 38 39 Burr\n41 42 43 44 Burr\n46 47 48 49 Burr\n51 52 53 54 Burr\n56 57 58 59 Burr\n61 62 63 64 Burr\n66 67 68 69 Burr\n71 72 73 74 Burr\n76 77 78 79 Burr\n81 82 83 84 Burr\n86 87 88 89 Burr\n91 92 93 94 Burr\n96 97 98 99 Burr\n"
     ]
    }
   ],
   "source": [
    "#Uppgift 2c\n",
    "#I denna uppgiften så varierar jag mig lite mot de två föregående uppgifterna och använder while-sats istället för for-sats. Ända skillnaden mot den förra uppgiften i denna uppgiften är att variabeln x ska bestämmas av användaren istället. Därför är den enda större skilnaden vi gör i denna uppgiften är att göra x till ett float tal.\n",
    "n = 0 #Ger n värdet 0\n",
    "\n",
    "x = float(input(\"Ange ett tal\")) #Vi vill att användaren ska ange ett värde därför använder man sig av float och input.\n",
    "\n",
    "while n < 100: #Så länge som n är mindre än 100 så ska vilkoren under uppfyllas. Använder mig av while-sats i denna deluppgiften för att visa att dessa uppgifter går att göras med while sats i stället för for-sats också.\n",
    "\n",
    "    n = n+1 #Utökad tilldelning\n",
    "    if n % x: #Om detta vilkoret uppfylls så ska detta vilkoret inte skippas.\n",
    "        print(n, end = \" \")#Printar N eftersom burr inte ska stå om detta vilkoret uppfylls.\n",
    "    else: #Detta vilkoret ska gälla om övre vilkor ej uppfylls\n",
    "        print(\"Burr\")#Printar burr."
   ]
  },
  {
   "cell_type": "code",
   "execution_count": 1,
   "metadata": {
    "tags": []
   },
   "outputs": [
    {
     "output_type": "stream",
     "name": "stdout",
     "text": [
      "1 2 3 4 5 6 7 8 Burr,birr 10 11 12 13 14 15 16 17 Burr,birr 19 20 21 22 23 24 25 26 Burr,birr 28 29 30 31 32 33 34 35 Burr,birr 37 38 39 40 41 42 43 44 Burr,birr 46 47 48 49 50 51 52 53 Burr,birr 55 56 57 58 59 60 61 62 Burr,birr 64 65 66 67 68 69 70 71 Burr,birr 73 74 75 76 77 78 79 80 Burr,birr 82 83 84 85 86 87 88 89 Burr,birr 91 92 93 94 95 96 97 98 Burr,birr 100 "
     ]
    }
   ],
   "source": [
    "#Uppgift 2d\n",
    "#I denna uppgiften så behöver vi 2 float tal och lite emr if-satser eftersom det finns 3 st olika ord som kan skrivas ut istället för en siffra. Vi behöver också användas oss utav \"and\" eftersom i ett vilkor ska två saker gälla.\n",
    "\n",
    "x = float(input(\"Ange ett tal\"))  #Vi vill att användaren ska ange ett värde därför använder man sig av float och input.\n",
    "\n",
    "y = float(input(\"Ange ett till tal\"))\n",
    "\n",
    "for i in range(1,101): #100 gånger ska vilkoren upprepas\n",
    "    if i % x == 0 and i % y == 0: #Om resten av i / x och resten av i / y så ska detta vilkoret gälla. Anledningen till att vilkoret ska uppfyllas om resten blir 0 är för att om i = 7 och x = 7 så vill vi att burr ska printas. Sen om om vill att burr,birr ska printas så behöver detta vilkoret uppfyllas för både burr och birr och därför använder man sig av \"and\". Samma på resten av denna uppgiften.\n",
    "        print(\"Burr,birr\", end=\" \")\n",
    "    elif i % x == 0:\n",
    "        print(\"burr\", end=\" \")\n",
    "    elif i % y == 0:\n",
    "        print(\"birr\", end=\" \")\n",
    "    else:\n",
    "        print(i, end=\" \")\n",
    "\n"
   ]
  },
  {
   "cell_type": "code",
   "execution_count": 75,
   "metadata": {},
   "outputs": [
    {
     "output_type": "stream",
     "name": "stdout",
     "text": [
      "1 2 3 burr 5 6 7 burr 9 10 11 burr 13 14 15 burr birr 18 19 burr 21 22 23 burr 25 26 27 burr 29 30 31 burr 33 birr 35 burr 37 38 39 burr 41 42 43 burr 45 46 47 burr 49 50 birr burr 53 54 55 burr 57 58 59 burr 61 62 63 burr 65 66 67 Burr,birr 69 70 71 burr 73 74 75 burr 77 78 79 burr 81 82 83 burr birr 86 87 burr 89 90 91 burr 93 94 95 burr 97 98 99 burr \nAntalet burr är: 24\nAntalet birr är: 4\nAntalet burr,birr är: 1\n"
     ]
    }
   ],
   "source": [
    "#Uppgift 2e\n",
    "#I denna uppgiften ska vi också räkna hur många gånger burr och birr printas, därför behöver vi göra olika variabler och ge de värdet 0 för att senare kunna addera 1 för varje gång som ett visst vilkor uppfylls. Istället för float så använder vi oss utav int för att vi ska ha ett intervall. Vi kommer också behöva printa lite mer grejer pga att vi ska räkna.\n",
    "x = float(input(\"Ange ett tal\")) #Vi vill att användaren ska ange ett värde därför använder man sig av float och input.\n",
    "y = float(input(\"Ange ett till tal\")) #Samma som förra \n",
    "z = int(input(\"Ange ett startvärde\"))#Vi använder oss av int istället för float för att det är ett intervall som vi ska ha här.\n",
    "n = int(input(\"Ange ett slutvärde\"))#Samma som förra.\n",
    "\n",
    "antalburr = 0 #Anledningen till dessa variabler är för att man ska kunna räkna senare.\n",
    "\n",
    "antalbirr = 0\n",
    "\n",
    "antalburrbirr = 0\n",
    "\n",
    "fix = n + 1 #Anledningen till att man adderar 1 till användarens slutvärde är för att i en for-sats så räknar man inte med det sista värdet, Ex: Om slutvärdet är 100 så kommer det bara att blir till 99.\n",
    "\n",
    "for i in range(z,fix): #Vilkoren ska upprepas så länge som de stannar inom intervallet som använder har angivit.\n",
    "    if i % x == 0 and i % y == 0:\n",
    "        print(\"Burr,birr\", end=\" \")\n",
    "        antalburrbirr = antalburrbirr + 1 #Detta används för att räkna antalet burr,birr. Om man vill ha reda på hur många antal burr,birr som skrivs så för varje gång som denna första if satsen uppfylls så lägger man på 1 på (antalburrbirr) pch seda i slutet så printar man detta och då får man reda på hur många burr,birr som det finns.\n",
    "    elif i % x == 0:\n",
    "        print(\"burr\", end=\" \")\n",
    "        antalburr = antalburr + 1\n",
    "    elif i % y == 0:\n",
    "        print(\"birr\", end=\" \")\n",
    "        antalbirr = antalbirr + 1\n",
    "    else:\n",
    "        print(i, end=\" \")\n",
    "\n",
    "\n",
    "print() #Printar en tom ruta bara för att räkningen av burr,birr inte sa hamna i samma rad som 0-100.\n",
    "print(f\"Antalet burr är: {antalburr}\")\n",
    "print(f\"Antalet birr är: {antalbirr}\")\n",
    "print(f\"Antalet burr,birr är: {antalburrbirr}\")"
   ]
  },
  {
   "source": [
    "#Uppgift 2g\n",
    "#Denna uppgiften är väldigt lik förra eftersom den enda skillnaden som vi gör är att lägga till barr. När vi lägger till barr behöver vi tänka på vilket vilkor som står längst upp och det det största vilkoret eftersom det är lägst chans att det uppfylls.\n",
    "\n",
    "x = float(input(\"Ange ett tal\")) #Här frågar vi användaren vilka värden han vill ha.\n",
    "y = float(input(\"Ange ett till tal\"))\n",
    "a = float(input(\"Ange ännu ett tal\"))\n",
    "z = int(input(\"Ange ett startvärde\"))\n",
    "n = int(input(\"Ange ett slutvärde\"))\n",
    "\n",
    "antalburr = 0 #Detta gör man för att senare kunna räkna hur måmga gångar varje variabel skrivs ut.\n",
    "antalburrbirr = 0\n",
    "antalburrbirrbarr = 0\n",
    "antalbarr = 0\n",
    "antalbarrbirr = 0\n",
    "antalburrbarr = 0\n",
    "antalbirr = 0\n",
    "\n",
    "fix = n + 1 #Anledningen till att man adderar 1 till användarens slutvärde är för att i en for-sats så räknar man inte med det sista värdet, Ex: Om slutvärdet är 100 så kommer det bara att blir till 99.\n",
    "\n",
    "for i in range(z,fix): #intervallet man vill ha här är startvärdet som användaren ha rskrit in samt den \"fixade\" slutvärdet.\n",
    "    if i % y == 0 and i % x == 0 and i % a == 0: #Vi börjar med det största vikoret eftersom vi vill testa detta först eftersom det är minst chans att detta vilkoret händer och just därför behövs detta testas först. Samma med resten i uppgiften.\n",
    "        print(\"Burr,birr,barr\", end=\" \")\n",
    "        antalburrbirrbarr = antalburrbirrbarr + 1 #Om detta vilkor skulle stämma så skulle \"antalburrbirrbarr\" öka med en vilekt elder till att man kan se hur många gånger detta vilkor uppfylls om man senare printar denna variabeln. Samma med resten i uppgiften\n",
    " \n",
    "    elif i % x == 0 and i % y == 0:\n",
    "         print(\"Burr,birr\", end=\" \")\n",
    "         antalburrbirr = antalburrbirr + 1\n",
    "  \n",
    "    elif i % y == 0 and i % a == 0:\n",
    "        print(\"birr,barr\", end=\" \")\n",
    "        antalbirrbarr = antalbirrbarr + 1\n",
    "  \n",
    "    elif i % x == 0 and i % a == 0:\n",
    "        print(\"Burr,barr\", end=\" \")\n",
    "        antalburrbarr = antalburrbarr + 1\n",
    "\n",
    "    elif i % a == 0:\n",
    "        print(\"Barr\", end=\" \")\n",
    "        antalbarr = antalbarr + 1\n",
    "  \n",
    "\n",
    "    elif i % x == 0:\n",
    "        print(\"burr\", end=\" \")\n",
    "        antalburr = antalburr + 1\n",
    " \n",
    "    elif i % y == 0:\n",
    "        print(\"birr\", end=\" \")\n",
    "        antalbirr = antalbirr + 1\n",
    " \n",
    "    else:\n",
    "        print(i, end=\" \")\n",
    "\n",
    "print()\n",
    "print(f\"Antalet burr är: {antalburr}\")\n",
    "print(f\"Antalet birr är: {antalbirr}\")\n",
    "print(f\"Antalet barr är: {antalbarr}\")\n",
    "print(f\"Antalet burr,birr är: {antalburrbirr}\")\n",
    "print(f\"Antalet burr,barr är: {antalburrbarr}\")\n",
    "print(f\"Antalet birr,barr är: {antalbirrbarr}\")\n",
    "print(f\"Antalet burr,birr,barr är: {antalburrbirrbarr}\")\n"
   ],
   "cell_type": "code",
   "metadata": {},
   "execution_count": 84,
   "outputs": [
    {
     "output_type": "stream",
     "name": "stdout",
     "text": [
      "1 2 3 Barr birr 6 7 Barr 9 Burr,birr 11 Barr 13 14 birr Barr 17 18 19 Burr,birr,barr 21 22 23 Barr birr 26 27 Barr 29 Burr,birr 31 Barr 33 34 birr Barr 37 38 39 Burr,birr,barr 41 42 43 Barr birr 46 47 Barr 49 Burr,birr 51 Barr 53 54 birr Barr 57 58 59 Burr,birr,barr 61 62 63 Barr birr 66 67 Barr 69 Burr,birr 71 Barr 73 74 birr Barr 77 78 79 Burr,birr,barr 81 82 83 Barr birr 86 87 Barr 89 Burr,birr 91 Barr 93 94 birr Barr 97 98 99 Burr,birr,barr \nAntalet burr är: 0\nAntalet birr är: 10\nAntalet barr är: 20\nAntalet burr,birr är: 5\nAntalet burr,barr är: 0\nAntalet birr,barr är: 0\nAntalet burr,birr,barr är: 5\n"
     ]
    }
   ]
  },
  {
   "cell_type": "code",
   "execution_count": 37,
   "metadata": {},
   "outputs": [
    {
     "output_type": "stream",
     "name": "stdout",
     "text": [
      "Avståndet från origo till (0,5.0,5) är 0.7071067811865476 l.e\n"
     ]
    }
   ],
   "source": [
    "#Uppgift 1a\n",
    "#I denna uppgiften ska vi räkna ut ett avstånd och då kan man väldigt enkelt komam på hur man får reda på detta avståndet genom att använda pythagoras sats. Så därför är det hypotenusan som vi ska ta reda på i denna uppgiften.\n",
    "\n",
    "import math #Importerar matte eftersom i denn auppgiften behöver vi använda oss utav tex, sqrt\n",
    "\n",
    "x = 0.5 #Sätter x = 0,5\n",
    "y = 0.5 #Sätter y = 0,5\n",
    "\n",
    "c = sqrt(x**2 + y**2) #Använder mig utav pythagoras sats. C = roten ur(x^2 + y^2)\n",
    "\n",
    "print(f\"Avståndet från origo till (0,5.0,5) är {c} l.e\") #printar c eftersom detta är hyputenusan = avnståndet.\n"
   ]
  },
  {
   "cell_type": "code",
   "execution_count": 38,
   "metadata": {},
   "outputs": [
    {
     "output_type": "stream",
     "name": "stdout",
     "text": [
      "Avståndet från origo till (1.1) är 1.4142135623730951 l.e\n"
     ]
    }
   ],
   "source": [
    "#Uppgift 1b\n",
    "#I denna uppgiften ska vi räkna ut ett avstånd och då kan man väldigt enkelt komam på hur man får reda på detta avståndet genom att använda pythagoras sats. Så därför är det hypotenusan som vi ska ta reda på i denna uppgiften.\n",
    "\n",
    "import math #Importerar matte eftersom i denn auppgiften behöver vi använda oss utav tex, sqrt\n",
    "\n",
    "x = 1 #Sätter x = 1 \n",
    "y = 1 #Sätter y = 1\n",
    "\n",
    "c = sqrt(x**2 + y**2) #Sammas som förra uppgiften, C = roten ur(x^2 + y^2)\n",
    "\n",
    "print(f\"Avståndet från origo till (1.1) är {c} l.e\") #printar c eftersom detta är hyputenusan = avnståndet."
   ]
  },
  {
   "cell_type": "code",
   "execution_count": 41,
   "metadata": {},
   "outputs": [
    {
     "output_type": "stream",
     "name": "stdout",
     "text": [
      "Avståndet från origo till (0,5.-0,5) är 0.7071067811865476 l.e\n"
     ]
    }
   ],
   "source": [
    "#Uppgift 1c\n",
    "#I denna uppgiften ska vi räkna ut ett avstånd och då kan man väldigt enkelt komam på hur man får reda på detta avståndet genom att använda pythagoras sats. Så därför är det hypotenusan som vi ska ta reda på i denna uppgiften.\n",
    "import math #Importerar matte eftersom i denn auppgiften behöver vi använda oss utav tex, sqrt\n",
    "\n",
    "x = 0.5 #Sätter x = 0,5\n",
    "y = -0.5 #Sätter y = -0,5\n",
    "\n",
    "c = sqrt(x**2 + y**2) #Pythagoras sats för att få reda på längden av hypotenusan.  C = roten ur(x^2 + y^2)\n",
    "\n",
    "\n",
    "print(f\"Avståndet från origo till (0,5.-0,5) är {c} l.e\") #Printar c eftersom detta är hyputenusan = avnståndet.\n"
   ]
  },
  {
   "cell_type": "code",
   "execution_count": 16,
   "metadata": {},
   "outputs": [
    {
     "output_type": "stream",
     "name": "stdout",
     "text": [
      "(0.56, 0.59)\n(-0.02, -0.66)\n(-0.92, 0.21)\n(-0.16, -0.49)\n(-0.69, 0.67)\n(0.88, 0.27)\n(-0.57, 0.51)\n(0.34, -0.98)\n(-0.88, -0.31)\n(-0.95, 0.13)\n"
     ]
    }
   ],
   "source": [
    "#Uppgift 21\n",
    "#Man kan se i uppgiften att man vill ha kordinater. Därför behöver vi printa x,y. Vi använder oss utav for-sats för att bestämma att det är 10st punkter som vill ha. Vi behöver använda oss utav random tal.\n",
    "import random #Istället för matte så behövr vi i denna uppgiften istället importera random eftersom vi vill ha slupvalda värden och inte behöver använda oss utav matte.\n",
    "\n",
    "\n",
    "for i in range(0,10): #Jag väljer att vilkoret bara ska upprepas 10 gånger.\n",
    "    x = round(random.uniform(-1,1),2)#GÖr en variabel(x). Round = avrundning. Random.uniform betyder att vi vill få ett slumpvist värde mellan -1 och 1. ,2 betyder att vi vill ha 2 decimaler när vi avrundar.\n",
    "    y = round(random.uniform(-1,1),2)#Samma som övre kommentar.\n",
    "    print((x,y))#Vi printar x,y eftersom vi vill ha kordinater och det blir 10 stycken kommentarer eftersom det var det värde som jag valde i for-satsen.\n",
    "\n",
    "\n",
    "\n"
   ]
  },
  {
   "cell_type": "code",
   "execution_count": 128,
   "metadata": {},
   "outputs": [
    {
     "output_type": "stream",
     "name": "stdout",
     "text": [
      "Antalet procent av punkterna som ligger inuti cirkeln är 79.0 % av 100 punkter\n"
     ]
    }
   ],
   "source": [
    "#Uppgift 1e\n",
    "#Här ska vi bara ta reda på antal procent punkter som hamnar innuti cirkeln. Därför behöver vi inte använda oss utav en graf. För att få reda på andelen punkter inuti cirkeln så delar vi punkterna som hamnar inuti cirkeln med den totala mängden cirklar.\n",
    "\n",
    "import random #Vi vill ha sumpvist valda värden därför importerar vi random.\n",
    "\n",
    "\n",
    "n = 0 #Sätter n = 0, detta gör vi för att senare kunna räkna ut andelen punkter innuti cirkeln.\n",
    "start = 0\n",
    "slut= 1000\n",
    "for i in range(start,slut): #vilkoret ska upprepas 100 gånger.\n",
    "    x = round(random.uniform(-1,1),2)#Gör en variabel(x). Round = avrundning. Random.uniform betyder att vi vill få ett slumpvist värde mellan -1 och 1. ,2 betyder att vi vill ha 2 decimaler när vi avrundar.\n",
    "    y = round(random.uniform(-1,1),2)#Samma som övre kommentar\n",
    "    if x**2 + y**2 <= 1: #Om övre vilkor uppfylls så ska man här kolla om radien är mindre eller lika med 1.\n",
    "        n += 1 #Indentering\n",
    "a = round((n/(slut-start)),2) #Avrundar och tar reda på andelen punkter inuti cirkeln.\n",
    "\n",
    "print(\"Antalet procent av punkterna som ligger inuti cirkeln är\", (a*100), \"% av 100 punkter\")#Printar n eftersom det är andelen av punkterna innuti cirkeln i procent.\n",
    "\n",
    "\n",
    "\n"
   ]
  },
  {
   "cell_type": "code",
   "execution_count": 58,
   "metadata": {},
   "outputs": [
    {
     "output_type": "stream",
     "name": "stdout",
     "text": [
      "Andelen punkter inutti cirkeln multiplicerat med 4 = 3.12\n"
     ]
    }
   ],
   "source": [
    "#Uppgift 1f\n",
    "#Denna uppgiften går ut på samma sak som förra uppgiften frutom att vi ska gångra vårat svar med 4. Vi skriver samma kod som i förra uppgiften och när vi printar svaret så multiplicerar vi x med 4.\n",
    "import random #Importerar random\n",
    "\n",
    "n = 0 #Bestämmer att n ska börja ha värdet 0\n",
    "start = 0\n",
    "slut = 10000 #Här kan man också göra så att användaren får ange vilket slutvärdet samt startvärdet ska vara. Detta göt man genom att använda float(input(...)).\n",
    "\n",
    "for i in range(start,slut): # x eller y kan inte vara mindre än 0 eller större än 100\n",
    "    x = round(random.uniform(-1,1),2)# Skapar variabel och ger den ett slumpvist värde mellan -1 och 1\n",
    "    y = round(random.uniform(-1,1),2)# Skapar variabel och ger den ett slumpvist värde mellan -1 och 1\n",
    "    if x**2 + y**2 <= 1:\n",
    "        n += 1\n",
    "\n",
    "x = round((n /(slut-start)),2) #Tar reda på andelen i procent av hur många punkter som hamnade innuti cirkeln.\n",
    "\n",
    "\n",
    "print(\"Andelen punkter inutti cirkeln multiplicerat med 4 =\", (x*4))#Anledningen till att detta alltid blir väldigt nära pi(3,14) är för att cirkelns area är 4. pi / 4 = 78,5%. Andelen av punkterna som hamnar i cirkeln är alltid väldigt nära detta svaret och blir mer exakt desta fler punkter du simmulerar.\n"
   ]
  },
  {
   "source": [
    "#Uppgift 1g\n",
    "#I denna uppgiften så ska vi kunna se våra punkter som vi slumpmääsigt skrivit ut. Vi använder oss av samma kod som i uppgift 2d i början men vi lägger till en if-sats eftersom vi vill att om punkterna är innuti radien 1 så ska de bli blå men om de är utanför så ska prunkterna bli röda.\n",
    "import random #Importerar random för att sneare kunna få slumpade värden.\n",
    "import matplotlib.pyplot as plt #Importerar graf för att kunne se alla punkter.\n",
    "\n",
    "\n",
    "for i in range(0,100): # vilkoren ska upprepas 100 gånger\n",
    "    x = round(random.uniform(-1,1),2)#Gör en variabel(x). Round = avrundning. Random.uniform betyder att vi vill få ett slumpvist värde mellan -1 och 1. ,2 betyder att vi vill ha 2 decimaler när vi avrundar.\n",
    "    y = round(random.uniform(-1,1),2)\n",
    "    if x**2+y**2 <= 1: #Om en punkt är innuti 1 l.e från origa så ska följande vilkor uppfyllas.\n",
    "        plt.plot(x,y, '*b') #plottar, x,y med färgen röd\n",
    "    else: #Om punkten ligger utanför 1 l.e från origo so ska följande vilkor upfyllas.\n",
    "        plt.plot(x,y, '*r') #plottar, x,y med färgen grön\n",
    "    \n",
    "\n",
    "plt.grid()#Får rutnätet \n",
    "plt.show()#För att se grafen.\n"
   ],
   "cell_type": "code",
   "metadata": {},
   "execution_count": 57,
   "outputs": [
    {
     "output_type": "display_data",
     "data": {
      "text/plain": "<Figure size 432x288 with 1 Axes>",
      "image/svg+xml": "<?xml version=\"1.0\" encoding=\"utf-8\" standalone=\"no\"?>\r\n<!DOCTYPE svg PUBLIC \"-//W3C//DTD SVG 1.1//EN\"\r\n  \"http://www.w3.org/Graphics/SVG/1.1/DTD/svg11.dtd\">\r\n<!-- Created with matplotlib (https://matplotlib.org/) -->\r\n<svg height=\"248.518125pt\" version=\"1.1\" viewBox=\"0 0 390.645011 248.518125\" width=\"390.645011pt\" xmlns=\"http://www.w3.org/2000/svg\" xmlns:xlink=\"http://www.w3.org/1999/xlink\">\r\n <defs>\r\n  <style type=\"text/css\">\r\n*{stroke-linecap:butt;stroke-linejoin:round;}\r\n  </style>\r\n </defs>\r\n <g id=\"figure_1\">\r\n  <g id=\"patch_1\">\r\n   <path d=\"M 0 248.518125 \r\nL 390.645011 248.518125 \r\nL 390.645011 0 \r\nL 0 0 \r\nz\r\n\" style=\"fill:none;\"/>\r\n  </g>\r\n  <g id=\"axes_1\">\r\n   <g id=\"patch_2\">\r\n    <path d=\"M 44.845313 224.64 \r\nL 379.645313 224.64 \r\nL 379.645313 7.2 \r\nL 44.845313 7.2 \r\nz\r\n\" style=\"fill:#ffffff;\"/>\r\n   </g>\r\n   <g id=\"matplotlib.axis_1\">\r\n    <g id=\"xtick_1\">\r\n     <g id=\"line2d_1\">\r\n      <path clip-path=\"url(#p29bdcc4b58)\" d=\"M 56.909467 224.64 \r\nL 56.909467 7.2 \r\n\" style=\"fill:none;stroke:#b0b0b0;stroke-linecap:square;stroke-width:0.8;\"/>\r\n     </g>\r\n     <g id=\"line2d_2\">\r\n      <defs>\r\n       <path d=\"M 0 0 \r\nL 0 3.5 \r\n\" id=\"mc77175c540\" style=\"stroke:#000000;stroke-width:0.8;\"/>\r\n      </defs>\r\n      <g>\r\n       <use style=\"stroke:#000000;stroke-width:0.8;\" x=\"56.909467\" xlink:href=\"#mc77175c540\" y=\"224.64\"/>\r\n      </g>\r\n     </g>\r\n     <g id=\"text_1\">\r\n      <!-- −1.00 -->\r\n      <defs>\r\n       <path d=\"M 10.59375 35.5 \r\nL 73.1875 35.5 \r\nL 73.1875 27.203125 \r\nL 10.59375 27.203125 \r\nz\r\n\" id=\"DejaVuSans-8722\"/>\r\n       <path d=\"M 12.40625 8.296875 \r\nL 28.515625 8.296875 \r\nL 28.515625 63.921875 \r\nL 10.984375 60.40625 \r\nL 10.984375 69.390625 \r\nL 28.421875 72.90625 \r\nL 38.28125 72.90625 \r\nL 38.28125 8.296875 \r\nL 54.390625 8.296875 \r\nL 54.390625 0 \r\nL 12.40625 0 \r\nz\r\n\" id=\"DejaVuSans-49\"/>\r\n       <path d=\"M 10.6875 12.40625 \r\nL 21 12.40625 \r\nL 21 0 \r\nL 10.6875 0 \r\nz\r\n\" id=\"DejaVuSans-46\"/>\r\n       <path d=\"M 31.78125 66.40625 \r\nQ 24.171875 66.40625 20.328125 58.90625 \r\nQ 16.5 51.421875 16.5 36.375 \r\nQ 16.5 21.390625 20.328125 13.890625 \r\nQ 24.171875 6.390625 31.78125 6.390625 \r\nQ 39.453125 6.390625 43.28125 13.890625 \r\nQ 47.125 21.390625 47.125 36.375 \r\nQ 47.125 51.421875 43.28125 58.90625 \r\nQ 39.453125 66.40625 31.78125 66.40625 \r\nz\r\nM 31.78125 74.21875 \r\nQ 44.046875 74.21875 50.515625 64.515625 \r\nQ 56.984375 54.828125 56.984375 36.375 \r\nQ 56.984375 17.96875 50.515625 8.265625 \r\nQ 44.046875 -1.421875 31.78125 -1.421875 \r\nQ 19.53125 -1.421875 13.0625 8.265625 \r\nQ 6.59375 17.96875 6.59375 36.375 \r\nQ 6.59375 54.828125 13.0625 64.515625 \r\nQ 19.53125 74.21875 31.78125 74.21875 \r\nz\r\n\" id=\"DejaVuSans-48\"/>\r\n      </defs>\r\n      <g transform=\"translate(41.586811 239.238437)scale(0.1 -0.1)\">\r\n       <use xlink:href=\"#DejaVuSans-8722\"/>\r\n       <use x=\"83.789062\" xlink:href=\"#DejaVuSans-49\"/>\r\n       <use x=\"147.412109\" xlink:href=\"#DejaVuSans-46\"/>\r\n       <use x=\"179.199219\" xlink:href=\"#DejaVuSans-48\"/>\r\n       <use x=\"242.822266\" xlink:href=\"#DejaVuSans-48\"/>\r\n      </g>\r\n     </g>\r\n    </g>\r\n    <g id=\"xtick_2\">\r\n     <g id=\"line2d_3\">\r\n      <path clip-path=\"url(#p29bdcc4b58)\" d=\"M 96.334808 224.64 \r\nL 96.334808 7.2 \r\n\" style=\"fill:none;stroke:#b0b0b0;stroke-linecap:square;stroke-width:0.8;\"/>\r\n     </g>\r\n     <g id=\"line2d_4\">\r\n      <g>\r\n       <use style=\"stroke:#000000;stroke-width:0.8;\" x=\"96.334808\" xlink:href=\"#mc77175c540\" y=\"224.64\"/>\r\n      </g>\r\n     </g>\r\n     <g id=\"text_2\">\r\n      <!-- −0.75 -->\r\n      <defs>\r\n       <path d=\"M 8.203125 72.90625 \r\nL 55.078125 72.90625 \r\nL 55.078125 68.703125 \r\nL 28.609375 0 \r\nL 18.3125 0 \r\nL 43.21875 64.59375 \r\nL 8.203125 64.59375 \r\nz\r\n\" id=\"DejaVuSans-55\"/>\r\n       <path d=\"M 10.796875 72.90625 \r\nL 49.515625 72.90625 \r\nL 49.515625 64.59375 \r\nL 19.828125 64.59375 \r\nL 19.828125 46.734375 \r\nQ 21.96875 47.46875 24.109375 47.828125 \r\nQ 26.265625 48.1875 28.421875 48.1875 \r\nQ 40.625 48.1875 47.75 41.5 \r\nQ 54.890625 34.8125 54.890625 23.390625 \r\nQ 54.890625 11.625 47.5625 5.09375 \r\nQ 40.234375 -1.421875 26.90625 -1.421875 \r\nQ 22.3125 -1.421875 17.546875 -0.640625 \r\nQ 12.796875 0.140625 7.71875 1.703125 \r\nL 7.71875 11.625 \r\nQ 12.109375 9.234375 16.796875 8.0625 \r\nQ 21.484375 6.890625 26.703125 6.890625 \r\nQ 35.15625 6.890625 40.078125 11.328125 \r\nQ 45.015625 15.765625 45.015625 23.390625 \r\nQ 45.015625 31 40.078125 35.4375 \r\nQ 35.15625 39.890625 26.703125 39.890625 \r\nQ 22.75 39.890625 18.8125 39.015625 \r\nQ 14.890625 38.140625 10.796875 36.28125 \r\nz\r\n\" id=\"DejaVuSans-53\"/>\r\n      </defs>\r\n      <g transform=\"translate(81.012152 239.238437)scale(0.1 -0.1)\">\r\n       <use xlink:href=\"#DejaVuSans-8722\"/>\r\n       <use x=\"83.789062\" xlink:href=\"#DejaVuSans-48\"/>\r\n       <use x=\"147.412109\" xlink:href=\"#DejaVuSans-46\"/>\r\n       <use x=\"179.199219\" xlink:href=\"#DejaVuSans-55\"/>\r\n       <use x=\"242.822266\" xlink:href=\"#DejaVuSans-53\"/>\r\n      </g>\r\n     </g>\r\n    </g>\r\n    <g id=\"xtick_3\">\r\n     <g id=\"line2d_5\">\r\n      <path clip-path=\"url(#p29bdcc4b58)\" d=\"M 135.76015 224.64 \r\nL 135.76015 7.2 \r\n\" style=\"fill:none;stroke:#b0b0b0;stroke-linecap:square;stroke-width:0.8;\"/>\r\n     </g>\r\n     <g id=\"line2d_6\">\r\n      <g>\r\n       <use style=\"stroke:#000000;stroke-width:0.8;\" x=\"135.76015\" xlink:href=\"#mc77175c540\" y=\"224.64\"/>\r\n      </g>\r\n     </g>\r\n     <g id=\"text_3\">\r\n      <!-- −0.50 -->\r\n      <g transform=\"translate(120.437494 239.238437)scale(0.1 -0.1)\">\r\n       <use xlink:href=\"#DejaVuSans-8722\"/>\r\n       <use x=\"83.789062\" xlink:href=\"#DejaVuSans-48\"/>\r\n       <use x=\"147.412109\" xlink:href=\"#DejaVuSans-46\"/>\r\n       <use x=\"179.199219\" xlink:href=\"#DejaVuSans-53\"/>\r\n       <use x=\"242.822266\" xlink:href=\"#DejaVuSans-48\"/>\r\n      </g>\r\n     </g>\r\n    </g>\r\n    <g id=\"xtick_4\">\r\n     <g id=\"line2d_7\">\r\n      <path clip-path=\"url(#p29bdcc4b58)\" d=\"M 175.185491 224.64 \r\nL 175.185491 7.2 \r\n\" style=\"fill:none;stroke:#b0b0b0;stroke-linecap:square;stroke-width:0.8;\"/>\r\n     </g>\r\n     <g id=\"line2d_8\">\r\n      <g>\r\n       <use style=\"stroke:#000000;stroke-width:0.8;\" x=\"175.185491\" xlink:href=\"#mc77175c540\" y=\"224.64\"/>\r\n      </g>\r\n     </g>\r\n     <g id=\"text_4\">\r\n      <!-- −0.25 -->\r\n      <defs>\r\n       <path d=\"M 19.1875 8.296875 \r\nL 53.609375 8.296875 \r\nL 53.609375 0 \r\nL 7.328125 0 \r\nL 7.328125 8.296875 \r\nQ 12.9375 14.109375 22.625 23.890625 \r\nQ 32.328125 33.6875 34.8125 36.53125 \r\nQ 39.546875 41.84375 41.421875 45.53125 \r\nQ 43.3125 49.21875 43.3125 52.78125 \r\nQ 43.3125 58.59375 39.234375 62.25 \r\nQ 35.15625 65.921875 28.609375 65.921875 \r\nQ 23.96875 65.921875 18.8125 64.3125 \r\nQ 13.671875 62.703125 7.8125 59.421875 \r\nL 7.8125 69.390625 \r\nQ 13.765625 71.78125 18.9375 73 \r\nQ 24.125 74.21875 28.421875 74.21875 \r\nQ 39.75 74.21875 46.484375 68.546875 \r\nQ 53.21875 62.890625 53.21875 53.421875 \r\nQ 53.21875 48.921875 51.53125 44.890625 \r\nQ 49.859375 40.875 45.40625 35.40625 \r\nQ 44.1875 33.984375 37.640625 27.21875 \r\nQ 31.109375 20.453125 19.1875 8.296875 \r\nz\r\n\" id=\"DejaVuSans-50\"/>\r\n      </defs>\r\n      <g transform=\"translate(159.862835 239.238437)scale(0.1 -0.1)\">\r\n       <use xlink:href=\"#DejaVuSans-8722\"/>\r\n       <use x=\"83.789062\" xlink:href=\"#DejaVuSans-48\"/>\r\n       <use x=\"147.412109\" xlink:href=\"#DejaVuSans-46\"/>\r\n       <use x=\"179.199219\" xlink:href=\"#DejaVuSans-50\"/>\r\n       <use x=\"242.822266\" xlink:href=\"#DejaVuSans-53\"/>\r\n      </g>\r\n     </g>\r\n    </g>\r\n    <g id=\"xtick_5\">\r\n     <g id=\"line2d_9\">\r\n      <path clip-path=\"url(#p29bdcc4b58)\" d=\"M 214.610833 224.64 \r\nL 214.610833 7.2 \r\n\" style=\"fill:none;stroke:#b0b0b0;stroke-linecap:square;stroke-width:0.8;\"/>\r\n     </g>\r\n     <g id=\"line2d_10\">\r\n      <g>\r\n       <use style=\"stroke:#000000;stroke-width:0.8;\" x=\"214.610833\" xlink:href=\"#mc77175c540\" y=\"224.64\"/>\r\n      </g>\r\n     </g>\r\n     <g id=\"text_5\">\r\n      <!-- 0.00 -->\r\n      <g transform=\"translate(203.47802 239.238437)scale(0.1 -0.1)\">\r\n       <use xlink:href=\"#DejaVuSans-48\"/>\r\n       <use x=\"63.623047\" xlink:href=\"#DejaVuSans-46\"/>\r\n       <use x=\"95.410156\" xlink:href=\"#DejaVuSans-48\"/>\r\n       <use x=\"159.033203\" xlink:href=\"#DejaVuSans-48\"/>\r\n      </g>\r\n     </g>\r\n    </g>\r\n    <g id=\"xtick_6\">\r\n     <g id=\"line2d_11\">\r\n      <path clip-path=\"url(#p29bdcc4b58)\" d=\"M 254.036174 224.64 \r\nL 254.036174 7.2 \r\n\" style=\"fill:none;stroke:#b0b0b0;stroke-linecap:square;stroke-width:0.8;\"/>\r\n     </g>\r\n     <g id=\"line2d_12\">\r\n      <g>\r\n       <use style=\"stroke:#000000;stroke-width:0.8;\" x=\"254.036174\" xlink:href=\"#mc77175c540\" y=\"224.64\"/>\r\n      </g>\r\n     </g>\r\n     <g id=\"text_6\">\r\n      <!-- 0.25 -->\r\n      <g transform=\"translate(242.903362 239.238437)scale(0.1 -0.1)\">\r\n       <use xlink:href=\"#DejaVuSans-48\"/>\r\n       <use x=\"63.623047\" xlink:href=\"#DejaVuSans-46\"/>\r\n       <use x=\"95.410156\" xlink:href=\"#DejaVuSans-50\"/>\r\n       <use x=\"159.033203\" xlink:href=\"#DejaVuSans-53\"/>\r\n      </g>\r\n     </g>\r\n    </g>\r\n    <g id=\"xtick_7\">\r\n     <g id=\"line2d_13\">\r\n      <path clip-path=\"url(#p29bdcc4b58)\" d=\"M 293.461516 224.64 \r\nL 293.461516 7.2 \r\n\" style=\"fill:none;stroke:#b0b0b0;stroke-linecap:square;stroke-width:0.8;\"/>\r\n     </g>\r\n     <g id=\"line2d_14\">\r\n      <g>\r\n       <use style=\"stroke:#000000;stroke-width:0.8;\" x=\"293.461516\" xlink:href=\"#mc77175c540\" y=\"224.64\"/>\r\n      </g>\r\n     </g>\r\n     <g id=\"text_7\">\r\n      <!-- 0.50 -->\r\n      <g transform=\"translate(282.328703 239.238437)scale(0.1 -0.1)\">\r\n       <use xlink:href=\"#DejaVuSans-48\"/>\r\n       <use x=\"63.623047\" xlink:href=\"#DejaVuSans-46\"/>\r\n       <use x=\"95.410156\" xlink:href=\"#DejaVuSans-53\"/>\r\n       <use x=\"159.033203\" xlink:href=\"#DejaVuSans-48\"/>\r\n      </g>\r\n     </g>\r\n    </g>\r\n    <g id=\"xtick_8\">\r\n     <g id=\"line2d_15\">\r\n      <path clip-path=\"url(#p29bdcc4b58)\" d=\"M 332.886857 224.64 \r\nL 332.886857 7.2 \r\n\" style=\"fill:none;stroke:#b0b0b0;stroke-linecap:square;stroke-width:0.8;\"/>\r\n     </g>\r\n     <g id=\"line2d_16\">\r\n      <g>\r\n       <use style=\"stroke:#000000;stroke-width:0.8;\" x=\"332.886857\" xlink:href=\"#mc77175c540\" y=\"224.64\"/>\r\n      </g>\r\n     </g>\r\n     <g id=\"text_8\">\r\n      <!-- 0.75 -->\r\n      <g transform=\"translate(321.754045 239.238437)scale(0.1 -0.1)\">\r\n       <use xlink:href=\"#DejaVuSans-48\"/>\r\n       <use x=\"63.623047\" xlink:href=\"#DejaVuSans-46\"/>\r\n       <use x=\"95.410156\" xlink:href=\"#DejaVuSans-55\"/>\r\n       <use x=\"159.033203\" xlink:href=\"#DejaVuSans-53\"/>\r\n      </g>\r\n     </g>\r\n    </g>\r\n    <g id=\"xtick_9\">\r\n     <g id=\"line2d_17\">\r\n      <path clip-path=\"url(#p29bdcc4b58)\" d=\"M 372.312199 224.64 \r\nL 372.312199 7.2 \r\n\" style=\"fill:none;stroke:#b0b0b0;stroke-linecap:square;stroke-width:0.8;\"/>\r\n     </g>\r\n     <g id=\"line2d_18\">\r\n      <g>\r\n       <use style=\"stroke:#000000;stroke-width:0.8;\" x=\"372.312199\" xlink:href=\"#mc77175c540\" y=\"224.64\"/>\r\n      </g>\r\n     </g>\r\n     <g id=\"text_9\">\r\n      <!-- 1.00 -->\r\n      <g transform=\"translate(361.179386 239.238437)scale(0.1 -0.1)\">\r\n       <use xlink:href=\"#DejaVuSans-49\"/>\r\n       <use x=\"63.623047\" xlink:href=\"#DejaVuSans-46\"/>\r\n       <use x=\"95.410156\" xlink:href=\"#DejaVuSans-48\"/>\r\n       <use x=\"159.033203\" xlink:href=\"#DejaVuSans-48\"/>\r\n      </g>\r\n     </g>\r\n    </g>\r\n   </g>\r\n   <g id=\"matplotlib.axis_2\">\r\n    <g id=\"ytick_1\">\r\n     <g id=\"line2d_19\">\r\n      <path clip-path=\"url(#p29bdcc4b58)\" d=\"M 44.845313 216.753058 \r\nL 379.645313 216.753058 \r\n\" style=\"fill:none;stroke:#b0b0b0;stroke-linecap:square;stroke-width:0.8;\"/>\r\n     </g>\r\n     <g id=\"line2d_20\">\r\n      <defs>\r\n       <path d=\"M 0 0 \r\nL -3.5 0 \r\n\" id=\"mff32d552a6\" style=\"stroke:#000000;stroke-width:0.8;\"/>\r\n      </defs>\r\n      <g>\r\n       <use style=\"stroke:#000000;stroke-width:0.8;\" x=\"44.845313\" xlink:href=\"#mff32d552a6\" y=\"216.753058\"/>\r\n      </g>\r\n     </g>\r\n     <g id=\"text_10\">\r\n      <!-- −1.00 -->\r\n      <g transform=\"translate(7.2 220.552277)scale(0.1 -0.1)\">\r\n       <use xlink:href=\"#DejaVuSans-8722\"/>\r\n       <use x=\"83.789062\" xlink:href=\"#DejaVuSans-49\"/>\r\n       <use x=\"147.412109\" xlink:href=\"#DejaVuSans-46\"/>\r\n       <use x=\"179.199219\" xlink:href=\"#DejaVuSans-48\"/>\r\n       <use x=\"242.822266\" xlink:href=\"#DejaVuSans-48\"/>\r\n      </g>\r\n     </g>\r\n    </g>\r\n    <g id=\"ytick_2\">\r\n     <g id=\"line2d_21\">\r\n      <path clip-path=\"url(#p29bdcc4b58)\" d=\"M 44.845313 191.79438 \r\nL 379.645313 191.79438 \r\n\" style=\"fill:none;stroke:#b0b0b0;stroke-linecap:square;stroke-width:0.8;\"/>\r\n     </g>\r\n     <g id=\"line2d_22\">\r\n      <g>\r\n       <use style=\"stroke:#000000;stroke-width:0.8;\" x=\"44.845313\" xlink:href=\"#mff32d552a6\" y=\"191.79438\"/>\r\n      </g>\r\n     </g>\r\n     <g id=\"text_11\">\r\n      <!-- −0.75 -->\r\n      <g transform=\"translate(7.2 195.593599)scale(0.1 -0.1)\">\r\n       <use xlink:href=\"#DejaVuSans-8722\"/>\r\n       <use x=\"83.789062\" xlink:href=\"#DejaVuSans-48\"/>\r\n       <use x=\"147.412109\" xlink:href=\"#DejaVuSans-46\"/>\r\n       <use x=\"179.199219\" xlink:href=\"#DejaVuSans-55\"/>\r\n       <use x=\"242.822266\" xlink:href=\"#DejaVuSans-53\"/>\r\n      </g>\r\n     </g>\r\n    </g>\r\n    <g id=\"ytick_3\">\r\n     <g id=\"line2d_23\">\r\n      <path clip-path=\"url(#p29bdcc4b58)\" d=\"M 44.845313 166.835702 \r\nL 379.645313 166.835702 \r\n\" style=\"fill:none;stroke:#b0b0b0;stroke-linecap:square;stroke-width:0.8;\"/>\r\n     </g>\r\n     <g id=\"line2d_24\">\r\n      <g>\r\n       <use style=\"stroke:#000000;stroke-width:0.8;\" x=\"44.845313\" xlink:href=\"#mff32d552a6\" y=\"166.835702\"/>\r\n      </g>\r\n     </g>\r\n     <g id=\"text_12\">\r\n      <!-- −0.50 -->\r\n      <g transform=\"translate(7.2 170.634921)scale(0.1 -0.1)\">\r\n       <use xlink:href=\"#DejaVuSans-8722\"/>\r\n       <use x=\"83.789062\" xlink:href=\"#DejaVuSans-48\"/>\r\n       <use x=\"147.412109\" xlink:href=\"#DejaVuSans-46\"/>\r\n       <use x=\"179.199219\" xlink:href=\"#DejaVuSans-53\"/>\r\n       <use x=\"242.822266\" xlink:href=\"#DejaVuSans-48\"/>\r\n      </g>\r\n     </g>\r\n    </g>\r\n    <g id=\"ytick_4\">\r\n     <g id=\"line2d_25\">\r\n      <path clip-path=\"url(#p29bdcc4b58)\" d=\"M 44.845313 141.877025 \r\nL 379.645313 141.877025 \r\n\" style=\"fill:none;stroke:#b0b0b0;stroke-linecap:square;stroke-width:0.8;\"/>\r\n     </g>\r\n     <g id=\"line2d_26\">\r\n      <g>\r\n       <use style=\"stroke:#000000;stroke-width:0.8;\" x=\"44.845313\" xlink:href=\"#mff32d552a6\" y=\"141.877025\"/>\r\n      </g>\r\n     </g>\r\n     <g id=\"text_13\">\r\n      <!-- −0.25 -->\r\n      <g transform=\"translate(7.2 145.676244)scale(0.1 -0.1)\">\r\n       <use xlink:href=\"#DejaVuSans-8722\"/>\r\n       <use x=\"83.789062\" xlink:href=\"#DejaVuSans-48\"/>\r\n       <use x=\"147.412109\" xlink:href=\"#DejaVuSans-46\"/>\r\n       <use x=\"179.199219\" xlink:href=\"#DejaVuSans-50\"/>\r\n       <use x=\"242.822266\" xlink:href=\"#DejaVuSans-53\"/>\r\n      </g>\r\n     </g>\r\n    </g>\r\n    <g id=\"ytick_5\">\r\n     <g id=\"line2d_27\">\r\n      <path clip-path=\"url(#p29bdcc4b58)\" d=\"M 44.845313 116.918347 \r\nL 379.645313 116.918347 \r\n\" style=\"fill:none;stroke:#b0b0b0;stroke-linecap:square;stroke-width:0.8;\"/>\r\n     </g>\r\n     <g id=\"line2d_28\">\r\n      <g>\r\n       <use style=\"stroke:#000000;stroke-width:0.8;\" x=\"44.845313\" xlink:href=\"#mff32d552a6\" y=\"116.918347\"/>\r\n      </g>\r\n     </g>\r\n     <g id=\"text_14\">\r\n      <!-- 0.00 -->\r\n      <g transform=\"translate(15.579688 120.717566)scale(0.1 -0.1)\">\r\n       <use xlink:href=\"#DejaVuSans-48\"/>\r\n       <use x=\"63.623047\" xlink:href=\"#DejaVuSans-46\"/>\r\n       <use x=\"95.410156\" xlink:href=\"#DejaVuSans-48\"/>\r\n       <use x=\"159.033203\" xlink:href=\"#DejaVuSans-48\"/>\r\n      </g>\r\n     </g>\r\n    </g>\r\n    <g id=\"ytick_6\">\r\n     <g id=\"line2d_29\">\r\n      <path clip-path=\"url(#p29bdcc4b58)\" d=\"M 44.845313 91.959669 \r\nL 379.645313 91.959669 \r\n\" style=\"fill:none;stroke:#b0b0b0;stroke-linecap:square;stroke-width:0.8;\"/>\r\n     </g>\r\n     <g id=\"line2d_30\">\r\n      <g>\r\n       <use style=\"stroke:#000000;stroke-width:0.8;\" x=\"44.845313\" xlink:href=\"#mff32d552a6\" y=\"91.959669\"/>\r\n      </g>\r\n     </g>\r\n     <g id=\"text_15\">\r\n      <!-- 0.25 -->\r\n      <g transform=\"translate(15.579688 95.758888)scale(0.1 -0.1)\">\r\n       <use xlink:href=\"#DejaVuSans-48\"/>\r\n       <use x=\"63.623047\" xlink:href=\"#DejaVuSans-46\"/>\r\n       <use x=\"95.410156\" xlink:href=\"#DejaVuSans-50\"/>\r\n       <use x=\"159.033203\" xlink:href=\"#DejaVuSans-53\"/>\r\n      </g>\r\n     </g>\r\n    </g>\r\n    <g id=\"ytick_7\">\r\n     <g id=\"line2d_31\">\r\n      <path clip-path=\"url(#p29bdcc4b58)\" d=\"M 44.845313 67.000992 \r\nL 379.645313 67.000992 \r\n\" style=\"fill:none;stroke:#b0b0b0;stroke-linecap:square;stroke-width:0.8;\"/>\r\n     </g>\r\n     <g id=\"line2d_32\">\r\n      <g>\r\n       <use style=\"stroke:#000000;stroke-width:0.8;\" x=\"44.845313\" xlink:href=\"#mff32d552a6\" y=\"67.000992\"/>\r\n      </g>\r\n     </g>\r\n     <g id=\"text_16\">\r\n      <!-- 0.50 -->\r\n      <g transform=\"translate(15.579688 70.80021)scale(0.1 -0.1)\">\r\n       <use xlink:href=\"#DejaVuSans-48\"/>\r\n       <use x=\"63.623047\" xlink:href=\"#DejaVuSans-46\"/>\r\n       <use x=\"95.410156\" xlink:href=\"#DejaVuSans-53\"/>\r\n       <use x=\"159.033203\" xlink:href=\"#DejaVuSans-48\"/>\r\n      </g>\r\n     </g>\r\n    </g>\r\n    <g id=\"ytick_8\">\r\n     <g id=\"line2d_33\">\r\n      <path clip-path=\"url(#p29bdcc4b58)\" d=\"M 44.845313 42.042314 \r\nL 379.645313 42.042314 \r\n\" style=\"fill:none;stroke:#b0b0b0;stroke-linecap:square;stroke-width:0.8;\"/>\r\n     </g>\r\n     <g id=\"line2d_34\">\r\n      <g>\r\n       <use style=\"stroke:#000000;stroke-width:0.8;\" x=\"44.845313\" xlink:href=\"#mff32d552a6\" y=\"42.042314\"/>\r\n      </g>\r\n     </g>\r\n     <g id=\"text_17\">\r\n      <!-- 0.75 -->\r\n      <g transform=\"translate(15.579688 45.841533)scale(0.1 -0.1)\">\r\n       <use xlink:href=\"#DejaVuSans-48\"/>\r\n       <use x=\"63.623047\" xlink:href=\"#DejaVuSans-46\"/>\r\n       <use x=\"95.410156\" xlink:href=\"#DejaVuSans-55\"/>\r\n       <use x=\"159.033203\" xlink:href=\"#DejaVuSans-53\"/>\r\n      </g>\r\n     </g>\r\n    </g>\r\n    <g id=\"ytick_9\">\r\n     <g id=\"line2d_35\">\r\n      <path clip-path=\"url(#p29bdcc4b58)\" d=\"M 44.845313 17.083636 \r\nL 379.645313 17.083636 \r\n\" style=\"fill:none;stroke:#b0b0b0;stroke-linecap:square;stroke-width:0.8;\"/>\r\n     </g>\r\n     <g id=\"line2d_36\">\r\n      <g>\r\n       <use style=\"stroke:#000000;stroke-width:0.8;\" x=\"44.845313\" xlink:href=\"#mff32d552a6\" y=\"17.083636\"/>\r\n      </g>\r\n     </g>\r\n     <g id=\"text_18\">\r\n      <!-- 1.00 -->\r\n      <g transform=\"translate(15.579688 20.882855)scale(0.1 -0.1)\">\r\n       <use xlink:href=\"#DejaVuSans-49\"/>\r\n       <use x=\"63.623047\" xlink:href=\"#DejaVuSans-46\"/>\r\n       <use x=\"95.410156\" xlink:href=\"#DejaVuSans-48\"/>\r\n       <use x=\"159.033203\" xlink:href=\"#DejaVuSans-48\"/>\r\n      </g>\r\n     </g>\r\n    </g>\r\n   </g>\r\n   <g id=\"line2d_37\">\r\n    <defs>\r\n     <path d=\"M 0 -3 \r\nL -0.673542 -0.927051 \r\nL -2.85317 -0.927051 \r\nL -1.089814 0.354102 \r\nL -1.763356 2.427051 \r\nL -0 1.145898 \r\nL 1.763356 2.427051 \r\nL 1.089814 0.354102 \r\nL 2.85317 -0.927051 \r\nL 0.673542 -0.927051 \r\nz\r\n\" id=\"m42ab79004e\" style=\"stroke:#0000ff;stroke-linejoin:bevel;\"/>\r\n    </defs>\r\n    <g clip-path=\"url(#p29bdcc4b58)\">\r\n     <use style=\"fill:#0000ff;stroke:#0000ff;stroke-linejoin:bevel;\" x=\"280.845407\" xlink:href=\"#m42ab79004e\" y=\"157.850579\"/>\r\n    </g>\r\n   </g>\r\n   <g id=\"line2d_38\">\r\n    <g clip-path=\"url(#p29bdcc4b58)\">\r\n     <use style=\"fill:#0000ff;stroke:#0000ff;stroke-linejoin:bevel;\" x=\"345.502967\" xlink:href=\"#m42ab79004e\" y=\"132.891901\"/>\r\n    </g>\r\n   </g>\r\n   <g id=\"line2d_39\">\r\n    <g clip-path=\"url(#p29bdcc4b58)\">\r\n     <use style=\"fill:#0000ff;stroke:#0000ff;stroke-linejoin:bevel;\" x=\"165.72341\" xlink:href=\"#m42ab79004e\" y=\"74.987769\"/>\r\n    </g>\r\n   </g>\r\n   <g id=\"line2d_40\">\r\n    <g clip-path=\"url(#p29bdcc4b58)\">\r\n     <use style=\"fill:#0000ff;stroke:#0000ff;stroke-linejoin:bevel;\" x=\"113.681959\" xlink:href=\"#m42ab79004e\" y=\"62.009256\"/>\r\n    </g>\r\n   </g>\r\n   <g id=\"line2d_41\">\r\n    <g clip-path=\"url(#p29bdcc4b58)\">\r\n     <use style=\"fill:#0000ff;stroke:#0000ff;stroke-linejoin:bevel;\" x=\"181.493546\" xlink:href=\"#m42ab79004e\" y=\"185.804298\"/>\r\n    </g>\r\n   </g>\r\n   <g id=\"line2d_42\">\r\n    <g clip-path=\"url(#p29bdcc4b58)\">\r\n     <use style=\"fill:#0000ff;stroke:#0000ff;stroke-linejoin:bevel;\" x=\"159.415355\" xlink:href=\"#m42ab79004e\" y=\"25.070413\"/>\r\n    </g>\r\n   </g>\r\n   <g id=\"line2d_43\">\r\n    <g clip-path=\"url(#p29bdcc4b58)\">\r\n     <use style=\"fill:#0000ff;stroke:#0000ff;stroke-linejoin:bevel;\" x=\"211.456806\" xlink:href=\"#m42ab79004e\" y=\"195.787769\"/>\r\n    </g>\r\n   </g>\r\n   <g id=\"line2d_44\">\r\n    <g clip-path=\"url(#p29bdcc4b58)\">\r\n     <use style=\"fill:#0000ff;stroke:#0000ff;stroke-linejoin:bevel;\" x=\"200.41771\" xlink:href=\"#m42ab79004e\" y=\"68.997686\"/>\r\n    </g>\r\n   </g>\r\n   <g id=\"line2d_45\">\r\n    <g clip-path=\"url(#p29bdcc4b58)\">\r\n     <use style=\"fill:#0000ff;stroke:#0000ff;stroke-linejoin:bevel;\" x=\"213.033819\" xlink:href=\"#m42ab79004e\" y=\"25.070413\"/>\r\n    </g>\r\n   </g>\r\n   <g id=\"line2d_46\">\r\n    <g clip-path=\"url(#p29bdcc4b58)\">\r\n     <use style=\"fill:#0000ff;stroke:#0000ff;stroke-linejoin:bevel;\" x=\"269.806311\" xlink:href=\"#m42ab79004e\" y=\"92.958017\"/>\r\n    </g>\r\n   </g>\r\n   <g id=\"line2d_47\">\r\n    <defs>\r\n     <path d=\"M 0 -3 \r\nL -0.673542 -0.927051 \r\nL -2.85317 -0.927051 \r\nL -1.089814 0.354102 \r\nL -1.763356 2.427051 \r\nL -0 1.145898 \r\nL 1.763356 2.427051 \r\nL 1.089814 0.354102 \r\nL 2.85317 -0.927051 \r\nL 0.673542 -0.927051 \r\nz\r\n\" id=\"m8f28de8072\" style=\"stroke:#ff0000;stroke-linejoin:bevel;\"/>\r\n    </defs>\r\n    <g clip-path=\"url(#p29bdcc4b58)\">\r\n     <use style=\"fill:#ff0000;stroke:#ff0000;stroke-linejoin:bevel;\" x=\"116.835986\" xlink:href=\"#m8f28de8072\" y=\"205.77124\"/>\r\n    </g>\r\n   </g>\r\n   <g id=\"line2d_48\">\r\n    <g clip-path=\"url(#p29bdcc4b58)\">\r\n     <use style=\"fill:#0000ff;stroke:#0000ff;stroke-linejoin:bevel;\" x=\"208.302778\" xlink:href=\"#m42ab79004e\" y=\"67.000992\"/>\r\n    </g>\r\n   </g>\r\n   <g id=\"line2d_49\">\r\n    <g clip-path=\"url(#p29bdcc4b58)\">\r\n     <use style=\"fill:#ff0000;stroke:#ff0000;stroke-linejoin:bevel;\" x=\"99.488836\" xlink:href=\"#m8f28de8072\" y=\"47.03405\"/>\r\n    </g>\r\n   </g>\r\n   <g id=\"line2d_50\">\r\n    <g clip-path=\"url(#p29bdcc4b58)\">\r\n     <use style=\"fill:#0000ff;stroke:#0000ff;stroke-linejoin:bevel;\" x=\"345.502967\" xlink:href=\"#m42ab79004e\" y=\"119.913388\"/>\r\n    </g>\r\n   </g>\r\n   <g id=\"line2d_51\">\r\n    <g clip-path=\"url(#p29bdcc4b58)\">\r\n     <use style=\"fill:#ff0000;stroke:#ff0000;stroke-linejoin:bevel;\" x=\"97.911822\" xlink:href=\"#m8f28de8072\" y=\"34.055537\"/>\r\n    </g>\r\n   </g>\r\n   <g id=\"line2d_52\">\r\n    <g clip-path=\"url(#p29bdcc4b58)\">\r\n     <use style=\"fill:#ff0000;stroke:#ff0000;stroke-linejoin:bevel;\" x=\"90.026754\" xlink:href=\"#m8f28de8072\" y=\"209.764628\"/>\r\n    </g>\r\n   </g>\r\n   <g id=\"line2d_53\">\r\n    <g clip-path=\"url(#p29bdcc4b58)\">\r\n     <use style=\"fill:#0000ff;stroke:#0000ff;stroke-linejoin:bevel;\" x=\"295.03853\" xlink:href=\"#m42ab79004e\" y=\"62.009256\"/>\r\n    </g>\r\n   </g>\r\n   <g id=\"line2d_54\">\r\n    <g clip-path=\"url(#p29bdcc4b58)\">\r\n     <use style=\"fill:#0000ff;stroke:#0000ff;stroke-linejoin:bevel;\" x=\"255.613188\" xlink:href=\"#m42ab79004e\" y=\"143.873719\"/>\r\n    </g>\r\n   </g>\r\n   <g id=\"line2d_55\">\r\n    <g clip-path=\"url(#p29bdcc4b58)\">\r\n     <use style=\"fill:#ff0000;stroke:#ff0000;stroke-linejoin:bevel;\" x=\"343.925953\" xlink:href=\"#m8f28de8072\" y=\"24.072066\"/>\r\n    </g>\r\n   </g>\r\n   <g id=\"line2d_56\">\r\n    <g clip-path=\"url(#p29bdcc4b58)\">\r\n     <use style=\"fill:#0000ff;stroke:#0000ff;stroke-linejoin:bevel;\" x=\"246.151106\" xlink:href=\"#m42ab79004e\" y=\"77.98281\"/>\r\n    </g>\r\n   </g>\r\n   <g id=\"line2d_57\">\r\n    <g clip-path=\"url(#p29bdcc4b58)\">\r\n     <use style=\"fill:#0000ff;stroke:#0000ff;stroke-linejoin:bevel;\" x=\"77.410645\" xlink:href=\"#m42ab79004e\" y=\"109.929917\"/>\r\n    </g>\r\n   </g>\r\n   <g id=\"line2d_58\">\r\n    <g clip-path=\"url(#p29bdcc4b58)\">\r\n     <use style=\"fill:#0000ff;stroke:#0000ff;stroke-linejoin:bevel;\" x=\"301.346584\" xlink:href=\"#m42ab79004e\" y=\"47.03405\"/>\r\n    </g>\r\n   </g>\r\n   <g id=\"line2d_59\">\r\n    <g clip-path=\"url(#p29bdcc4b58)\">\r\n     <use style=\"fill:#0000ff;stroke:#0000ff;stroke-linejoin:bevel;\" x=\"157.838341\" xlink:href=\"#m42ab79004e\" y=\"196.786116\"/>\r\n    </g>\r\n   </g>\r\n   <g id=\"line2d_60\">\r\n    <g clip-path=\"url(#p29bdcc4b58)\">\r\n     <use style=\"fill:#0000ff;stroke:#0000ff;stroke-linejoin:bevel;\" x=\"200.41771\" xlink:href=\"#m42ab79004e\" y=\"43.040661\"/>\r\n    </g>\r\n   </g>\r\n   <g id=\"line2d_61\">\r\n    <g clip-path=\"url(#p29bdcc4b58)\">\r\n     <use style=\"fill:#0000ff;stroke:#0000ff;stroke-linejoin:bevel;\" x=\"157.838341\" xlink:href=\"#m42ab79004e\" y=\"111.926612\"/>\r\n    </g>\r\n   </g>\r\n   <g id=\"line2d_62\">\r\n    <g clip-path=\"url(#p29bdcc4b58)\">\r\n     <use style=\"fill:#0000ff;stroke:#0000ff;stroke-linejoin:bevel;\" x=\"131.029109\" xlink:href=\"#m42ab79004e\" y=\"34.055537\"/>\r\n    </g>\r\n   </g>\r\n   <g id=\"line2d_63\">\r\n    <g clip-path=\"url(#p29bdcc4b58)\">\r\n     <use style=\"fill:#0000ff;stroke:#0000ff;stroke-linejoin:bevel;\" x=\"260.344229\" xlink:href=\"#m42ab79004e\" y=\"198.78281\"/>\r\n    </g>\r\n   </g>\r\n   <g id=\"line2d_64\">\r\n    <g clip-path=\"url(#p29bdcc4b58)\">\r\n     <use style=\"fill:#0000ff;stroke:#0000ff;stroke-linejoin:bevel;\" x=\"268.229297\" xlink:href=\"#m42ab79004e\" y=\"33.05719\"/>\r\n    </g>\r\n   </g>\r\n   <g id=\"line2d_65\">\r\n    <g clip-path=\"url(#p29bdcc4b58)\">\r\n     <use style=\"fill:#ff0000;stroke:#ff0000;stroke-linejoin:bevel;\" x=\"255.613188\" xlink:href=\"#m8f28de8072\" y=\"214.756364\"/>\r\n    </g>\r\n   </g>\r\n   <g id=\"line2d_66\">\r\n    <g clip-path=\"url(#p29bdcc4b58)\">\r\n     <use style=\"fill:#0000ff;stroke:#0000ff;stroke-linejoin:bevel;\" x=\"160.992369\" xlink:href=\"#m42ab79004e\" y=\"128.898512\"/>\r\n    </g>\r\n   </g>\r\n   <g id=\"line2d_67\">\r\n    <g clip-path=\"url(#p29bdcc4b58)\">\r\n     <use style=\"fill:#0000ff;stroke:#0000ff;stroke-linejoin:bevel;\" x=\"225.649929\" xlink:href=\"#m42ab79004e\" y=\"127.900165\"/>\r\n    </g>\r\n   </g>\r\n   <g id=\"line2d_68\">\r\n    <g clip-path=\"url(#p29bdcc4b58)\">\r\n     <use style=\"fill:#0000ff;stroke:#0000ff;stroke-linejoin:bevel;\" x=\"179.916532\" xlink:href=\"#m42ab79004e\" y=\"133.890248\"/>\r\n    </g>\r\n   </g>\r\n   <g id=\"line2d_69\">\r\n    <g clip-path=\"url(#p29bdcc4b58)\">\r\n     <use style=\"fill:#0000ff;stroke:#0000ff;stroke-linejoin:bevel;\" x=\"151.530287\" xlink:href=\"#m42ab79004e\" y=\"54.022479\"/>\r\n    </g>\r\n   </g>\r\n   <g id=\"line2d_70\">\r\n    <g clip-path=\"url(#p29bdcc4b58)\">\r\n     <use style=\"fill:#0000ff;stroke:#0000ff;stroke-linejoin:bevel;\" x=\"208.302778\" xlink:href=\"#m42ab79004e\" y=\"182.809256\"/>\r\n    </g>\r\n   </g>\r\n   <g id=\"line2d_71\">\r\n    <g clip-path=\"url(#p29bdcc4b58)\">\r\n     <use style=\"fill:#0000ff;stroke:#0000ff;stroke-linejoin:bevel;\" x=\"162.569382\" xlink:href=\"#m42ab79004e\" y=\"111.926612\"/>\r\n    </g>\r\n   </g>\r\n   <g id=\"line2d_72\">\r\n    <g clip-path=\"url(#p29bdcc4b58)\">\r\n     <use style=\"fill:#0000ff;stroke:#0000ff;stroke-linejoin:bevel;\" x=\"108.950918\" xlink:href=\"#m42ab79004e\" y=\"174.822479\"/>\r\n    </g>\r\n   </g>\r\n   <g id=\"line2d_73\">\r\n    <g clip-path=\"url(#p29bdcc4b58)\">\r\n     <use style=\"fill:#0000ff;stroke:#0000ff;stroke-linejoin:bevel;\" x=\"124.721054\" xlink:href=\"#m42ab79004e\" y=\"96.951405\"/>\r\n    </g>\r\n   </g>\r\n   <g id=\"line2d_74\">\r\n    <g clip-path=\"url(#p29bdcc4b58)\">\r\n     <use style=\"fill:#0000ff;stroke:#0000ff;stroke-linejoin:bevel;\" x=\"238.266038\" xlink:href=\"#m42ab79004e\" y=\"180.812562\"/>\r\n    </g>\r\n   </g>\r\n   <g id=\"line2d_75\">\r\n    <g clip-path=\"url(#p29bdcc4b58)\">\r\n     <use style=\"fill:#ff0000;stroke:#ff0000;stroke-linejoin:bevel;\" x=\"60.063494\" xlink:href=\"#m8f28de8072\" y=\"95.953058\"/>\r\n    </g>\r\n   </g>\r\n   <g id=\"line2d_76\">\r\n    <g clip-path=\"url(#p29bdcc4b58)\">\r\n     <use style=\"fill:#0000ff;stroke:#0000ff;stroke-linejoin:bevel;\" x=\"350.234008\" xlink:href=\"#m42ab79004e\" y=\"154.855537\"/>\r\n    </g>\r\n   </g>\r\n   <g id=\"line2d_77\">\r\n    <g clip-path=\"url(#p29bdcc4b58)\">\r\n     <use style=\"fill:#0000ff;stroke:#0000ff;stroke-linejoin:bevel;\" x=\"75.833631\" xlink:href=\"#m42ab79004e\" y=\"79.979504\"/>\r\n    </g>\r\n   </g>\r\n   <g id=\"line2d_78\">\r\n    <g clip-path=\"url(#p29bdcc4b58)\">\r\n     <use style=\"fill:#0000ff;stroke:#0000ff;stroke-linejoin:bevel;\" x=\"302.923598\" xlink:href=\"#m42ab79004e\" y=\"153.85719\"/>\r\n    </g>\r\n   </g>\r\n   <g id=\"line2d_79\">\r\n    <g clip-path=\"url(#p29bdcc4b58)\">\r\n     <use style=\"fill:#0000ff;stroke:#0000ff;stroke-linejoin:bevel;\" x=\"93.180781\" xlink:href=\"#m42ab79004e\" y=\"72.991074\"/>\r\n    </g>\r\n   </g>\r\n   <g id=\"line2d_80\">\r\n    <g clip-path=\"url(#p29bdcc4b58)\">\r\n     <use style=\"fill:#0000ff;stroke:#0000ff;stroke-linejoin:bevel;\" x=\"113.681959\" xlink:href=\"#m42ab79004e\" y=\"97.949752\"/>\r\n    </g>\r\n   </g>\r\n   <g id=\"line2d_81\">\r\n    <g clip-path=\"url(#p29bdcc4b58)\">\r\n     <use style=\"fill:#0000ff;stroke:#0000ff;stroke-linejoin:bevel;\" x=\"189.378614\" xlink:href=\"#m42ab79004e\" y=\"93.956364\"/>\r\n    </g>\r\n   </g>\r\n   <g id=\"line2d_82\">\r\n    <g clip-path=\"url(#p29bdcc4b58)\">\r\n     <use style=\"fill:#0000ff;stroke:#0000ff;stroke-linejoin:bevel;\" x=\"306.077625\" xlink:href=\"#m42ab79004e\" y=\"78.981157\"/>\r\n    </g>\r\n   </g>\r\n   <g id=\"line2d_83\">\r\n    <g clip-path=\"url(#p29bdcc4b58)\">\r\n     <use style=\"fill:#0000ff;stroke:#0000ff;stroke-linejoin:bevel;\" x=\"282.42242\" xlink:href=\"#m42ab79004e\" y=\"92.958017\"/>\r\n    </g>\r\n   </g>\r\n   <g id=\"line2d_84\">\r\n    <g clip-path=\"url(#p29bdcc4b58)\">\r\n     <use style=\"fill:#0000ff;stroke:#0000ff;stroke-linejoin:bevel;\" x=\"250.882147\" xlink:href=\"#m42ab79004e\" y=\"173.824132\"/>\r\n    </g>\r\n   </g>\r\n   <g id=\"line2d_85\">\r\n    <g clip-path=\"url(#p29bdcc4b58)\">\r\n     <use style=\"fill:#0000ff;stroke:#0000ff;stroke-linejoin:bevel;\" x=\"220.918888\" xlink:href=\"#m42ab79004e\" y=\"162.842314\"/>\r\n    </g>\r\n   </g>\r\n   <g id=\"line2d_86\">\r\n    <g clip-path=\"url(#p29bdcc4b58)\">\r\n     <use style=\"fill:#0000ff;stroke:#0000ff;stroke-linejoin:bevel;\" x=\"183.07056\" xlink:href=\"#m42ab79004e\" y=\"155.853884\"/>\r\n    </g>\r\n   </g>\r\n   <g id=\"line2d_87\">\r\n    <g clip-path=\"url(#p29bdcc4b58)\">\r\n     <use style=\"fill:#0000ff;stroke:#0000ff;stroke-linejoin:bevel;\" x=\"235.112011\" xlink:href=\"#m42ab79004e\" y=\"196.786116\"/>\r\n    </g>\r\n   </g>\r\n   <g id=\"line2d_88\">\r\n    <g clip-path=\"url(#p29bdcc4b58)\">\r\n     <use style=\"fill:#0000ff;stroke:#0000ff;stroke-linejoin:bevel;\" x=\"268.229297\" xlink:href=\"#m42ab79004e\" y=\"150.862149\"/>\r\n    </g>\r\n   </g>\r\n   <g id=\"line2d_89\">\r\n    <g clip-path=\"url(#p29bdcc4b58)\">\r\n     <use style=\"fill:#0000ff;stroke:#0000ff;stroke-linejoin:bevel;\" x=\"342.348939\" xlink:href=\"#m42ab79004e\" y=\"96.951405\"/>\r\n    </g>\r\n   </g>\r\n   <g id=\"line2d_90\">\r\n    <g clip-path=\"url(#p29bdcc4b58)\">\r\n     <use style=\"fill:#0000ff;stroke:#0000ff;stroke-linejoin:bevel;\" x=\"194.109655\" xlink:href=\"#m42ab79004e\" y=\"140.878678\"/>\r\n    </g>\r\n   </g>\r\n   <g id=\"line2d_91\">\r\n    <g clip-path=\"url(#p29bdcc4b58)\">\r\n     <use style=\"fill:#ff0000;stroke:#ff0000;stroke-linejoin:bevel;\" x=\"63.217522\" xlink:href=\"#m8f28de8072\" y=\"77.98281\"/>\r\n    </g>\r\n   </g>\r\n   <g id=\"line2d_92\">\r\n    <g clip-path=\"url(#p29bdcc4b58)\">\r\n     <use style=\"fill:#0000ff;stroke:#0000ff;stroke-linejoin:bevel;\" x=\"266.652284\" xlink:href=\"#m42ab79004e\" y=\"208.766281\"/>\r\n    </g>\r\n   </g>\r\n   <g id=\"line2d_93\">\r\n    <g clip-path=\"url(#p29bdcc4b58)\">\r\n     <use style=\"fill:#0000ff;stroke:#0000ff;stroke-linejoin:bevel;\" x=\"135.76015\" xlink:href=\"#m42ab79004e\" y=\"38.048926\"/>\r\n    </g>\r\n   </g>\r\n   <g id=\"line2d_94\">\r\n    <g clip-path=\"url(#p29bdcc4b58)\">\r\n     <use style=\"fill:#0000ff;stroke:#0000ff;stroke-linejoin:bevel;\" x=\"214.610833\" xlink:href=\"#m42ab79004e\" y=\"214.756364\"/>\r\n    </g>\r\n   </g>\r\n   <g id=\"line2d_95\">\r\n    <g clip-path=\"url(#p29bdcc4b58)\">\r\n     <use style=\"fill:#0000ff;stroke:#0000ff;stroke-linejoin:bevel;\" x=\"337.617898\" xlink:href=\"#m42ab79004e\" y=\"143.873719\"/>\r\n    </g>\r\n   </g>\r\n   <g id=\"line2d_96\">\r\n    <g clip-path=\"url(#p29bdcc4b58)\">\r\n     <use style=\"fill:#0000ff;stroke:#0000ff;stroke-linejoin:bevel;\" x=\"220.918888\" xlink:href=\"#m42ab79004e\" y=\"172.825785\"/>\r\n    </g>\r\n   </g>\r\n   <g id=\"line2d_97\">\r\n    <g clip-path=\"url(#p29bdcc4b58)\">\r\n     <use style=\"fill:#0000ff;stroke:#0000ff;stroke-linejoin:bevel;\" x=\"241.420065\" xlink:href=\"#m42ab79004e\" y=\"26.06876\"/>\r\n    </g>\r\n   </g>\r\n   <g id=\"line2d_98\">\r\n    <g clip-path=\"url(#p29bdcc4b58)\">\r\n     <use style=\"fill:#0000ff;stroke:#0000ff;stroke-linejoin:bevel;\" x=\"195.686669\" xlink:href=\"#m42ab79004e\" y=\"114.921653\"/>\r\n    </g>\r\n   </g>\r\n   <g id=\"line2d_99\">\r\n    <g clip-path=\"url(#p29bdcc4b58)\">\r\n     <use style=\"fill:#0000ff;stroke:#0000ff;stroke-linejoin:bevel;\" x=\"127.875082\" xlink:href=\"#m42ab79004e\" y=\"40.04562\"/>\r\n    </g>\r\n   </g>\r\n   <g id=\"line2d_100\">\r\n    <g clip-path=\"url(#p29bdcc4b58)\">\r\n     <use style=\"fill:#0000ff;stroke:#0000ff;stroke-linejoin:bevel;\" x=\"126.298068\" xlink:href=\"#m42ab79004e\" y=\"183.807603\"/>\r\n    </g>\r\n   </g>\r\n   <g id=\"line2d_101\">\r\n    <g clip-path=\"url(#p29bdcc4b58)\">\r\n     <use style=\"fill:#0000ff;stroke:#0000ff;stroke-linejoin:bevel;\" x=\"137.337164\" xlink:href=\"#m42ab79004e\" y=\"76.984463\"/>\r\n    </g>\r\n   </g>\r\n   <g id=\"line2d_102\">\r\n    <g clip-path=\"url(#p29bdcc4b58)\">\r\n     <use style=\"fill:#ff0000;stroke:#ff0000;stroke-linejoin:bevel;\" x=\"86.872727\" xlink:href=\"#m8f28de8072\" y=\"35.053884\"/>\r\n    </g>\r\n   </g>\r\n   <g id=\"line2d_103\">\r\n    <g clip-path=\"url(#p29bdcc4b58)\">\r\n     <use style=\"fill:#0000ff;stroke:#0000ff;stroke-linejoin:bevel;\" x=\"235.112011\" xlink:href=\"#m42ab79004e\" y=\"210.762975\"/>\r\n    </g>\r\n   </g>\r\n   <g id=\"line2d_104\">\r\n    <g clip-path=\"url(#p29bdcc4b58)\">\r\n     <use style=\"fill:#0000ff;stroke:#0000ff;stroke-linejoin:bevel;\" x=\"168.877437\" xlink:href=\"#m42ab79004e\" y=\"117.916694\"/>\r\n    </g>\r\n   </g>\r\n   <g id=\"line2d_105\">\r\n    <g clip-path=\"url(#p29bdcc4b58)\">\r\n     <use style=\"fill:#0000ff;stroke:#0000ff;stroke-linejoin:bevel;\" x=\"154.684314\" xlink:href=\"#m42ab79004e\" y=\"179.814215\"/>\r\n    </g>\r\n   </g>\r\n   <g id=\"line2d_106\">\r\n    <g clip-path=\"url(#p29bdcc4b58)\">\r\n     <use style=\"fill:#0000ff;stroke:#0000ff;stroke-linejoin:bevel;\" x=\"154.684314\" xlink:href=\"#m42ab79004e\" y=\"126.901818\"/>\r\n    </g>\r\n   </g>\r\n   <g id=\"line2d_107\">\r\n    <g clip-path=\"url(#p29bdcc4b58)\">\r\n     <use style=\"fill:#0000ff;stroke:#0000ff;stroke-linejoin:bevel;\" x=\"222.495901\" xlink:href=\"#m42ab79004e\" y=\"213.758017\"/>\r\n    </g>\r\n   </g>\r\n   <g id=\"line2d_108\">\r\n    <g clip-path=\"url(#p29bdcc4b58)\">\r\n     <use style=\"fill:#0000ff;stroke:#0000ff;stroke-linejoin:bevel;\" x=\"247.72812\" xlink:href=\"#m42ab79004e\" y=\"102.941488\"/>\r\n    </g>\r\n   </g>\r\n   <g id=\"line2d_109\">\r\n    <g clip-path=\"url(#p29bdcc4b58)\">\r\n     <use style=\"fill:#0000ff;stroke:#0000ff;stroke-linejoin:bevel;\" x=\"116.835986\" xlink:href=\"#m42ab79004e\" y=\"43.040661\"/>\r\n    </g>\r\n   </g>\r\n   <g id=\"line2d_110\">\r\n    <g clip-path=\"url(#p29bdcc4b58)\">\r\n     <use style=\"fill:#0000ff;stroke:#0000ff;stroke-linejoin:bevel;\" x=\"285.576448\" xlink:href=\"#m42ab79004e\" y=\"131.893554\"/>\r\n    </g>\r\n   </g>\r\n   <g id=\"line2d_111\">\r\n    <g clip-path=\"url(#p29bdcc4b58)\">\r\n     <use style=\"fill:#0000ff;stroke:#0000ff;stroke-linejoin:bevel;\" x=\"192.532642\" xlink:href=\"#m42ab79004e\" y=\"67.999339\"/>\r\n    </g>\r\n   </g>\r\n   <g id=\"line2d_112\">\r\n    <g clip-path=\"url(#p29bdcc4b58)\">\r\n     <use style=\"fill:#0000ff;stroke:#0000ff;stroke-linejoin:bevel;\" x=\"194.109655\" xlink:href=\"#m42ab79004e\" y=\"89.962975\"/>\r\n    </g>\r\n   </g>\r\n   <g id=\"line2d_113\">\r\n    <g clip-path=\"url(#p29bdcc4b58)\">\r\n     <use style=\"fill:#0000ff;stroke:#0000ff;stroke-linejoin:bevel;\" x=\"230.38097\" xlink:href=\"#m42ab79004e\" y=\"73.989421\"/>\r\n    </g>\r\n   </g>\r\n   <g id=\"line2d_114\">\r\n    <g clip-path=\"url(#p29bdcc4b58)\">\r\n     <use style=\"fill:#0000ff;stroke:#0000ff;stroke-linejoin:bevel;\" x=\"112.104945\" xlink:href=\"#m42ab79004e\" y=\"138.881983\"/>\r\n    </g>\r\n   </g>\r\n   <g id=\"line2d_115\">\r\n    <g clip-path=\"url(#p29bdcc4b58)\">\r\n     <use style=\"fill:#0000ff;stroke:#0000ff;stroke-linejoin:bevel;\" x=\"102.642863\" xlink:href=\"#m42ab79004e\" y=\"139.880331\"/>\r\n    </g>\r\n   </g>\r\n   <g id=\"line2d_116\">\r\n    <g clip-path=\"url(#p29bdcc4b58)\">\r\n     <use style=\"fill:#0000ff;stroke:#0000ff;stroke-linejoin:bevel;\" x=\"252.459161\" xlink:href=\"#m42ab79004e\" y=\"149.863802\"/>\r\n    </g>\r\n   </g>\r\n   <g id=\"line2d_117\">\r\n    <g clip-path=\"url(#p29bdcc4b58)\">\r\n     <use style=\"fill:#0000ff;stroke:#0000ff;stroke-linejoin:bevel;\" x=\"317.116721\" xlink:href=\"#m42ab79004e\" y=\"147.867107\"/>\r\n    </g>\r\n   </g>\r\n   <g id=\"line2d_118\">\r\n    <g clip-path=\"url(#p29bdcc4b58)\">\r\n     <use style=\"fill:#0000ff;stroke:#0000ff;stroke-linejoin:bevel;\" x=\"168.877437\" xlink:href=\"#m42ab79004e\" y=\"46.035702\"/>\r\n    </g>\r\n   </g>\r\n   <g id=\"line2d_119\">\r\n    <g clip-path=\"url(#p29bdcc4b58)\">\r\n     <use style=\"fill:#0000ff;stroke:#0000ff;stroke-linejoin:bevel;\" x=\"347.07998\" xlink:href=\"#m42ab79004e\" y=\"119.913388\"/>\r\n    </g>\r\n   </g>\r\n   <g id=\"line2d_120\">\r\n    <g clip-path=\"url(#p29bdcc4b58)\">\r\n     <use style=\"fill:#ff0000;stroke:#ff0000;stroke-linejoin:bevel;\" x=\"340.771926\" xlink:href=\"#m8f28de8072\" y=\"204.772893\"/>\r\n    </g>\r\n   </g>\r\n   <g id=\"line2d_121\">\r\n    <g clip-path=\"url(#p29bdcc4b58)\">\r\n     <use style=\"fill:#0000ff;stroke:#0000ff;stroke-linejoin:bevel;\" x=\"214.610833\" xlink:href=\"#m42ab79004e\" y=\"73.989421\"/>\r\n    </g>\r\n   </g>\r\n   <g id=\"line2d_122\">\r\n    <g clip-path=\"url(#p29bdcc4b58)\">\r\n     <use style=\"fill:#0000ff;stroke:#0000ff;stroke-linejoin:bevel;\" x=\"181.493546\" xlink:href=\"#m42ab79004e\" y=\"84.97124\"/>\r\n    </g>\r\n   </g>\r\n   <g id=\"line2d_123\">\r\n    <g clip-path=\"url(#p29bdcc4b58)\">\r\n     <use style=\"fill:#0000ff;stroke:#0000ff;stroke-linejoin:bevel;\" x=\"217.76486\" xlink:href=\"#m42ab79004e\" y=\"142.875372\"/>\r\n    </g>\r\n   </g>\r\n   <g id=\"line2d_124\">\r\n    <g clip-path=\"url(#p29bdcc4b58)\">\r\n     <use style=\"fill:#ff0000;stroke:#ff0000;stroke-linejoin:bevel;\" x=\"348.656994\" xlink:href=\"#m8f28de8072\" y=\"186.802645\"/>\r\n    </g>\r\n   </g>\r\n   <g id=\"line2d_125\">\r\n    <g clip-path=\"url(#p29bdcc4b58)\">\r\n     <use style=\"fill:#0000ff;stroke:#0000ff;stroke-linejoin:bevel;\" x=\"233.534997\" xlink:href=\"#m42ab79004e\" y=\"100.944793\"/>\r\n    </g>\r\n   </g>\r\n   <g id=\"line2d_126\">\r\n    <g clip-path=\"url(#p29bdcc4b58)\">\r\n     <use style=\"fill:#0000ff;stroke:#0000ff;stroke-linejoin:bevel;\" x=\"261.921243\" xlink:href=\"#m42ab79004e\" y=\"89.962975\"/>\r\n    </g>\r\n   </g>\r\n   <g id=\"line2d_127\">\r\n    <g clip-path=\"url(#p29bdcc4b58)\">\r\n     <use style=\"fill:#0000ff;stroke:#0000ff;stroke-linejoin:bevel;\" x=\"315.539707\" xlink:href=\"#m42ab79004e\" y=\"98.948099\"/>\r\n    </g>\r\n   </g>\r\n   <g id=\"line2d_128\">\r\n    <g clip-path=\"url(#p29bdcc4b58)\">\r\n     <use style=\"fill:#0000ff;stroke:#0000ff;stroke-linejoin:bevel;\" x=\"345.502967\" xlink:href=\"#m42ab79004e\" y=\"142.875372\"/>\r\n    </g>\r\n   </g>\r\n   <g id=\"line2d_129\">\r\n    <g clip-path=\"url(#p29bdcc4b58)\">\r\n     <use style=\"fill:#ff0000;stroke:#ff0000;stroke-linejoin:bevel;\" x=\"64.794535\" xlink:href=\"#m8f28de8072\" y=\"174.822479\"/>\r\n    </g>\r\n   </g>\r\n   <g id=\"line2d_130\">\r\n    <g clip-path=\"url(#p29bdcc4b58)\">\r\n     <use style=\"fill:#0000ff;stroke:#0000ff;stroke-linejoin:bevel;\" x=\"195.686669\" xlink:href=\"#m42ab79004e\" y=\"153.85719\"/>\r\n    </g>\r\n   </g>\r\n   <g id=\"line2d_131\">\r\n    <g clip-path=\"url(#p29bdcc4b58)\">\r\n     <use style=\"fill:#0000ff;stroke:#0000ff;stroke-linejoin:bevel;\" x=\"190.955628\" xlink:href=\"#m42ab79004e\" y=\"90.961322\"/>\r\n    </g>\r\n   </g>\r\n   <g id=\"line2d_132\">\r\n    <g clip-path=\"url(#p29bdcc4b58)\">\r\n     <use style=\"fill:#ff0000;stroke:#ff0000;stroke-linejoin:bevel;\" x=\"364.427131\" xlink:href=\"#m8f28de8072\" y=\"170.829091\"/>\r\n    </g>\r\n   </g>\r\n   <g id=\"line2d_133\">\r\n    <g clip-path=\"url(#p29bdcc4b58)\">\r\n     <use style=\"fill:#0000ff;stroke:#0000ff;stroke-linejoin:bevel;\" x=\"307.654639\" xlink:href=\"#m42ab79004e\" y=\"119.913388\"/>\r\n    </g>\r\n   </g>\r\n   <g id=\"line2d_134\">\r\n    <g clip-path=\"url(#p29bdcc4b58)\">\r\n     <use style=\"fill:#0000ff;stroke:#0000ff;stroke-linejoin:bevel;\" x=\"197.263683\" xlink:href=\"#m42ab79004e\" y=\"104.938182\"/>\r\n    </g>\r\n   </g>\r\n   <g id=\"line2d_135\">\r\n    <g clip-path=\"url(#p29bdcc4b58)\">\r\n     <use style=\"fill:#ff0000;stroke:#ff0000;stroke-linejoin:bevel;\" x=\"231.957983\" xlink:href=\"#m8f28de8072\" y=\"17.083636\"/>\r\n    </g>\r\n   </g>\r\n   <g id=\"line2d_136\">\r\n    <g clip-path=\"url(#p29bdcc4b58)\">\r\n     <use style=\"fill:#0000ff;stroke:#0000ff;stroke-linejoin:bevel;\" x=\"206.725765\" xlink:href=\"#m42ab79004e\" y=\"169.830744\"/>\r\n    </g>\r\n   </g>\r\n   <g id=\"patch_3\">\r\n    <path d=\"M 44.845313 224.64 \r\nL 44.845313 7.2 \r\n\" style=\"fill:none;stroke:#000000;stroke-linecap:square;stroke-linejoin:miter;stroke-width:0.8;\"/>\r\n   </g>\r\n   <g id=\"patch_4\">\r\n    <path d=\"M 379.645313 224.64 \r\nL 379.645313 7.2 \r\n\" style=\"fill:none;stroke:#000000;stroke-linecap:square;stroke-linejoin:miter;stroke-width:0.8;\"/>\r\n   </g>\r\n   <g id=\"patch_5\">\r\n    <path d=\"M 44.845312 224.64 \r\nL 379.645313 224.64 \r\n\" style=\"fill:none;stroke:#000000;stroke-linecap:square;stroke-linejoin:miter;stroke-width:0.8;\"/>\r\n   </g>\r\n   <g id=\"patch_6\">\r\n    <path d=\"M 44.845312 7.2 \r\nL 379.645313 7.2 \r\n\" style=\"fill:none;stroke:#000000;stroke-linecap:square;stroke-linejoin:miter;stroke-width:0.8;\"/>\r\n   </g>\r\n  </g>\r\n </g>\r\n <defs>\r\n  <clipPath id=\"p29bdcc4b58\">\r\n   <rect height=\"217.44\" width=\"334.8\" x=\"44.845313\" y=\"7.2\"/>\r\n  </clipPath>\r\n </defs>\r\n</svg>\r\n",
      "image/png": "[encoded data removed]"
     },
     "metadata": {
      "needs_background": "light"
     }
    }
   ]
  },
  {
   "cell_type": "code",
   "execution_count": 3,
   "metadata": {},
   "outputs": [
    {
     "output_type": "error",
     "ename": "SyntaxError",
     "evalue": "EOL while scanning string literal (<ipython-input-3-233fc55020b3>, line 29)",
     "traceback": [
      "\u001b[1;36m  File \u001b[1;32m\"<ipython-input-3-233fc55020b3>\"\u001b[1;36m, line \u001b[1;32m29\u001b[0m\n\u001b[1;33m    print(f\")\u001b[0m\n\u001b[1;37m             ^\u001b[0m\n\u001b[1;31mSyntaxError\u001b[0m\u001b[1;31m:\u001b[0m EOL while scanning string literal\n"
     ]
    }
   ],
   "source": [
    "#Uppgift 1g\n",
    "import random as rnd#Importerar random för att senare kunna få slumpade värden.\n",
    "import matplotlib.pyplot as plt #Importerar graf för att kunne se alla punkter.\n",
    "import math\n",
    "\n",
    "\n",
    "a = float(input(\"Ange en radie\"))\n",
    "\n",
    "n = 0\n",
    "\n",
    "for i in range(0,1000): # vilkoren ska upprepas 100 gånger\n",
    "    x = round(random.uniform(-1,1),2)#Gör en variabel(x). Round = avrundning. Random.uniform betyder att vi vill få ett slumpvist värde mellan -1 och 1. ,2 betyder att vi vill ha 2 decimaler när vi avrundar.\n",
    "    y = round(random.uniform(-1,1),2)\n",
    "    if math.sqrt(x**2+y**2) <= a: #Om en punkt är innuti 1 l.e från origa så ska följande vilkor uppfyllas.\n",
    "        plt.plot(x,y, '*b') #plottar, x,y med färgen röd om ovanstående vilkor stämmer.\n",
    "        n += 1\n",
    "    else: #Om punkten ligger utanför 1 l.e från origo so ska följande vilkor upfyllas.\n",
    "        plt.plot(x,y, '*r') #plottar, x,y med färgen grön\n",
    "\n",
    "b = (a**2)*3.14 #Tar reda på cirkelns area\n",
    "d = b / 4  # Tar reda på hur stor del av grafen som cirkeln täcker\n",
    "\n",
    "\n",
    "\n",
    "print(f\"Arean på cirkeln när radien är {a} är: {b}\")\n",
    "print(f\"Arean på grafen är 4\")\n",
    "print(f\"Cirkeln täcker: {d} av grafen\")\n",
    "print(f\"Chansen att en punkt kommer inuti cirkeln är:\", (d*100), \"%\")\n",
    "print(f\")\n",
    "plt.grid()#Får rutnätet \n",
    "plt.show()#För att se grafen.\n",
    "\n",
    "#Så stor andel som cirkeln täcker utav grafen är chansen att en punkt hamnar innuti cirkeln!\n",
    "\n",
    "#Slutsatsen som man kan dra av detta är att så länge som förhållandet mellan grafen och cirkeln är lika stor så kommer andelen punkter inutti cirkeln vara runt 78,5%. pi / 4 = 78,5. Oavsett hur många prickar du simmulerar så kommer svaret alltid attt närma sig värdet för pi! och ju fler prickar du simmulerar desto mer exakt svar kommer du att få.\n",
    "\n",
    "#Arean på grafen = 4. Arean på cirkeln = pi*1^2 = pi. Om man då ska ta reda på hur stor del av grafen som cirkeln täcker så tar man pi / 4 eftersom detta var båda areorna. pi / 4 = 0,785 = 78,5% och just därför så brukar andelen prickar inuti cirkeln ligga på cirka 78,5%. Så med detta så kan amn säga att chansen att en prick hamnar inuti cirkeln är i detta fallet cirka 78,5% chans.\n",
    "\n"
   ]
  },
  {
   "cell_type": "code",
   "execution_count": null,
   "metadata": {},
   "outputs": [],
   "source": []
  }
 ]
}