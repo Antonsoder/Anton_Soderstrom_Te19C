{
 "metadata": {
  "language_info": {
   "codemirror_mode": {
    "name": "ipython",
    "version": 3
   },
   "file_extension": ".py",
   "mimetype": "text/x-python",
   "name": "python",
   "nbconvert_exporter": "python",
   "pygments_lexer": "ipython3",
   "version": "3.8.3-final"
  },
  "orig_nbformat": 2,
  "kernelspec": {
   "name": "python_defaultSpec_1600716005852",
   "display_name": "Python 3.8.3 64-bit ('base': conda)"
  }
 },
 "nbformat": 4,
 "nbformat_minor": 2,
 "cells": [
  {
   "cell_type": "code",
   "execution_count": 9,
   "metadata": {
    "tags": []
   },
   "outputs": [
    {
     "output_type": "stream",
     "name": "stdout",
     "text": "Ditt tal är ett jämnt tal!\n"
    }
   ],
   "source": [
    "# Uppgift 1\n",
    "\n",
    "\n",
    "x = float(input(\"Ange ett possitivt heltal:\"))\n",
    "\n",
    "if x%2 == 0:\n",
    "    print(\"Ditt tal är ett jämnt tal!\")\n",
    "else:\n",
    "    print(\"Ditt tal är ett udda tal!\")\n"
   ]
  },
  {
   "cell_type": "code",
   "execution_count": 41,
   "metadata": {
    "tags": []
   },
   "outputs": [
    {
     "output_type": "stream",
     "name": "stdout",
     "text": "DU har angivit ett felatkigt värde\n"
    }
   ],
   "source": [
    "# Uppgift 4\n",
    "\n",
    "v = float(input(\"Ange en vinkels gradtal:\"))\n",
    "\n",
    "if v == 360:\n",
    "    print(\"Din vinkel är hel!\")\n",
    "elif v > 180 and v < 360:\n",
    "    print(\"Din vinkel är konvex!\")\n",
    "elif v > 0 and v < 90:\n",
    "    print(\"Din vinkel är spetsig!\")\n",
    "elif v > 90 and v < 180:\n",
    "    print(\"Din vinkel är trubbig!\")\n",
    "elif v == 180:\n",
    "    print(\"Din vinkel är rak!\")\n",
    "elif v == 90:\n",
    "    print(\"Din vinkel är rät!\")\n",
    "else:\n",
    "    print(\"DU har angivit ett felaktigt värde\")\n",
    "\n"
   ]
  },
  {
   "cell_type": "code",
   "execution_count": 32,
   "metadata": {
    "tags": []
   },
   "outputs": [
    {
     "output_type": "stream",
     "name": "stdout",
     "text": "Ditt största värde är 6.0\n"
    }
   ],
   "source": [
    "# Uppgift 3\n",
    "\n",
    "x = float(input(\"Mata in ditt första värde\"))\n",
    "\n",
    "y = float(input(\"Mata in ditt andra värde\"))\n",
    "\n",
    "if x > y:\n",
    "    print(f\"Det största värdet är {x}\")\n",
    "else:\n",
    "    print(f\"Ditt största värde är {y}\")"
   ]
  },
  {
   "cell_type": "code",
   "execution_count": 35,
   "metadata": {
    "tags": []
   },
   "outputs": [
    {
     "output_type": "stream",
     "name": "stdout",
     "text": "Din kordinat i kordinatsystemet ligger i kvadrant 3\n"
    }
   ],
   "source": [
    "# Uppgift 7\n",
    "\n",
    "x = float(input(\"Mata in ett x-värde\"))\n",
    "\n",
    "y = float(input(\"Mata in ett y-värde\"))\n",
    "\n",
    "if x > 0 and y > 0:\n",
    "    print(\"Din kordinat i kordinatsystemet ligger i kvadrant 1\")\n",
    "elif x > 0 and y < 0:\n",
    "    print(\"Din kordinat i kordinatsystemet ligger i kvadrant 2\")\n",
    "elif x < 0 and y > 0:\n",
    "    print(\"Din kordinat i kordinatsystemet ligger i kvadrant 4\")\n",
    "else:\n",
    "    print(\"Din kordinat i kordinatsystemet ligger i kvadrant 3\")\n"
   ]
  },
  {
   "cell_type": "code",
   "execution_count": null,
   "metadata": {},
   "outputs": [],
   "source": []
  }
 ]
}